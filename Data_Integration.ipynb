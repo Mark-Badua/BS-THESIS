{
 "cells": [
  {
   "cell_type": "markdown",
   "id": "22131673-f583-413f-aedf-838d3e68b42f",
   "metadata": {
    "tags": []
   },
   "source": [
    "# Source Code"
   ]
  },
  {
   "cell_type": "markdown",
   "id": "8ce47054-7792-4118-86e0-12ee4c1d0958",
   "metadata": {},
   "source": [
    "In this notebook, I will be documenting the entire coding process involved in my thesis -- from data preprocessing to the production of figures. I will also include discussions of methodology and results in this notebook."
   ]
  },
  {
   "cell_type": "markdown",
   "id": "7e001c38-11b5-4f74-9b7b-4d4aded3e059",
   "metadata": {
    "jp-MarkdownHeadingCollapsed": true,
    "tags": []
   },
   "source": [
    "## Data Integration"
   ]
  },
  {
   "cell_type": "markdown",
   "id": "57ad116e-ae16-4418-89e5-8066f788ae5b",
   "metadata": {},
   "source": [
    "This section shows the process of merging all the measurements obtained from the air quality monitor at the Lung Center of the Philippines into one CSV file. "
   ]
  },
  {
   "cell_type": "markdown",
   "id": "137ae71f-41f1-4b4e-8b50-b6cc4d1324b2",
   "metadata": {
    "jp-MarkdownHeadingCollapsed": true,
    "tags": []
   },
   "source": [
    "### Path to raw data"
   ]
  },
  {
   "cell_type": "markdown",
   "id": "81e34608-59e2-4a42-ade8-4ed6b2b80c73",
   "metadata": {},
   "source": [
    "The data can be found inside `/cxnfs/Mark/Data/compressed_data`. Inside the directory are compressed files containing the air quality measurements. The names of the compressed files are the following:"
   ]
  },
  {
   "cell_type": "code",
   "execution_count": 4,
   "id": "8939c6fe-1bfa-4aad-8c85-e2774219902b",
   "metadata": {
    "tags": []
   },
   "outputs": [
    {
     "name": "stdout",
     "output_type": "stream",
     "text": [
      "01.01.2020.tar.gz  08.04.2020.tar.gz  16.02.2020.tar.gz  24.01.2020.tar.gz\n",
      "01.02.2020.tar.gz  08.05.2020.tar.gz  16.03.2020.tar.gz  24.02.2020.tar.gz\n",
      "01.03.2020.tar.gz  08.07.2020.tar.gz  16.04.2020.tar.gz  24.03.2020.tar.gz\n",
      "01.04.2020.tar.gz  09.01.2020.tar.gz  16.05.2020.tar.gz  24.04.2020.tar.gz\n",
      "01.05.2020.tar.gz  09.02.2020.tar.gz  16.06.2020.tar.gz  25.01.2020.tar.gz\n",
      "01.07.2020.tar.gz  09.03.2020.tar.gz  17.01.2020.tar.gz  25.02.2020.tar.gz\n",
      "02.01.2020.tar.gz  09.04.2020.tar.gz  17.02.2020.tar.gz  25.03.2020.tar.gz\n",
      "02.02.2020.tar.gz  09.05.2020.tar.gz  17.03.2020.tar.gz  25.04.2020.tar.gz\n",
      "02.03.2020.tar.gz  09.07.2020.tar.gz  17.04.2020.tar.gz  25.06.2020.tar.gz\n",
      "02.04.2020.tar.gz  10.01.2020.tar.gz  17.05.2020.tar.gz  26.01.2020.tar.gz\n",
      "02.05.2020.tar.gz  10.02.2020.tar.gz  17.06.2020.tar.gz  26.02.2020.tar.gz\n",
      "02.07.2020.tar.gz  10.03.2020.tar.gz  18.02.2020.tar.gz  26.03.2020.tar.gz\n",
      "03.01.2020.tar.gz  10.04.2020.tar.gz  18.03.2020.tar.gz  26.04.2020.tar.gz\n",
      "03.02.2020.tar.gz  10.05.2020.tar.gz  18.04.2020.tar.gz  26.05.2020.tar.gz\n",
      "03.03.2020.tar.gz  10.06.2020.tar.gz  18.05.2020.tar.gz  26.06.2020.tar.gz\n",
      "03.04.2020.tar.gz  10.07.2020.tar.gz  18.06.2020.tar.gz  27.01.2020.tar.gz\n",
      "03.05.2020.tar.gz  11.01.2020.tar.gz  19.01.2020.tar.gz  27.02.2020.tar.gz\n",
      "03.07.2020.tar.gz  11.02.2020.tar.gz  19.02.2020.tar.gz  27.03.2020.tar.gz\n",
      "04.01.2020.tar.gz  11.03.2020.tar.gz  19.03.2020.tar.gz  27.04.2020.tar.gz\n",
      "04.02.2020.tar.gz  11.04.2020.tar.gz  19.04.2020.tar.gz  27.05.2020.tar.gz\n",
      "04.03.2020.tar.gz  11.05.2020.tar.gz  19.05.2020.tar.gz  27.06.2020.tar.gz\n",
      "04.04.2020.tar.gz  12.01.2020.tar.gz  19.06.2020.tar.gz  28.01.2020.tar.gz\n",
      "04.05.2020.tar.gz  12.02.2020.tar.gz  20.01.2020.tar.gz  28.02.2020.tar.gz\n",
      "04.07.2020.tar.gz  12.03.2020.tar.gz  20.02.2020.tar.gz  28.03.2020.tar.gz\n",
      "05.01.2020.tar.gz  12.04.2020.tar.gz  20.03.2020.tar.gz  28.04.2020.tar.gz\n",
      "05.02.2020.tar.gz  12.05.2020.tar.gz  20.04.2020.tar.gz  28.06.2020.tar.gz\n",
      "05.03.2020.tar.gz  12.06.2020.tar.gz  20.05.2020.tar.gz  28.12.2019.txt\n",
      "05.04.2020.tar.gz  13.01.2020.tar.gz  20.06.2020.tar.gz  29.01.2020.tar.gz\n",
      "05.05.2020.tar.gz  13.02.2020.tar.gz  21.01.2020.tar.gz  29.02.2020.tar.gz\n",
      "05.07.2020.tar.gz  13.03.2020.tar.gz  21.02.2020.tar.gz  29.03.2020.tar.gz\n",
      "06.01.2020.tar.gz  13.04.2020.tar.gz  21.03.2020.tar.gz  29.04.2020.tar.gz\n",
      "06.02.2020.tar.gz  13.05.2020.tar.gz  21.04.2020.tar.gz  29.05.2020.tar.gz\n",
      "06.03.2020.tar.gz  13.06.2020.tar.gz  21.05.2020.tar.gz  29.06.2020.tar.gz\n",
      "06.04.2020.tar.gz  14.01.2020.tar.gz  21.06.2020.tar.gz  29.12.2019.tar.gz\n",
      "06.05.2020.tar.gz  14.02.2020.tar.gz  22.01.2020.tar.gz  29.12.2019.txt\n",
      "06.07.2020.tar.gz  14.03.2020.tar.gz  22.02.2020.tar.gz  30.01.2020.tar.gz\n",
      "07.01.2020.tar.gz  14.04.2020.tar.gz  22.03.2020.tar.gz  30.03.2020.tar.gz\n",
      "07.02.2020.tar.gz  14.05.2020.tar.gz  22.04.2020.tar.gz  30.04.2020.tar.gz\n",
      "07.03.2020.tar.gz  15.01.2020.tar.gz  22.05.2020.tar.gz  30.05.2020.tar.gz\n",
      "07.04.2020.tar.gz  15.02.2020.tar.gz  22.06.2020.tar.gz  30.06.2020.tar.gz\n",
      "07.05.2020.tar.gz  15.03.2020.tar.gz  23.01.2020.tar.gz  30.12.2019.tar.gz\n",
      "07.07.2020.tar.gz  15.04.2020.tar.gz  23.02.2020.tar.gz  31.03.2020.tar.gz\n",
      "08.01.2020.tar.gz  15.05.2020.tar.gz  23.03.2020.tar.gz  31.05.2020.tar.gz\n",
      "08.02.2020.tar.gz  15.06.2020.tar.gz  23.04.2020.tar.gz  31.12.2019.tar.gz\n",
      "08.03.2020.tar.gz  16.01.2020.tar.gz  23.06.2020.tar.gz\n"
     ]
    }
   ],
   "source": [
    "!ls /cxnfs/Mark/Data/compressed_data"
   ]
  },
  {
   "cell_type": "markdown",
   "id": "df3a8db1-3564-4bab-af25-cbbc93a2b1ab",
   "metadata": {},
   "source": [
    "In total, there are 179 files. Observe above that we can classify the files by their file extensions -- `tar.gz` and `.txt`"
   ]
  },
  {
   "cell_type": "code",
   "execution_count": 13,
   "id": "37c1a7e2-1731-49f6-b4f1-240984c3d36d",
   "metadata": {
    "tags": []
   },
   "outputs": [
    {
     "name": "stdout",
     "output_type": "stream",
     "text": [
      "179\n"
     ]
    }
   ],
   "source": [
    "!ls /cxnfs/Mark/Data/compressed_data | wc -l "
   ]
  },
  {
   "cell_type": "markdown",
   "id": "0912a8c5-1bc3-468d-a0c5-7044b1f7b8d6",
   "metadata": {},
   "source": [
    "2 out of the 179 files have `.txt` extensions."
   ]
  },
  {
   "cell_type": "code",
   "execution_count": 30,
   "id": "32755589-71f0-4892-8a91-6efe5e9b2747",
   "metadata": {
    "tags": []
   },
   "outputs": [
    {
     "name": "stdout",
     "output_type": "stream",
     "text": [
      "2\n"
     ]
    }
   ],
   "source": [
    "!ls /cxnfs/Mark/Data/compressed_data/*txt | wc -l "
   ]
  },
  {
   "cell_type": "markdown",
   "id": "b177d2df-b6d9-44d6-801a-635aa205f5ef",
   "metadata": {},
   "source": [
    "While the 177 remaining files have `tar.gz` extensions."
   ]
  },
  {
   "cell_type": "code",
   "execution_count": 32,
   "id": "53a9a478-70f7-4953-be7a-a1b65850d8b8",
   "metadata": {
    "tags": []
   },
   "outputs": [
    {
     "name": "stdout",
     "output_type": "stream",
     "text": [
      "177\n"
     ]
    }
   ],
   "source": [
    "!ls /cxnfs/Mark/Data/compressed_data/*.gz | wc -l "
   ]
  },
  {
   "cell_type": "markdown",
   "id": "707ced0e-3229-40b9-84d0-69c6a16490b9",
   "metadata": {
    "jp-MarkdownHeadingCollapsed": true,
    "tags": []
   },
   "source": [
    "### Unzipping compressed files to another directory"
   ]
  },
  {
   "cell_type": "markdown",
   "id": "b6ab0af0-bca9-46b9-b7b8-974b3ff607d5",
   "metadata": {},
   "source": [
    "Now, let us unzip the files with `tar.gz` extension to a folder we will name as `uncompressed_data` -- which will also be found at `/cxnfs/Mark/Data/`. But first, let us create `uncompressed_data`. "
   ]
  },
  {
   "cell_type": "code",
   "execution_count": 23,
   "id": "c880ee23-573f-46a6-9824-850fb632f5cf",
   "metadata": {
    "tags": []
   },
   "outputs": [],
   "source": [
    "! mkdir /cxnfs/Mark/Data/uncompressed_data "
   ]
  },
  {
   "cell_type": "markdown",
   "id": "2f85f530-69a5-48cd-998a-db4186dc635d",
   "metadata": {},
   "source": [
    "Then, we extract the compressed files. We can print out the status of extracting each file by modifying `xzf` to `xzvf` in the cell below this. However, in this case we choose not so as to not crash the notebook. If you choose to print out each iteration of the extraction, perform the command below in a terminal."
   ]
  },
  {
   "cell_type": "code",
   "execution_count": 25,
   "id": "906f1648-1630-4a5e-847f-2571ae9f14a6",
   "metadata": {
    "tags": []
   },
   "outputs": [],
   "source": [
    "!for i in /cxnfs/Mark/Data/compressed_data/*.gz; do tar -xzf \"$i\" -C /cxnfs/Mark/Data/uncompressed_data ; done"
   ]
  },
  {
   "cell_type": "markdown",
   "id": "d793012b-6d42-42a6-b1d0-dc4dd0b04b97",
   "metadata": {},
   "source": [
    "Observe that we have extracted 176 folders from 177 `tar.gz` files."
   ]
  },
  {
   "cell_type": "code",
   "execution_count": 30,
   "id": "95a1833f-e64b-481c-a93d-4350ffa65d6a",
   "metadata": {
    "tags": []
   },
   "outputs": [
    {
     "name": "stdout",
     "output_type": "stream",
     "text": [
      "176\n"
     ]
    }
   ],
   "source": [
    "! ls /cxnfs/Mark/Data/uncompressed_data | wc -l"
   ]
  },
  {
   "cell_type": "markdown",
   "id": "1f8939b4-a5a1-4da1-be2c-cb9c32a65d48",
   "metadata": {},
   "source": [
    "This is because `10.06.2020.tar.gz` do not contain directories or files when unzipped -- observe below that it only has 45 bytes."
   ]
  },
  {
   "cell_type": "code",
   "execution_count": 34,
   "id": "05541fab-11cd-4761-b9b0-cc819b808b1b",
   "metadata": {
    "tags": []
   },
   "outputs": [
    {
     "name": "stdout",
     "output_type": "stream",
     "text": [
      "-rw-r--r-- 2 jovyan users 281K Jun 14  2022 /cxnfs/Mark/Data/compressed_data/01.01.2020.tar.gz\n",
      "-rw-r--r-- 2 jovyan users 282K Jun 14  2022 /cxnfs/Mark/Data/compressed_data/01.02.2020.tar.gz\n",
      "-rw-r--r-- 2 jovyan users 277K Jun 14  2022 /cxnfs/Mark/Data/compressed_data/01.03.2020.tar.gz\n",
      "-rw-r--r-- 2 jovyan users 274K Jun 14  2022 /cxnfs/Mark/Data/compressed_data/01.04.2020.tar.gz\n",
      "-rw-r--r-- 2 jovyan users 276K Jun 14  2022 /cxnfs/Mark/Data/compressed_data/01.05.2020.tar.gz\n",
      "-rw-r--r-- 2 jovyan users 276K Jun 14  2022 /cxnfs/Mark/Data/compressed_data/01.07.2020.tar.gz\n",
      "-rw-r--r-- 2 jovyan users 279K Jun 14  2022 /cxnfs/Mark/Data/compressed_data/02.01.2020.tar.gz\n",
      "-rw-r--r-- 2 jovyan users 277K Jun 14  2022 /cxnfs/Mark/Data/compressed_data/02.02.2020.tar.gz\n",
      "-rw-r--r-- 2 jovyan users 279K Jun 14  2022 /cxnfs/Mark/Data/compressed_data/02.03.2020.tar.gz\n",
      "-rw-r--r-- 2 jovyan users 271K Jun 14  2022 /cxnfs/Mark/Data/compressed_data/02.04.2020.tar.gz\n",
      "-rw-r--r-- 2 jovyan users 276K Jun 14  2022 /cxnfs/Mark/Data/compressed_data/02.05.2020.tar.gz\n",
      "-rw-r--r-- 2 jovyan users 280K Jun 14  2022 /cxnfs/Mark/Data/compressed_data/02.07.2020.tar.gz\n",
      "-rw-r--r-- 2 jovyan users 283K Jun 14  2022 /cxnfs/Mark/Data/compressed_data/03.01.2020.tar.gz\n",
      "-rw-r--r-- 2 jovyan users 277K Jun 14  2022 /cxnfs/Mark/Data/compressed_data/03.02.2020.tar.gz\n",
      "-rw-r--r-- 2 jovyan users 278K Jun 14  2022 /cxnfs/Mark/Data/compressed_data/03.03.2020.tar.gz\n",
      "-rw-r--r-- 2 jovyan users 276K Jun 14  2022 /cxnfs/Mark/Data/compressed_data/03.04.2020.tar.gz\n",
      "-rw-r--r-- 2 jovyan users 273K Jun 14  2022 /cxnfs/Mark/Data/compressed_data/03.05.2020.tar.gz\n",
      "-rw-r--r-- 2 jovyan users 277K Jun 14  2022 /cxnfs/Mark/Data/compressed_data/03.07.2020.tar.gz\n",
      "-rw-r--r-- 2 jovyan users 281K Jun 14  2022 /cxnfs/Mark/Data/compressed_data/04.01.2020.tar.gz\n",
      "-rw-r--r-- 2 jovyan users 281K Jun 14  2022 /cxnfs/Mark/Data/compressed_data/04.02.2020.tar.gz\n",
      "-rw-r--r-- 2 jovyan users 278K Jun 14  2022 /cxnfs/Mark/Data/compressed_data/04.03.2020.tar.gz\n",
      "-rw-r--r-- 2 jovyan users 277K Jun 14  2022 /cxnfs/Mark/Data/compressed_data/04.04.2020.tar.gz\n",
      "-rw-r--r-- 2 jovyan users 275K Jun 14  2022 /cxnfs/Mark/Data/compressed_data/04.05.2020.tar.gz\n",
      "-rw-r--r-- 2 jovyan users 275K Jun 14  2022 /cxnfs/Mark/Data/compressed_data/04.07.2020.tar.gz\n",
      "-rw-r--r-- 2 jovyan users 276K Jun 14  2022 /cxnfs/Mark/Data/compressed_data/05.01.2020.tar.gz\n",
      "-rw-r--r-- 2 jovyan users 278K Jun 14  2022 /cxnfs/Mark/Data/compressed_data/05.02.2020.tar.gz\n",
      "-rw-r--r-- 2 jovyan users 285K Jun 14  2022 /cxnfs/Mark/Data/compressed_data/05.03.2020.tar.gz\n",
      "-rw-r--r-- 2 jovyan users 274K Jun 14  2022 /cxnfs/Mark/Data/compressed_data/05.04.2020.tar.gz\n",
      "-rw-r--r-- 2 jovyan users 270K Jun 14  2022 /cxnfs/Mark/Data/compressed_data/05.05.2020.tar.gz\n",
      "-rw-r--r-- 2 jovyan users 271K Jun 14  2022 /cxnfs/Mark/Data/compressed_data/05.07.2020.tar.gz\n",
      "-rw-r--r-- 2 jovyan users 280K Jun 14  2022 /cxnfs/Mark/Data/compressed_data/06.01.2020.tar.gz\n",
      "-rw-r--r-- 2 jovyan users 280K Jun 14  2022 /cxnfs/Mark/Data/compressed_data/06.02.2020.tar.gz\n",
      "-rw-r--r-- 2 jovyan users 284K Jun 14  2022 /cxnfs/Mark/Data/compressed_data/06.03.2020.tar.gz\n",
      "-rw-r--r-- 2 jovyan users 272K Jun 14  2022 /cxnfs/Mark/Data/compressed_data/06.04.2020.tar.gz\n",
      "-rw-r--r-- 2 jovyan users 277K Jun 14  2022 /cxnfs/Mark/Data/compressed_data/06.05.2020.tar.gz\n",
      "-rw-r--r-- 2 jovyan users 272K Jun 14  2022 /cxnfs/Mark/Data/compressed_data/06.07.2020.tar.gz\n",
      "-rw-r--r-- 2 jovyan users 282K Jun 14  2022 /cxnfs/Mark/Data/compressed_data/07.01.2020.tar.gz\n",
      "-rw-r--r-- 2 jovyan users 280K Jun 14  2022 /cxnfs/Mark/Data/compressed_data/07.02.2020.tar.gz\n",
      "-rw-r--r-- 2 jovyan users 282K Jun 14  2022 /cxnfs/Mark/Data/compressed_data/07.03.2020.tar.gz\n",
      "-rw-r--r-- 2 jovyan users 275K Jun 14  2022 /cxnfs/Mark/Data/compressed_data/07.04.2020.tar.gz\n",
      "-rw-r--r-- 2 jovyan users 275K Jun 14  2022 /cxnfs/Mark/Data/compressed_data/07.05.2020.tar.gz\n",
      "-rw-r--r-- 2 jovyan users 278K Jun 14  2022 /cxnfs/Mark/Data/compressed_data/07.07.2020.tar.gz\n",
      "-rw-r--r-- 2 jovyan users 280K Jun 14  2022 /cxnfs/Mark/Data/compressed_data/08.01.2020.tar.gz\n",
      "-rw-r--r-- 2 jovyan users 275K Jun 14  2022 /cxnfs/Mark/Data/compressed_data/08.02.2020.tar.gz\n",
      "-rw-r--r-- 2 jovyan users 276K Jun 14  2022 /cxnfs/Mark/Data/compressed_data/08.03.2020.tar.gz\n",
      "-rw-r--r-- 2 jovyan users 281K Jun 14  2022 /cxnfs/Mark/Data/compressed_data/08.04.2020.tar.gz\n",
      "-rw-r--r-- 2 jovyan users 272K Jun 14  2022 /cxnfs/Mark/Data/compressed_data/08.05.2020.tar.gz\n",
      "-rw-r--r-- 2 jovyan users 278K Jun 14  2022 /cxnfs/Mark/Data/compressed_data/08.07.2020.tar.gz\n",
      "-rw-r--r-- 2 jovyan users 281K Jun 14  2022 /cxnfs/Mark/Data/compressed_data/09.01.2020.tar.gz\n",
      "-rw-r--r-- 2 jovyan users 271K Jun 14  2022 /cxnfs/Mark/Data/compressed_data/09.02.2020.tar.gz\n",
      "-rw-r--r-- 2 jovyan users 276K Jun 14  2022 /cxnfs/Mark/Data/compressed_data/09.03.2020.tar.gz\n",
      "-rw-r--r-- 2 jovyan users 275K Jun 14  2022 /cxnfs/Mark/Data/compressed_data/09.04.2020.tar.gz\n",
      "-rw-r--r-- 2 jovyan users 274K Jun 14  2022 /cxnfs/Mark/Data/compressed_data/09.05.2020.tar.gz\n",
      "-rw-r--r-- 2 jovyan users 105K Jun 14  2022 /cxnfs/Mark/Data/compressed_data/09.07.2020.tar.gz\n",
      "-rw-r--r-- 2 jovyan users 285K Jun 14  2022 /cxnfs/Mark/Data/compressed_data/10.01.2020.tar.gz\n",
      "-rw-r--r-- 2 jovyan users 280K Jun 14  2022 /cxnfs/Mark/Data/compressed_data/10.02.2020.tar.gz\n",
      "-rw-r--r-- 2 jovyan users 279K Jun 14  2022 /cxnfs/Mark/Data/compressed_data/10.03.2020.tar.gz\n",
      "-rw-r--r-- 2 jovyan users 274K Jun 14  2022 /cxnfs/Mark/Data/compressed_data/10.04.2020.tar.gz\n",
      "-rw-r--r-- 2 jovyan users 283K Jun 14  2022 /cxnfs/Mark/Data/compressed_data/10.05.2020.tar.gz\n",
      "-rw-r--r-- 2 jovyan users   45 Jun 14  2022 /cxnfs/Mark/Data/compressed_data/10.06.2020.tar.gz\n",
      "-rw-r--r-- 2 jovyan users  72K Jun 14  2022 /cxnfs/Mark/Data/compressed_data/10.07.2020.tar.gz\n",
      "-rw-r--r-- 2 jovyan users 280K Jun 14  2022 /cxnfs/Mark/Data/compressed_data/11.01.2020.tar.gz\n",
      "-rw-r--r-- 2 jovyan users 281K Jun 14  2022 /cxnfs/Mark/Data/compressed_data/11.02.2020.tar.gz\n",
      "-rw-r--r-- 2 jovyan users 278K Jun 14  2022 /cxnfs/Mark/Data/compressed_data/11.03.2020.tar.gz\n",
      "-rw-r--r-- 2 jovyan users 278K Jun 14  2022 /cxnfs/Mark/Data/compressed_data/11.04.2020.tar.gz\n",
      "-rw-r--r-- 2 jovyan users 280K Jun 14  2022 /cxnfs/Mark/Data/compressed_data/11.05.2020.tar.gz\n",
      "-rw-r--r-- 2 jovyan users 286K Jun 14  2022 /cxnfs/Mark/Data/compressed_data/12.01.2020.tar.gz\n",
      "-rw-r--r-- 2 jovyan users 282K Jun 14  2022 /cxnfs/Mark/Data/compressed_data/12.02.2020.tar.gz\n",
      "-rw-r--r-- 2 jovyan users 270K Jun 14  2022 /cxnfs/Mark/Data/compressed_data/12.03.2020.tar.gz\n",
      "-rw-r--r-- 2 jovyan users 278K Jun 14  2022 /cxnfs/Mark/Data/compressed_data/12.04.2020.tar.gz\n",
      "-rw-r--r-- 2 jovyan users 276K Jun 14  2022 /cxnfs/Mark/Data/compressed_data/12.05.2020.tar.gz\n",
      "-rw-r--r-- 2 jovyan users 266K Jun 14  2022 /cxnfs/Mark/Data/compressed_data/12.06.2020.tar.gz\n",
      "-rw-r--r-- 2 jovyan users 283K Jun 14  2022 /cxnfs/Mark/Data/compressed_data/13.01.2020.tar.gz\n",
      "-rw-r--r-- 2 jovyan users 281K Jun 14  2022 /cxnfs/Mark/Data/compressed_data/13.02.2020.tar.gz\n",
      "-rw-r--r-- 2 jovyan users 278K Jun 14  2022 /cxnfs/Mark/Data/compressed_data/13.03.2020.tar.gz\n",
      "-rw-r--r-- 2 jovyan users 279K Jun 14  2022 /cxnfs/Mark/Data/compressed_data/13.04.2020.tar.gz\n",
      "-rw-r--r-- 2 jovyan users 278K Jun 14  2022 /cxnfs/Mark/Data/compressed_data/13.05.2020.tar.gz\n",
      "-rw-r--r-- 2 jovyan users 271K Jun 14  2022 /cxnfs/Mark/Data/compressed_data/13.06.2020.tar.gz\n",
      "-rw-r--r-- 2 jovyan users 281K Jun 14  2022 /cxnfs/Mark/Data/compressed_data/14.01.2020.tar.gz\n",
      "-rw-r--r-- 2 jovyan users 281K Jun 14  2022 /cxnfs/Mark/Data/compressed_data/14.02.2020.tar.gz\n",
      "-rw-r--r-- 2 jovyan users 281K Jun 14  2022 /cxnfs/Mark/Data/compressed_data/14.03.2020.tar.gz\n",
      "-rw-r--r-- 2 jovyan users 272K Jun 14  2022 /cxnfs/Mark/Data/compressed_data/14.04.2020.tar.gz\n",
      "-rw-r--r-- 2 jovyan users 274K Jun 14  2022 /cxnfs/Mark/Data/compressed_data/14.05.2020.tar.gz\n",
      "-rw-r--r-- 2 jovyan users 225K Jun 14  2022 /cxnfs/Mark/Data/compressed_data/15.01.2020.tar.gz\n",
      "-rw-r--r-- 2 jovyan users 280K Jun 14  2022 /cxnfs/Mark/Data/compressed_data/15.02.2020.tar.gz\n",
      "-rw-r--r-- 2 jovyan users 280K Jun 14  2022 /cxnfs/Mark/Data/compressed_data/15.03.2020.tar.gz\n",
      "-rw-r--r-- 2 jovyan users 281K Jun 14  2022 /cxnfs/Mark/Data/compressed_data/15.04.2020.tar.gz\n",
      "-rw-r--r-- 2 jovyan users 180K Jun 14  2022 /cxnfs/Mark/Data/compressed_data/15.05.2020.tar.gz\n",
      "-rw-r--r-- 2 jovyan users 275K Jun 14  2022 /cxnfs/Mark/Data/compressed_data/15.06.2020.tar.gz\n",
      "-rw-r--r-- 2 jovyan users 285K Jun 14  2022 /cxnfs/Mark/Data/compressed_data/16.01.2020.tar.gz\n",
      "-rw-r--r-- 2 jovyan users 278K Jun 14  2022 /cxnfs/Mark/Data/compressed_data/16.02.2020.tar.gz\n",
      "-rw-r--r-- 2 jovyan users 275K Jun 14  2022 /cxnfs/Mark/Data/compressed_data/16.03.2020.tar.gz\n",
      "-rw-r--r-- 2 jovyan users 283K Jun 14  2022 /cxnfs/Mark/Data/compressed_data/16.04.2020.tar.gz\n",
      "-rw-r--r-- 2 jovyan users 163K Jun 14  2022 /cxnfs/Mark/Data/compressed_data/16.05.2020.tar.gz\n",
      "-rw-r--r-- 2 jovyan users 278K Jun 14  2022 /cxnfs/Mark/Data/compressed_data/16.06.2020.tar.gz\n",
      "-rw-r--r-- 2 jovyan users 283K Jun 14  2022 /cxnfs/Mark/Data/compressed_data/17.01.2020.tar.gz\n",
      "-rw-r--r-- 2 jovyan users 278K Jun 14  2022 /cxnfs/Mark/Data/compressed_data/17.02.2020.tar.gz\n",
      "-rw-r--r-- 2 jovyan users 273K Jun 14  2022 /cxnfs/Mark/Data/compressed_data/17.03.2020.tar.gz\n",
      "-rw-r--r-- 2 jovyan users 274K Jun 14  2022 /cxnfs/Mark/Data/compressed_data/17.04.2020.tar.gz\n",
      "-rw-r--r-- 2 jovyan users 271K Jun 14  2022 /cxnfs/Mark/Data/compressed_data/17.05.2020.tar.gz\n",
      "-rw-r--r-- 2 jovyan users 274K Jun 14  2022 /cxnfs/Mark/Data/compressed_data/17.06.2020.tar.gz\n",
      "-rw-r--r-- 2 jovyan users 274K Jun 14  2022 /cxnfs/Mark/Data/compressed_data/18.02.2020.tar.gz\n",
      "-rw-r--r-- 2 jovyan users 277K Jun 14  2022 /cxnfs/Mark/Data/compressed_data/18.03.2020.tar.gz\n",
      "-rw-r--r-- 2 jovyan users 275K Jun 14  2022 /cxnfs/Mark/Data/compressed_data/18.04.2020.tar.gz\n",
      "-rw-r--r-- 2 jovyan users 279K Jun 14  2022 /cxnfs/Mark/Data/compressed_data/18.05.2020.tar.gz\n",
      "-rw-r--r-- 2 jovyan users 277K Jun 14  2022 /cxnfs/Mark/Data/compressed_data/18.06.2020.tar.gz\n",
      "-rw-r--r-- 2 jovyan users 282K Jun 14  2022 /cxnfs/Mark/Data/compressed_data/19.01.2020.tar.gz\n",
      "-rw-r--r-- 2 jovyan users 277K Jun 14  2022 /cxnfs/Mark/Data/compressed_data/19.02.2020.tar.gz\n",
      "-rw-r--r-- 2 jovyan users 281K Jun 14  2022 /cxnfs/Mark/Data/compressed_data/19.03.2020.tar.gz\n",
      "-rw-r--r-- 2 jovyan users 276K Jun 14  2022 /cxnfs/Mark/Data/compressed_data/19.04.2020.tar.gz\n",
      "-rw-r--r-- 2 jovyan users 280K Jun 14  2022 /cxnfs/Mark/Data/compressed_data/19.05.2020.tar.gz\n",
      "-rw-r--r-- 2 jovyan users 277K Jun 14  2022 /cxnfs/Mark/Data/compressed_data/19.06.2020.tar.gz\n",
      "-rw-r--r-- 2 jovyan users 283K Jun 14  2022 /cxnfs/Mark/Data/compressed_data/20.01.2020.tar.gz\n",
      "-rw-r--r-- 2 jovyan users 280K Jun 14  2022 /cxnfs/Mark/Data/compressed_data/20.02.2020.tar.gz\n",
      "-rw-r--r-- 2 jovyan users 278K Jun 14  2022 /cxnfs/Mark/Data/compressed_data/20.03.2020.tar.gz\n",
      "-rw-r--r-- 2 jovyan users 278K Jun 14  2022 /cxnfs/Mark/Data/compressed_data/20.04.2020.tar.gz\n",
      "-rw-r--r-- 2 jovyan users 278K Jun 14  2022 /cxnfs/Mark/Data/compressed_data/20.05.2020.tar.gz\n",
      "-rw-r--r-- 2 jovyan users 278K Jun 14  2022 /cxnfs/Mark/Data/compressed_data/20.06.2020.tar.gz\n",
      "-rw-r--r-- 2 jovyan users 283K Jun 14  2022 /cxnfs/Mark/Data/compressed_data/21.01.2020.tar.gz\n",
      "-rw-r--r-- 2 jovyan users 280K Jun 14  2022 /cxnfs/Mark/Data/compressed_data/21.02.2020.tar.gz\n",
      "-rw-r--r-- 2 jovyan users 274K Jun 14  2022 /cxnfs/Mark/Data/compressed_data/21.03.2020.tar.gz\n",
      "-rw-r--r-- 2 jovyan users 277K Jun 14  2022 /cxnfs/Mark/Data/compressed_data/21.04.2020.tar.gz\n",
      "-rw-r--r-- 2 jovyan users 276K Jun 14  2022 /cxnfs/Mark/Data/compressed_data/21.05.2020.tar.gz\n",
      "-rw-r--r-- 2 jovyan users 274K Jun 14  2022 /cxnfs/Mark/Data/compressed_data/21.06.2020.tar.gz\n",
      "-rw-r--r-- 2 jovyan users 283K Jun 14  2022 /cxnfs/Mark/Data/compressed_data/22.01.2020.tar.gz\n",
      "-rw-r--r-- 2 jovyan users 280K Jun 14  2022 /cxnfs/Mark/Data/compressed_data/22.02.2020.tar.gz\n",
      "-rw-r--r-- 2 jovyan users 272K Jun 14  2022 /cxnfs/Mark/Data/compressed_data/22.03.2020.tar.gz\n",
      "-rw-r--r-- 2 jovyan users 276K Jun 14  2022 /cxnfs/Mark/Data/compressed_data/22.04.2020.tar.gz\n",
      "-rw-r--r-- 2 jovyan users 280K Jun 14  2022 /cxnfs/Mark/Data/compressed_data/22.05.2020.tar.gz\n",
      "-rw-r--r-- 2 jovyan users 278K Jun 14  2022 /cxnfs/Mark/Data/compressed_data/22.06.2020.tar.gz\n",
      "-rw-r--r-- 2 jovyan users 284K Jun 14  2022 /cxnfs/Mark/Data/compressed_data/23.01.2020.tar.gz\n",
      "-rw-r--r-- 2 jovyan users 275K Jun 14  2022 /cxnfs/Mark/Data/compressed_data/23.02.2020.tar.gz\n",
      "-rw-r--r-- 2 jovyan users 274K Jun 14  2022 /cxnfs/Mark/Data/compressed_data/23.03.2020.tar.gz\n",
      "-rw-r--r-- 2 jovyan users 274K Jun 14  2022 /cxnfs/Mark/Data/compressed_data/23.04.2020.tar.gz\n",
      "-rw-r--r-- 2 jovyan users 273K Jun 14  2022 /cxnfs/Mark/Data/compressed_data/23.06.2020.tar.gz\n",
      "-rw-r--r-- 2 jovyan users 287K Jun 14  2022 /cxnfs/Mark/Data/compressed_data/24.01.2020.tar.gz\n",
      "-rw-r--r-- 2 jovyan users 276K Jun 14  2022 /cxnfs/Mark/Data/compressed_data/24.02.2020.tar.gz\n",
      "-rw-r--r-- 2 jovyan users 274K Jun 14  2022 /cxnfs/Mark/Data/compressed_data/24.03.2020.tar.gz\n",
      "-rw-r--r-- 2 jovyan users 270K Jun 14  2022 /cxnfs/Mark/Data/compressed_data/24.04.2020.tar.gz\n",
      "-rw-r--r-- 2 jovyan users 281K Jun 14  2022 /cxnfs/Mark/Data/compressed_data/25.01.2020.tar.gz\n",
      "-rw-r--r-- 2 jovyan users 278K Jun 14  2022 /cxnfs/Mark/Data/compressed_data/25.02.2020.tar.gz\n",
      "-rw-r--r-- 2 jovyan users 269K Jun 14  2022 /cxnfs/Mark/Data/compressed_data/25.03.2020.tar.gz\n",
      "-rw-r--r-- 2 jovyan users 272K Jun 14  2022 /cxnfs/Mark/Data/compressed_data/25.04.2020.tar.gz\n",
      "-rw-r--r-- 2 jovyan users 283K Jun 14  2022 /cxnfs/Mark/Data/compressed_data/25.06.2020.tar.gz\n",
      "-rw-r--r-- 2 jovyan users 279K Jun 14  2022 /cxnfs/Mark/Data/compressed_data/26.01.2020.tar.gz\n",
      "-rw-r--r-- 2 jovyan users 282K Jun 14  2022 /cxnfs/Mark/Data/compressed_data/26.02.2020.tar.gz\n",
      "-rw-r--r-- 2 jovyan users 272K Jun 14  2022 /cxnfs/Mark/Data/compressed_data/26.03.2020.tar.gz\n",
      "-rw-r--r-- 2 jovyan users 271K Jun 14  2022 /cxnfs/Mark/Data/compressed_data/26.04.2020.tar.gz\n",
      "-rw-r--r-- 2 jovyan users 280K Jun 14  2022 /cxnfs/Mark/Data/compressed_data/26.05.2020.tar.gz\n",
      "-rw-r--r-- 2 jovyan users 272K Jun 14  2022 /cxnfs/Mark/Data/compressed_data/26.06.2020.tar.gz\n",
      "-rw-r--r-- 2 jovyan users 222K Jun 14  2022 /cxnfs/Mark/Data/compressed_data/27.01.2020.tar.gz\n",
      "-rw-r--r-- 2 jovyan users 281K Jun 14  2022 /cxnfs/Mark/Data/compressed_data/27.02.2020.tar.gz\n",
      "-rw-r--r-- 2 jovyan users 276K Jun 14  2022 /cxnfs/Mark/Data/compressed_data/27.03.2020.tar.gz\n",
      "-rw-r--r-- 2 jovyan users 275K Jun 14  2022 /cxnfs/Mark/Data/compressed_data/27.04.2020.tar.gz\n",
      "-rw-r--r-- 2 jovyan users 280K Jun 14  2022 /cxnfs/Mark/Data/compressed_data/27.05.2020.tar.gz\n",
      "-rw-r--r-- 2 jovyan users 268K Jun 14  2022 /cxnfs/Mark/Data/compressed_data/27.06.2020.tar.gz\n",
      "-rw-r--r-- 2 jovyan users 284K Jun 14  2022 /cxnfs/Mark/Data/compressed_data/28.01.2020.tar.gz\n",
      "-rw-r--r-- 2 jovyan users 281K Jun 14  2022 /cxnfs/Mark/Data/compressed_data/28.02.2020.tar.gz\n",
      "-rw-r--r-- 2 jovyan users 277K Jun 14  2022 /cxnfs/Mark/Data/compressed_data/28.03.2020.tar.gz\n",
      "-rw-r--r-- 2 jovyan users 274K Jun 14  2022 /cxnfs/Mark/Data/compressed_data/28.04.2020.tar.gz\n",
      "-rw-r--r-- 2 jovyan users 268K Jun 14  2022 /cxnfs/Mark/Data/compressed_data/28.06.2020.tar.gz\n",
      "-rw-r--r-- 2 jovyan users 289K Jun 14  2022 /cxnfs/Mark/Data/compressed_data/29.01.2020.tar.gz\n",
      "-rw-r--r-- 2 jovyan users 276K Jun 14  2022 /cxnfs/Mark/Data/compressed_data/29.02.2020.tar.gz\n",
      "-rw-r--r-- 2 jovyan users 277K Jun 14  2022 /cxnfs/Mark/Data/compressed_data/29.03.2020.tar.gz\n",
      "-rw-r--r-- 2 jovyan users 274K Jun 14  2022 /cxnfs/Mark/Data/compressed_data/29.04.2020.tar.gz\n",
      "-rw-r--r-- 2 jovyan users 281K Jun 14  2022 /cxnfs/Mark/Data/compressed_data/29.05.2020.tar.gz\n",
      "-rw-r--r-- 2 jovyan users 267K Jun 14  2022 /cxnfs/Mark/Data/compressed_data/29.06.2020.tar.gz\n",
      "-rw-r--r-- 2 jovyan users 100K Jun 14  2022 /cxnfs/Mark/Data/compressed_data/29.12.2019.tar.gz\n",
      "-rw-r--r-- 2 jovyan users 286K Jun 14  2022 /cxnfs/Mark/Data/compressed_data/30.01.2020.tar.gz\n",
      "-rw-r--r-- 2 jovyan users 275K Jun 14  2022 /cxnfs/Mark/Data/compressed_data/30.03.2020.tar.gz\n",
      "-rw-r--r-- 2 jovyan users 272K Jun 14  2022 /cxnfs/Mark/Data/compressed_data/30.04.2020.tar.gz\n",
      "-rw-r--r-- 2 jovyan users 280K Jun 14  2022 /cxnfs/Mark/Data/compressed_data/30.05.2020.tar.gz\n",
      "-rw-r--r-- 2 jovyan users 271K Jun 14  2022 /cxnfs/Mark/Data/compressed_data/30.06.2020.tar.gz\n",
      "-rw-r--r-- 2 jovyan users 270K Jun 14  2022 /cxnfs/Mark/Data/compressed_data/30.12.2019.tar.gz\n",
      "-rw-r--r-- 2 jovyan users 273K Jun 14  2022 /cxnfs/Mark/Data/compressed_data/31.03.2020.tar.gz\n",
      "-rw-r--r-- 2 jovyan users 199K Jun 14  2022 /cxnfs/Mark/Data/compressed_data/31.05.2020.tar.gz\n",
      "-rw-r--r-- 2 jovyan users 282K Jun 14  2022 /cxnfs/Mark/Data/compressed_data/31.12.2019.tar.gz\n"
     ]
    }
   ],
   "source": [
    "! ls -lh /cxnfs/Mark/Data/compressed_data/*.gz"
   ]
  },
  {
   "cell_type": "markdown",
   "id": "7d27164f-5b57-4a2c-af97-04adf65fa48e",
   "metadata": {
    "jp-MarkdownHeadingCollapsed": true,
    "tags": []
   },
   "source": [
    "### Copying remaining files to another directory"
   ]
  },
  {
   "cell_type": "markdown",
   "id": "1117c6cc-2510-4825-b87f-483f178d1eae",
   "metadata": {},
   "source": [
    "Let us also copy the two text files located at `/cxnfs/Mark/Data/compressed_data/` to `/cxnfs/Mark/Data/uncompressed_data/` so that the `uncompressed_data` directory contain all the measurements uncompressed"
   ]
  },
  {
   "cell_type": "code",
   "execution_count": 37,
   "id": "d746ce3a-c2ac-4b0d-9826-bda5817083db",
   "metadata": {
    "tags": []
   },
   "outputs": [
    {
     "name": "stdout",
     "output_type": "stream",
     "text": [
      "'/cxnfs/Mark/Data/compressed_data/28.12.2019.txt' -> '/cxnfs/Mark/Data/uncompressed_data/28.12.2019.txt'\n",
      "'/cxnfs/Mark/Data/compressed_data/29.12.2019.txt' -> '/cxnfs/Mark/Data/uncompressed_data/29.12.2019.txt'\n"
     ]
    }
   ],
   "source": [
    "! for i in /cxnfs/Mark/Data/compressed_data/*.txt; do cp -v $i /cxnfs/Mark/Data/uncompressed_data ; done\n"
   ]
  },
  {
   "cell_type": "markdown",
   "id": "b859dc2c-e81f-49cf-a2d4-0be2a3c911ed",
   "metadata": {
    "tags": []
   },
   "source": [
    "Let us now check that there should now be 178 files in the `uncompressed_data` directory (2 text files and 176 directories)"
   ]
  },
  {
   "cell_type": "code",
   "execution_count": 39,
   "id": "a86f7c4b-2f17-4bf4-9867-873bdec1cbfc",
   "metadata": {
    "tags": []
   },
   "outputs": [
    {
     "name": "stdout",
     "output_type": "stream",
     "text": [
      "178\n"
     ]
    }
   ],
   "source": [
    "!ls /cxnfs/Mark/Data/uncompressed_data | wc -l"
   ]
  },
  {
   "cell_type": "markdown",
   "id": "234d72d4-d798-4566-a336-c03b9044412d",
   "metadata": {},
   "source": [
    "We also count the number of text files in the `uncompressed_data` directory. Note that we expect 2 `.txt` files since there are only 2 `.txt` files from `compressed_data`"
   ]
  },
  {
   "cell_type": "code",
   "execution_count": 41,
   "id": "ca73c594-b494-4e6b-9b6f-5e31475a4bed",
   "metadata": {
    "tags": []
   },
   "outputs": [
    {
     "name": "stdout",
     "output_type": "stream",
     "text": [
      "2\n"
     ]
    }
   ],
   "source": [
    "!ls /cxnfs/Mark/Data/uncompressed_data/*.txt | wc -l"
   ]
  },
  {
   "cell_type": "markdown",
   "id": "e3d6333e-2cb8-43e1-a464-b4efeeab3df1",
   "metadata": {
    "jp-MarkdownHeadingCollapsed": true,
    "tags": []
   },
   "source": [
    "### Getting absolute paths of nested files"
   ]
  },
  {
   "cell_type": "markdown",
   "id": "639f39d0-459b-4cfa-a800-125887c04f43",
   "metadata": {},
   "source": [
    "We want to get a list of the absolute paths of all the nested files so as to make reading and opening these files easier using Python. Fortunately, we can easily accomplish this in the terminal. I will now create a plain text file called `absolutepaths.txt` which I will create at `/cxnfs/Mark/Data/` and will contain the absolute paths of the files located at `/cxnfs/Mark/Data/uncompressed_data`. Below, `find /cxnfs/Mark/Data/uncompressed_data -type f ` gets all the absolute paths of all the files inside `/cxnfs/Mark/Data/uncompressed_data`. Then, `>` redirects the absolute paths and writes it to a text file which I named as `absolutepaths.txt`, located at `/cxnfs/Mark/Data`."
   ]
  },
  {
   "cell_type": "code",
   "execution_count": 54,
   "id": "68f097f9-ff0e-4dd6-9304-eb7f2d831c0f",
   "metadata": {
    "tags": []
   },
   "outputs": [],
   "source": [
    "!find /cxnfs/Mark/Data/uncompressed_data -type f > /cxnfs/Mark/Data/absolutepaths.txt"
   ]
  },
  {
   "cell_type": "markdown",
   "id": "36d430f1-31fa-4e82-9e1b-a0a1227c772b",
   "metadata": {},
   "source": [
    "As a sanity check, inside `absolutepaths.txt`, we expect two absolute paths to have `.txt` file extension."
   ]
  },
  {
   "cell_type": "code",
   "execution_count": 69,
   "id": "aabdfa56-6380-4a9d-82e9-59b163ad4b10",
   "metadata": {
    "tags": []
   },
   "outputs": [
    {
     "name": "stdout",
     "output_type": "stream",
     "text": [
      "/cxnfs/Mark/Data/uncompressed_data/28.12.2019.txt\n",
      "/cxnfs/Mark/Data/uncompressed_data/29.12.2019.txt\n"
     ]
    }
   ],
   "source": [
    "!find /cxnfs/Mark/Data/uncompressed_data -type f -name \"*.txt\""
   ]
  },
  {
   "cell_type": "markdown",
   "id": "c2aeb288-c246-4169-908c-14bf654049ad",
   "metadata": {},
   "source": [
    "In total, `absolutepaths.txt` must have the following number of absolute paths"
   ]
  },
  {
   "cell_type": "code",
   "execution_count": 64,
   "id": "22033ec4-5338-4ff4-9018-a05c3976be6f",
   "metadata": {
    "tags": []
   },
   "outputs": [
    {
     "name": "stdout",
     "output_type": "stream",
     "text": [
      "250399\n"
     ]
    }
   ],
   "source": [
    "!find /cxnfs/Mark/Data/uncompressed_data -type f | wc -l"
   ]
  },
  {
   "cell_type": "markdown",
   "id": "ffff8326-6ce9-4c59-abaf-2f9f2730c208",
   "metadata": {
    "jp-MarkdownHeadingCollapsed": true,
    "tags": []
   },
   "source": [
    "### Information structure inside text files"
   ]
  },
  {
   "cell_type": "markdown",
   "id": "22c484a2-432e-4269-908f-d18aba3dc055",
   "metadata": {},
   "source": [
    "Aside from the absolute paths, we also need to know how the information are structured inside the text files for us to pinpoint the observable measured and the corresponding measurement value. After observing and opening text files one by one, there seems to be two ways information are encoded: \n",
    "\n",
    "Case 1) values separated by semicolon -- similar to a CSV file but the delimiter is \";\" \n",
    "\n",
    "Case 2) a measurement consisting of two consecutive lines \n",
    "\n",
    "Case 1 can easily be opened using the `read_csv` function from the `Pandas` Python package and setting the delimiter to `;`.\n",
    "\n",
    "As for Case 2, by a measurement consisting of two consecutive lines, I mean that a measurement of an observable are encoded as two lines in a plain text file such that the first line -- which tells us about what observable is measured -- maps to the measured value and time of measurement on the second line.\n",
    "\n",
    "Here is a figure that tries to clarify how the information inside a Case 2 text file are structured. When you open the text file, you find information that is structured similar to the figure below. Inside, a line may start with the following characters: J,S,M,K. Thus, for convenience, we can denote or describe a line by its first character (e.g K-line, M-line, etc.).\n",
    "\n",
    "The J and S lines tell us that where the measurements are taken and using what instrument. Since all the measurements are from the same monitoring station and location, we expect all the text files to have the same J and S lines (I will show this below). On the other hand, the M and K lines are the consecutive lines I was talking about earlier that tell us what is measured, its value, and when.\n"
   ]
  },
  {
   "attachments": {
    "a54d7057-a7f5-405b-9524-fa28782620b9.png": {
     "image/png": "[encoded data removed]"
    }
   },
   "cell_type": "markdown",
   "id": "406b98d6-2c46-46d5-b614-bd44dc91051a",
   "metadata": {},
   "source": [
    "![Info_Format.png](attachment:a54d7057-a7f5-405b-9524-fa28782620b9.png)"
   ]
  },
  {
   "cell_type": "markdown",
   "id": "620b7bf8-6d24-4a13-8c19-18dbbe5f6cbc",
   "metadata": {},
   "source": [
    "Numbers after the colon on the M lines map to the observable being measured. The figure below shows the conversion from numbers to observables."
   ]
  },
  {
   "attachments": {
    "78062276-44a5-456a-a025-ceea7c7d85fc.png": {
     "image/png": "[encoded data removed]"
    }
   },
   "cell_type": "markdown",
   "id": "51d71f71-3179-4f2b-ab17-2602602fae03",
   "metadata": {
    "tags": []
   },
   "source": [
    "![Screenshot 2023-05-02 at 2.02.18 AM.png](attachment:78062276-44a5-456a-a025-ceea7c7d85fc.png)"
   ]
  },
  {
   "cell_type": "markdown",
   "id": "1e63092b-70f3-4f41-bfb2-397831bf52ff",
   "metadata": {},
   "source": [
    "For K lines, we can get the date and time of the measurement and the measurement value such that: `K:<yyyymmddhhmmss>;<sensor_value>;0;0;0;`. Between the colon and first semicolon, we get the year, month, day, hour, minute, second that the measurement is made. Between the first semicolon and the second semicolon, we get the measurement value. Values between succeeding semicolons do not represent anything.\n",
    "\n",
    "As an example, suppose we observe the following two lines: \n",
    "\n",
    "M:1\n",
    "\n",
    "K:20200227013003;32;0;1;0;\n",
    "\n",
    "This means that the measured observable is PM10, was measured on $01:30:03$ AM, February 27, 2020, and have a measured value of 32 $\\mu g$ per cubic meter"
   ]
  },
  {
   "cell_type": "markdown",
   "id": "1a48c8a2-0c24-4ea8-a59b-88f084aeb0e2",
   "metadata": {
    "tags": []
   },
   "source": [
    "### Merging measurements to one CSV file using Python"
   ]
  },
  {
   "cell_type": "markdown",
   "id": "38fe0a56-e6cc-4894-bf04-82094471fd3b",
   "metadata": {},
   "source": [
    "We now know the absolute paths of all the plain text files (pertaining to the measurements) and as well as the two types of information structure inside the text files. Now, we proceed to use Python along with the Pandas package to extract the information from the text files and merge all to one CSV file. Let us first import the packages I will be using to merge the measurements to one single CSV file (as well as will be using later on as we play around with the data) and create variables which I will use to store the absolute paths."
   ]
  },
  {
   "cell_type": "code",
   "execution_count": 1,
   "id": "4af41bf7-47b0-42a1-af14-fa0691d11bdf",
   "metadata": {},
   "outputs": [],
   "source": [
    "import pandas as pd\n",
    "import numpy as np\n",
    "#open absolutepaths.txt as a csv\n",
    "all_absolute_paths = pd.read_csv('/cxnfs/Mark/Data/absolutepaths.txt', header = None) \n",
    "#absolute paths of case 2 text files\n",
    "absolute_paths_twoliner = all_absolute_paths[all_absolute_paths.iloc[:,0].apply(lambda x: True if x[-1] == 'T' else False)]\n",
    "absolute_paths_twoliner = absolute_paths_twoliner.iloc[:,0].to_list()\n",
    "#absolute paths of case 1 text files\n",
    "absolute_paths_semicolon = all_absolute_paths[~(all_absolute_paths.iloc[:,0].apply(lambda x: True if x[-1] == 'T' else False))]\n",
    "absolute_paths_semicolon = absolute_paths_semicolon.iloc[:,0].to_list()"
   ]
  },
  {
   "cell_type": "markdown",
   "id": "683d550f-307a-42f6-a085-44e714ba4086",
   "metadata": {},
   "source": [
    "Now, I will create two functions: one which extracts the lines from the the text files ( called `txtfile_to_generator_obj`) and another which processes the lines to infer the measurements (called `get_info_from_txtfiles`)."
   ]
  },
  {
   "cell_type": "code",
   "execution_count": 22,
   "id": "ab4e93b1-e311-4caa-911f-ad08cb70b606",
   "metadata": {},
   "outputs": [],
   "source": [
    "#creating a function to get data from a text file\n",
    "def txtfile_to_generator_obj(path):     # path must be the absolute path of the text file\n",
    "    #Appends each line of the text file to generator object, \n",
    "    #where a text file contain measurements for a particular day\n",
    "    with open(path) as f: #this lines opens, reads and closes file f\n",
    "        for line in f: #go over each line of the text file\n",
    "            # an empty string has a True boolean value => not('') will return True\n",
    "            #str.strip() removes leading and trailing whitespaces\n",
    "            if not line.strip(): # if line only contains the newline char or is an empty string, proceed to next line\n",
    "                continue                 \n",
    "            yield line.strip() #otherwise, strip newline character and store the line inside a generator\n",
    "\n",
    "#function to compile all text files to one Pandas Series         \n",
    "def get_info_from_txtfiles(paths):#paths is an iterable such as a list\n",
    "    #paths is expected to be an iterable containing absolute paths of the text files that follow case 2\n",
    "    #create a dataframe for each text file and then merge to one dataframe\n",
    "    df = pd.concat([pd.DataFrame(txtfile_to_generator_obj(filepath)) for filepath in paths])\n",
    "    series = df.iloc[:, 0] #converting dataframe to a series\n",
    "    #dataframe containing the unnecessary lines -- J and S lines\n",
    "    misc_data = series[~(series.apply(lambda x: x[0]== 'M' or x[0] == 'K'))]\n",
    "    #removing uneccessary lines -- pertaining to J and S lines\n",
    "    series = series[series.apply(lambda x: x[0]== 'M' or x[0] == 'K')]\n",
    "    \n",
    "    #resetting dataframe index\n",
    "    series = series.reset_index(drop = True)\n",
    "    # since m and k lines must alternate, we describe k and m entries as odd and even indexes entries respectively\n",
    "    #purpose of this is to check whether the m and k lines are alternating\n",
    "    #if not, then our algorithm will definitely produce a wrong mapping \n",
    "    k_val = series[series.index %2 != 0] # k entries as odd\n",
    "    m_val = series[series.index %2 == 0] # m entries as even\n",
    "    \n",
    "    #checking if all odd numbered indexes have expected entries\n",
    "    if (m_val.apply(lambda x: x[0] != 'M')).sum() == 0: \n",
    "        print('no missing m entries')\n",
    "    else: #something wrong with data encoding \n",
    "        print('some entries are incorrect for m entries')\n",
    "        print(m_val[m_val.apply(lambda x: x[0] != 'M')])\n",
    "\n",
    "    #checking if all odd numbered indexes have correct entries\n",
    "    if (k_val.apply(lambda x: x[0] != 'K')).sum() == 0:\n",
    "        print('no missing k entries')\n",
    "    else: #something wrong with data encoding\n",
    "        print('some entries are incorrect for k entries')\n",
    "        print(k_val[k_val.apply(lambda x: x[0] != 'K')])\n",
    "    return series, misc_data"
   ]
  },
  {
   "cell_type": "markdown",
   "id": "47d9be39-7eeb-4d5d-a37a-c7fdf6cb1c47",
   "metadata": {},
   "source": [
    "Finally, let us merge all text files to a single CSV file. First, let us merge the case 2 text files. Moreover, if all M lines have a K line pair, then we expect the following lines to be printed out in the next cell:\n",
    "\n",
    "`no missing m entries` \\\n",
    "`no missing k entries`"
   ]
  },
  {
   "cell_type": "code",
   "execution_count": 64,
   "id": "6ed0ffc0-07cb-4fdd-9818-69dd2771b066",
   "metadata": {
    "tags": []
   },
   "outputs": [
    {
     "name": "stdout",
     "output_type": "stream",
     "text": [
      "no missing m entries\n",
      "no missing k entries\n"
     ]
    }
   ],
   "source": [
    "\n",
    "path = absolute_paths_twoliner #path of each files\n",
    "#merge case 2 files to a dataframe\n",
    "df,misc_df = get_info_from_txtfiles(path)\n"
   ]
  },
  {
   "cell_type": "markdown",
   "id": "1004e371-933f-4fb8-bc60-d007326c48d6",
   "metadata": {},
   "source": [
    "We can also check how many S and J lines there are in total and as well whether there are lines that do not start with J, S, M, and K. We can see that there are 250,396 S and J lines each and that there are no unexpected starting characters (starting characters are among J, S, M, and K)"
   ]
  },
  {
   "cell_type": "code",
   "execution_count": 65,
   "id": "9516710f-3a20-4a49-b1eb-836b24d98a9a",
   "metadata": {
    "tags": []
   },
   "outputs": [
    {
     "name": "stdout",
     "output_type": "stream",
     "text": [
      "Number of S lines 250396\n",
      "Number of J lines 250396\n",
      "Number of lines that are not S,J,M,K lines 0\n"
     ]
    }
   ],
   "source": [
    "print(\"Number of S lines {}\".format(misc_df.apply(lambda x: x[0] == 'S').sum() \n",
    "                                   )\n",
    "     )\n",
    "\n",
    "print(\"Number of J lines {}\".format(misc_df.apply(lambda x: x[0] == 'J').sum() \n",
    "                                   )\n",
    "     )\n",
    "\n",
    "print(\"Number of lines that are not S,J,M,K lines {}\".format(misc_df.apply(lambda x: x[0]!= 'S' and x[0]!= 'J').sum()))\n",
    "\n"
   ]
  },
  {
   "cell_type": "markdown",
   "id": "29d85446-881d-414c-8f0f-d801562f7422",
   "metadata": {},
   "source": [
    "Now, let us merge the information from the case 1 files to the case 2 files. Then, let us save it as a CSV file to be saved in `/cxnfs/Mark/Data/` and which I will name as `complete_data.csv`"
   ]
  },
  {
   "cell_type": "code",
   "execution_count": 69,
   "id": "df2feaee-da6b-4924-94c9-c0362036ec76",
   "metadata": {},
   "outputs": [],
   "source": [
    "#transforming data to be more readable\n",
    "m_val = df[df.apply(lambda x: x[0] == 'M')]\n",
    "k_val = df[df.apply(lambda x: x[0] == 'K')]\n",
    "df = pd.DataFrame( {'sensor_num': m_val.reset_index(drop = True), 'K': k_val.reset_index(drop = True)} )\n",
    "df['sensor_num'] = df['sensor_num'].apply(lambda x: x[2:])\n",
    "df['K'] = df['K'].apply(lambda x: x.split(';'))\n",
    "df['yyyymmddhhmmss'] = df.K.apply(lambda x: x[0][2:])\n",
    "df['sensor_val'] = df.K.apply(lambda x: x[1])\n",
    "df = df.iloc[:, [0, 2,3]]\n",
    "df['sensor_val'] = df.sensor_val.apply(float)\n",
    "df_1 = df.pivot_table(values = 'sensor_val', index = 'yyyymmddhhmmss', columns = 'sensor_num', aggfunc = 'first')\n",
    "\n",
    "#merging two more text files not embedded in directories\n",
    "df_2 = pd.read_csv('/cxnfs/Mark/Data/uncompressed_data/28.12.2019.txt', sep = ';', index_col = 0)\n",
    "df_3 = pd.read_csv('/cxnfs/Mark/Data/uncompressed_data/29.12.2019.txt', sep = ';', index_col = 0)\n",
    "#drop a column if all entries are NA\n",
    "df_2 = df_2.dropna(axis = 'columns', how = 'all')\n",
    "df_3 = df_3.dropna(axis = 'columns', how = 'all')\n",
    "df_4 = pd.concat([df_2, df_3])\n",
    "\n",
    "#changing column names of df_1\n",
    "mapper = pd.read_csv('/cxnfs/Mark/Data/var_mapping.csv', index_col = 0) \n",
    "mapper_dict = {str(num):var for num,var in zip(mapper.sensor_number, mapper.variable)}\n",
    "df_1 = df_1.rename(columns = mapper_dict)\n",
    "#converting df_4 col names to match df_1\n",
    "sensor_name = list(df_1.columns)\n",
    "final_df_col = np.array(sensor_name[-8:-2]+ [sensor_name[0]]+ [sensor_name[-9]] + sensor_name[-2:] + sensor_name[1:-9])\n",
    "\n",
    "#limiting df_4 columns to match df_1\n",
    "df_5 = df_4.iloc[:, :-31]\n",
    "df_5.columns = final_df_col\n",
    "\n",
    "def conv_datetime_format(date_time):# converting datetime format of df_4 to match df1\n",
    "    # it can be shown that the spaces in string between time and day are either two or one\n",
    "    if len(date_time.split('  ')) == 2: #if two spaces\n",
    "        dt_pair = date_time.split('  ')\n",
    "    else: \n",
    "        dt_pair = date_time.split(' ') #if one space\n",
    "    d = dt_pair[0].split('.')\n",
    "    t = dt_pair[1].split(':')\n",
    "    t = [str(0)+n if len(n)==1 else n for n in t]\n",
    "    d.reverse()\n",
    "    return \"\".join(d+t)\n",
    "\n",
    "df_5.index = df_5.index.to_series().apply(lambda x: conv_datetime_format(x))\n",
    "#final data\n",
    "tot_df = pd.concat([df_1, df_5])\n",
    "tot_df = tot_df.sort_index(ascending = True)\n",
    "tot_df.to_csv('/cxnfs/Mark/Data/complete_data.csv')"
   ]
  },
  {
   "cell_type": "code",
   "execution_count": 36,
   "id": "93bbe6ca-e238-4768-bf94-03dde57ff6f7",
   "metadata": {
    "tags": []
   },
   "outputs": [],
   "source": [
    "df_ver2 = pd.read_csv('/cxnfs/Mark/Data/complete_data.csv', index_col =0,parse_dates = True)\n",
    "df_ver2 = df_ver2.sort_index()"
   ]
  },
  {
   "cell_type": "code",
   "execution_count": 37,
   "id": "0a91243b-721a-4b1e-8ac9-712043f02df7",
   "metadata": {
    "tags": []
   },
   "outputs": [],
   "source": [
    "df_ver1 = pd.read_csv('/home/jovyan/complete_data.csv', index_col = 0, parse_dates = True)\n",
    "df_ver1 = df_ver1.sort_index()"
   ]
  },
  {
   "cell_type": "markdown",
   "id": "0b312d15-cbb0-48e1-a790-1a655fa2b873",
   "metadata": {
    "tags": []
   },
   "source": [
    "## Data Cleaning"
   ]
  },
  {
   "cell_type": "code",
   "execution_count": null,
   "id": "9196288a-daa7-423f-937a-a594539681a3",
   "metadata": {},
   "outputs": [],
   "source": []
  }
 ],
 "metadata": {
  "kernelspec": {
   "display_name": "Python 3 (ipykernel)",
   "language": "python",
   "name": "python3"
  },
  "language_info": {
   "codemirror_mode": {
    "name": "ipython",
    "version": 3
   },
   "file_extension": ".py",
   "mimetype": "text/x-python",
   "name": "python",
   "nbconvert_exporter": "python",
   "pygments_lexer": "ipython3",
   "version": "3.10.10"
  }
 },
 "nbformat": 4,
 "nbformat_minor": 5
}
