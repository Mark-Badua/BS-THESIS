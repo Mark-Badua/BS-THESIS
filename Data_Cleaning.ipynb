{
 "cells": [
  {
   "cell_type": "markdown",
   "id": "905cfc37-6b8f-4f33-aa8c-a209d42f6760",
   "metadata": {},
   "source": [
    "# Data Cleaning"
   ]
  },
  {
   "cell_type": "markdown",
   "id": "461dcb6d-0de9-46cd-8dd4-e3477b2c5294",
   "metadata": {},
   "source": [
    "In this notebook, I will be documenting and justifying the omission of measurements from analysis. First, let us import the packages and scripts that I used."
   ]
  },
  {
   "cell_type": "code",
   "execution_count": null,
   "id": "7b0be1dd-69f7-4298-b93b-982781265166",
   "metadata": {
    "tags": []
   },
   "outputs": [],
   "source": [
    "import numpy as np\n",
    "import matplotlib.pyplot as plt\n",
    "import pandas as pd"
   ]
  },
  {
   "cell_type": "code",
   "execution_count": null,
   "id": "1a903085-73d9-4994-ba8d-42c78b7732dd",
   "metadata": {
    "tags": []
   },
   "outputs": [],
   "source": [
    "from scipy import stats\n",
    "from dropper import * #contains functions that I created to drop measurements"
   ]
  },
  {
   "cell_type": "code",
   "execution_count": null,
   "id": "fecfdca1-805d-4dff-9ad8-95c13eeca48f",
   "metadata": {
    "tags": []
   },
   "outputs": [],
   "source": [
    "df = pd.read_csv(r'/home/jovyan/complete_data.csv', index_col = 0, parse_dates =  True)\n",
    "pm_col = [' PM10 (µg/m^3)', ' PM2.5 (µg/m^3)', ' PM1 (µg/m^3)']\n",
    "pm = df[pm_col]\n",
    "pm_newyear = pm['2019-12-31 12':'2020-01-01 06']"
   ]
  },
  {
   "cell_type": "code",
   "execution_count": null,
   "id": "8c1cdc45-9b6c-413e-b10a-65166d54acd8",
   "metadata": {
    "tags": []
   },
   "outputs": [],
   "source": [
    "# summary statistics on time difference between measurements during the 2020 New Year\n",
    "pd.DataFrame( \n",
    "    (pm_newyear.index[1:] - pm_newyear.index[:-1])/np.timedelta64(1, 'm')\n",
    "            ).describe()"
   ]
  },
  {
   "cell_type": "code",
   "execution_count": null,
   "id": "3036cf53-7c0a-49e9-a0cf-ab2ad92d63f6",
   "metadata": {
    "tags": []
   },
   "outputs": [],
   "source": [
    "#conversion of dataframe above to latex table\n",
    "pd.DataFrame( \n",
    "    (pm_newyear.index[1:] - pm_newyear.index[:-1])/np.timedelta64(1, 'm')\n",
    "            ).describe().style.to_latex()"
   ]
  },
  {
   "cell_type": "markdown",
   "id": "6f5ea710-9012-4fbe-a683-b34ce06b793f",
   "metadata": {},
   "source": [
    "Let us look at the summary statistics before removing measurements"
   ]
  },
  {
   "cell_type": "code",
   "execution_count": null,
   "id": "4a4ceeb6-5e83-44d3-b159-2d10ecd69c3e",
   "metadata": {
    "tags": []
   },
   "outputs": [],
   "source": [
    "#Before omitting measurements\n",
    "pm.describe()"
   ]
  },
  {
   "cell_type": "code",
   "execution_count": null,
   "id": "43954bdf-aa50-4f6c-b14c-bb993a58eea8",
   "metadata": {},
   "outputs": [],
   "source": [
    "#converting dataframe to a latex table\n",
    "pm.describe().style.to_latex()"
   ]
  },
  {
   "cell_type": "code",
   "execution_count": null,
   "id": "00dc415f-5064-46d1-8ea6-8d73f5eac1fb",
   "metadata": {
    "tags": []
   },
   "outputs": [],
   "source": [
    "#number of measurements before discarding measurements\n",
    "pm.count()"
   ]
  },
  {
   "cell_type": "code",
   "execution_count": null,
   "id": "bc75a824-9bad-4071-8f33-611ef518b2b3",
   "metadata": {
    "tags": []
   },
   "outputs": [],
   "source": [
    "coarse_pm"
   ]
  },
  {
   "cell_type": "code",
   "execution_count": null,
   "id": "1da7e66b-a9be-48a2-96e0-482de2353267",
   "metadata": {
    "tags": []
   },
   "outputs": [],
   "source": [
    "pm10_unfiltered"
   ]
  },
  {
   "cell_type": "code",
   "execution_count": null,
   "id": "fad898c5-6766-4473-8da7-1f9afbdcd5d5",
   "metadata": {
    "tags": []
   },
   "outputs": [],
   "source": [
    "pm10_unfiltered[1:]"
   ]
  },
  {
   "cell_type": "code",
   "execution_count": null,
   "id": "6cfa2dd6-9064-4166-b0a1-5d6086429d84",
   "metadata": {
    "tags": []
   },
   "outputs": [],
   "source": [
    "pm10_unfiltered[:-2].to_numpy()"
   ]
  },
  {
   "cell_type": "code",
   "execution_count": null,
   "id": "0322a142-8327-4775-bbc2-c0f276bafef2",
   "metadata": {
    "tags": []
   },
   "outputs": [],
   "source": [
    "pm10_unfiltered = pm[' PM10 (µg/m^3)'].dropna()"
   ]
  },
  {
   "cell_type": "code",
   "execution_count": null,
   "id": "64301e93-0acd-465d-b012-628ffe8bb1e6",
   "metadata": {
    "tags": []
   },
   "outputs": [],
   "source": [
    "pm10_unfiltered"
   ]
  },
  {
   "cell_type": "code",
   "execution_count": null,
   "id": "23a57e47-2d7b-4d7f-b4f5-5afd2ac2ca45",
   "metadata": {
    "tags": []
   },
   "outputs": [],
   "source": [
    "(pm10_unfiltered.to_numpy()[1:] - pm10_unfiltered.to_numpy()[:-1])"
   ]
  },
  {
   "cell_type": "code",
   "execution_count": null,
   "id": "167c4613-694d-496b-a641-9f034e64c9df",
   "metadata": {
    "tags": []
   },
   "outputs": [],
   "source": [
    "pm10_roc = (pm10_unfiltered.to_numpy()[1:] - pm10_unfiltered.to_numpy()[:-1])/((pm10_unfiltered.index[1:] - pm10_unfiltered.index[:-1])/np.timedelta64(1,'m'))\n",
    "pm10_roc_max = pm10_roc.max()\n",
    "pm10_roc_min = pm10_roc.min()"
   ]
  },
  {
   "cell_type": "code",
   "execution_count": null,
   "id": "d9167f4b-1fbc-48ea-bdf6-5f2424f5a765",
   "metadata": {
    "tags": []
   },
   "outputs": [],
   "source": [
    "pm10_roc_max"
   ]
  },
  {
   "cell_type": "code",
   "execution_count": null,
   "id": "b64bcc9f-1fab-4835-b0ef-5daa88625e44",
   "metadata": {},
   "outputs": [],
   "source": [
    "\n",
    "data = []\n",
    "timestamps = []\n",
    "\n",
    "for pt1, pt2, pt3, d1, d2, d3 in zip(pm10_unfiltered[:-2].to_numpy(), pm10_unfiltered.[1:].to_numpy(),\n",
    "                                 pm10_unfiltered[2:].to_numpy(), pm10_unfiltered.index[:-2],\n",
    "                                 pm10_unfiltered.index[1:], pm10_unfiltered.index[2:]):\n",
    "    if ((d2-d1)/np.timedelta64(1,'m') > 10) or ((d3-d2)/np.timedelta64(1,'m') > 10): #checking if the three points are not too far from each other (<= 10 mins apart pairwise)\n",
    "        continue:\n",
    "    else:\n",
    "        "
   ]
  },
  {
   "cell_type": "code",
   "execution_count": null,
   "id": "157037ab-ec11-4927-a1ba-f7f73f2bbed7",
   "metadata": {
    "tags": []
   },
   "outputs": [],
   "source": [
    "coarse_pm = get_forward_slopes(pm, ' PM10 (µg/m^3)')\n",
    "\n",
    "coarse_pm_spikes  = coarse_pm[(coarse_pm.forward_slope * coarse_pm.fwd_slope_1 <0)]"
   ]
  },
  {
   "cell_type": "code",
   "execution_count": null,
   "id": "7cddeacf-db55-4409-a602-7e0737aa180e",
   "metadata": {
    "tags": []
   },
   "outputs": [],
   "source": [
    "up_lim_roc"
   ]
  },
  {
   "cell_type": "code",
   "execution_count": null,
   "id": "7d7520bb-b477-464b-bc29-0153b276fdc9",
   "metadata": {
    "tags": []
   },
   "outputs": [],
   "source": [
    "down_lim_roc"
   ]
  },
  {
   "cell_type": "code",
   "execution_count": null,
   "id": "1decd06a-bf27-4540-bc44-e9a4a6c21f60",
   "metadata": {
    "tags": []
   },
   "outputs": [],
   "source": [
    "coarse_pm_spikes"
   ]
  },
  {
   "cell_type": "code",
   "execution_count": null,
   "id": "f59e5dab-92b4-42ab-aae4-06852d12ef58",
   "metadata": {
    "tags": []
   },
   "outputs": [],
   "source": [
    "up_lim_roc"
   ]
  },
  {
   "cell_type": "code",
   "execution_count": null,
   "id": "aaf9c275-c6ca-4ac3-aa9a-e7d3c6b893b4",
   "metadata": {
    "tags": []
   },
   "outputs": [],
   "source": [
    "coarse_pm[coarse_pm.timediff_in_min>10].index"
   ]
  },
  {
   "cell_type": "code",
   "execution_count": null,
   "id": "fa090f20-24c6-4c7a-9034-02d9764e4791",
   "metadata": {
    "tags": []
   },
   "outputs": [],
   "source": [
    "coarse_pm[coarse_pm.timediff_in_min>10]"
   ]
  },
  {
   "cell_type": "code",
   "execution_count": null,
   "id": "804fe9a0-e8bb-4110-9d04-ab0c58cdf279",
   "metadata": {
    "tags": []
   },
   "outputs": [],
   "source": [
    "coarse_pm.timediff_in_min.describe()"
   ]
  },
  {
   "cell_type": "code",
   "execution_count": null,
   "id": "aadef5b6-f92f-4339-a489-6cb99c196e84",
   "metadata": {
    "tags": []
   },
   "outputs": [],
   "source": [
    "coarse_pm[coarse_pm.timediff_in_min<=10].timediff_in_min.describe()"
   ]
  },
  {
   "cell_type": "code",
   "execution_count": null,
   "id": "e5131910-b3d4-42f2-a661-3295b8297747",
   "metadata": {
    "tags": []
   },
   "outputs": [],
   "source": [
    "pm10_clean = get_anomalies(pm, ' PM10 (µg/m^3)')\n",
    "pm25_clean = get_anomalies(pm, ' PM2.5 (µg/m^3)')\n",
    "pm1_clean = get_anomalies(pm, ' PM1 (µg/m^3)')\n"
   ]
  },
  {
   "cell_type": "code",
   "execution_count": null,
   "id": "567dadd8-a678-41cb-9c91-2ebffde26233",
   "metadata": {
    "tags": []
   },
   "outputs": [],
   "source": [
    "pm10_clean"
   ]
  },
  {
   "cell_type": "code",
   "execution_count": null,
   "id": "943210c3-310c-458d-836c-635b6f06f36e",
   "metadata": {},
   "outputs": [],
   "source": [
    "pm10_omitted = get_omitted_dates(pm, ' PM10 (µg/m^3)')\n",
    "pm25_omitted = get_omitted_dates(pm, ' PM2.5 (µg/m^3)')\n",
    "pm1_omitted = get_omitted_dates(pm, ' PM1 (µg/m^3)')"
   ]
  },
  {
   "cell_type": "code",
   "execution_count": null,
   "id": "137ae81f-7a1c-4d18-baab-cc95d604f9aa",
   "metadata": {},
   "outputs": [],
   "source": [
    "pm10_omitted.iloc[:,0].describe()"
   ]
  },
  {
   "cell_type": "code",
   "execution_count": null,
   "id": "21b2a549-956d-4d90-8a23-563db1efb56b",
   "metadata": {},
   "outputs": [],
   "source": [
    "pm25_omitted.iloc[:,0].describe()"
   ]
  },
  {
   "cell_type": "code",
   "execution_count": null,
   "id": "f095a82b-e3b5-4f5a-95df-ea5303f63715",
   "metadata": {},
   "outputs": [],
   "source": [
    "pm1_omitted.iloc[:,0].describe()"
   ]
  },
  {
   "cell_type": "code",
   "execution_count": null,
   "id": "a31f51c7-0d76-42bb-a441-fb3493a51df0",
   "metadata": {},
   "outputs": [],
   "source": [
    "pm10_clean.describe()"
   ]
  },
  {
   "cell_type": "code",
   "execution_count": null,
   "id": "8554538a-7cb8-4ada-a1a5-997701ecbd8e",
   "metadata": {},
   "outputs": [],
   "source": [
    "pm25_clean.describe()"
   ]
  },
  {
   "cell_type": "code",
   "execution_count": null,
   "id": "76a2034f-bf16-4419-92a2-75ab875b7341",
   "metadata": {},
   "outputs": [],
   "source": [
    "pm1_clean.describe()"
   ]
  },
  {
   "cell_type": "code",
   "execution_count": null,
   "id": "dcfc0396-eabc-45ee-b962-48d3602f4289",
   "metadata": {},
   "outputs": [],
   "source": [
    "#checking what are the range of values omitted for PM10\n",
    "pm.iloc[:,0][(pm.iloc[:,0] > 213.100000)].dropna()"
   ]
  },
  {
   "cell_type": "code",
   "execution_count": null,
   "id": "7be02806-5d5e-4812-b663-9e0c85f70f51",
   "metadata": {},
   "outputs": [],
   "source": [
    "#number of measurements after discarding\n",
    "print(\"pm10 # measurements remaining after discarding: \",pm10_clean.dropna().count())\n",
    "print(\"pm2.5 # measurements remaining after discarding: \",pm25_clean.dropna().count())\n",
    "print(\"pm1 # measurements remaining after discarding: \",pm1_clean.dropna().count())"
   ]
  },
  {
   "cell_type": "code",
   "execution_count": null,
   "id": "7da4af1a-f15d-45ec-91c3-935cb42a5338",
   "metadata": {},
   "outputs": [],
   "source": [
    "print(\"pm10 % remaining remaining after discarding: \",100*pm10_clean.dropna().count()/pm.count()[0])\n",
    "print(\"pm2.5 % remaining remaining after discarding: \",100*pm25_clean.dropna().count()/pm.count()[1])\n",
    "print(\"pm1 % remaining remaining after discarding: \",100*pm1_clean.dropna().count()/pm.count()[2])"
   ]
  },
  {
   "cell_type": "code",
   "execution_count": null,
   "id": "2162c951-1eaa-47c1-82ac-77195e1c8b4e",
   "metadata": {},
   "outputs": [],
   "source": [
    "#PM10 rate of change during 2020 New Year (2019 Dec 31 12 PM to 2020 Jan 1 6 AM)\n",
    "derivative_hist(pm_newyear, ' PM10 (µg/m^3)').forward_slope.hist(bins = np.linspace(-45,25,100), color = 'black')\n",
    "plt.grid(False)\n",
    "plt.vlines(-41.400000000000006,0, 115, color = 'gray', linestyle = 'dashed')\n",
    "plt.vlines(21.599999999999994, 0, 115, color = 'gray', linestyle = 'dashed')\n",
    "plt.ylabel('count')\n",
    "plt.xlabel('$PM_{10}$ rate of change ($\\mu$g/$m^3$/min)')\n",
    "plt.show()"
   ]
  },
  {
   "cell_type": "code",
   "execution_count": null,
   "id": "781d7df5-dcfc-4e0e-9a40-69d15a5e7c5d",
   "metadata": {},
   "outputs": [],
   "source": [
    "#PM2.5 rate of change during 2020 New Year (2019 Dec 31 12 PM to 2020 Jan 1 6 AM)\n",
    "derivative_hist(pm_newyear, ' PM2.5 (µg/m^3)').forward_slope.hist(bins = np.linspace(-45,25,100), color = 'black')\n",
    "plt.grid(False)\n",
    "plt.vlines(-42.50000000000001,0, 170, color = 'gray', linestyle = 'dashed')\n",
    "plt.vlines(24.800000000000004, 0, 170, color = 'gray', linestyle = 'dashed')\n",
    "plt.ylabel('count')\n",
    "plt.xlabel('$PM_{2.5}$ rate of change ($\\mu$g/$m^3$/min)')\n",
    "plt.show()"
   ]
  },
  {
   "cell_type": "code",
   "execution_count": null,
   "id": "83c8959f-a86d-47e7-bbff-fcf8db368c2a",
   "metadata": {},
   "outputs": [],
   "source": [
    "#PM1 rate of change during 2020 New Year (2019 Dec 31 12 PM to 2020 Jan 1 6 AM)\n",
    "derivative_hist(pm_newyear, ' PM1 (µg/m^3)').forward_slope.hist(bins = np.linspace(-45,25,100), color = 'black')\n",
    "plt.grid(False)\n",
    "plt.vlines(-41.10000000000001,0, 250, color = 'gray', linestyle = 'dashed')\n",
    "plt.vlines(22.299999999999997, 0, 250, color = 'gray', linestyle = 'dashed')\n",
    "plt.ylabel('count')\n",
    "plt.xlabel('$PM_{1}$ rate of change ($\\mu$g/$m^3$/min)')\n",
    "plt.show()"
   ]
  },
  {
   "cell_type": "code",
   "execution_count": null,
   "id": "1edac832-3ef7-45e1-851c-7e666d2fa69f",
   "metadata": {},
   "outputs": [],
   "source": [
    "fig = pm_newyear.iloc[:,0].plot(color = 'black')\n",
    "plt.ylabel(' $PM_{10}$ (µg/m^3)')\n",
    "plt.xlabel('data and time (mm-dd hh)')\n",
    "plt.yticks(np.arange(0, 180, 20))\n",
    "plt.show()"
   ]
  },
  {
   "cell_type": "code",
   "execution_count": null,
   "id": "dc10d056-54a2-4316-831a-5b8fb7db9a66",
   "metadata": {},
   "outputs": [],
   "source": [
    "pm_newyear.iloc[:,1].plot(color = 'black')\n",
    "plt.ylabel(' $PM_{2.5}$ (µg/m^3)')\n",
    "plt.xlabel('data and time (mm-dd hh)')\n",
    "plt.yticks(np.arange(0, 180, 20))\n",
    "plt.show()"
   ]
  },
  {
   "cell_type": "code",
   "execution_count": null,
   "id": "546efe6a-0317-4afa-a8fe-c3232f4f4d0b",
   "metadata": {},
   "outputs": [],
   "source": [
    "pm_newyear.iloc[:,2].plot(color = 'black')\n",
    "plt.ylabel(' $PM_{1}$ (µg/m^3)')\n",
    "plt.xlabel('data and time (mm-dd hh)')\n",
    "plt.yticks(np.arange(0, 180, 20))\n",
    "plt.show()"
   ]
  },
  {
   "cell_type": "code",
   "execution_count": null,
   "id": "a85f7e2c-2cab-4b17-9409-1878745f0624",
   "metadata": {},
   "outputs": [],
   "source": [
    "#global maximum PM10 value\n",
    "\n",
    "df['2020-01-21 17:50:11':'2020-01-21 17:59:11'][' PM10 (µg/m^3)'].plot(marker = 'o', color = 'black')\n",
    "plt.yscale('log')\n",
    "plt.ylabel('$PM_{10}$ ($\\mu$g/m^3)')\n",
    "plt.xlabel(r'day and time (dd hh:mm)')\n",
    "# plt.xticks(plt.get_xticks())\n",
    "# plt.xticklabels(['17:'+str(sec) for sec in range(50,60)])"
   ]
  },
  {
   "cell_type": "code",
   "execution_count": null,
   "id": "07fe8219-b86c-43b7-ad2c-ac249453f688",
   "metadata": {},
   "outputs": [],
   "source": [
    "#uncomment to save pm10, pm2.5, and pm1\n",
    "# pm10_clean.to_csv('pm10.csv')\n",
    "# pm25_clean.to_csv('pm25.csv')\n",
    "# pm1_clean.to_csv('pm1.csv')"
   ]
  },
  {
   "cell_type": "code",
   "execution_count": null,
   "id": "bec0f7b5-32f5-4692-a207-30b22661c71c",
   "metadata": {},
   "outputs": [],
   "source": [
    "pm10 = pd.read_csv('pm10.csv',index_col = 0, parse_dates = True)\n",
    "pm25 = pd.read_csv('pm25.csv',index_col = 0, parse_dates = True)\n",
    "pm1 = pd.read_csv('pm1.csv',index_col = 0, parse_dates = True)"
   ]
  },
  {
   "cell_type": "code",
   "execution_count": null,
   "id": "e256dbef-f3fd-4d1f-a940-4e617f509ce0",
   "metadata": {},
   "outputs": [],
   "source": [
    "#checking whether exported csv has expected values\n",
    "np.allclose(pm10_clean.to_numpy(),pm10.iloc[:,0].to_numpy())"
   ]
  },
  {
   "cell_type": "code",
   "execution_count": null,
   "id": "a49befcb-26c4-4df7-8849-fea169068cda",
   "metadata": {},
   "outputs": [],
   "source": [
    "#checking whether exported csv has expected values\n",
    "np.allclose(pm25_clean.to_numpy(),pm25.iloc[:,0].to_numpy())"
   ]
  },
  {
   "cell_type": "code",
   "execution_count": null,
   "id": "63315c99-c2ef-443a-8534-336648f21902",
   "metadata": {},
   "outputs": [],
   "source": [
    "#checking whether exported csv has expected values\n",
    "np.allclose(pm1_clean.to_numpy(),pm1.iloc[:,0].to_numpy())"
   ]
  }
 ],
 "metadata": {
  "kernelspec": {
   "display_name": "Python 3 (ipykernel)",
   "language": "python",
   "name": "python3"
  },
  "language_info": {
   "codemirror_mode": {
    "name": "ipython",
    "version": 3
   },
   "file_extension": ".py",
   "mimetype": "text/x-python",
   "name": "python",
   "nbconvert_exporter": "python",
   "pygments_lexer": "ipython3",
   "version": "3.10.10"
  }
 },
 "nbformat": 4,
 "nbformat_minor": 5
}
