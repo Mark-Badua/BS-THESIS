{
 "cells": [
  {
   "cell_type": "code",
   "execution_count": 93,
   "id": "644b2bb7-45d0-4e69-88a7-0f9ad74ce54e",
   "metadata": {
    "tags": []
   },
   "outputs": [],
   "source": [
    "import numpy as np\n",
    "import matplotlib.pyplot as plt\n",
    "import pandas as pd\n",
    "from scipy import stats\n",
    "from dropper import * #contains functions that I created to drop measurements"
   ]
  },
  {
   "cell_type": "code",
   "execution_count": 94,
   "id": "03cd378c-6c17-4d39-9d8d-d274c689e1f8",
   "metadata": {
    "tags": []
   },
   "outputs": [],
   "source": [
    "df = pd.read_csv(r'/home/jovyan/complete_data.csv', index_col = 0, parse_dates =  True)\n",
    "pm_col = [' PM10 (µg/m^3)', ' PM2.5 (µg/m^3)', ' PM1 (µg/m^3)']\n",
    "pm = df[pm_col]\n",
    "pm_newyear = pm['2019-12-31 12':'2020-01-01 06']"
   ]
  },
  {
   "cell_type": "code",
   "execution_count": 95,
   "id": "948b2109-f75e-45cb-8ee9-fbb3e7bcac79",
   "metadata": {
    "tags": []
   },
   "outputs": [],
   "source": [
    "coarse_pm = get_forward_slopes(pm, ' PM10 (µg/m^3)')\n",
    "pm10_clean = get_anomalies(pm, ' PM10 (µg/m^3)')\n",
    "pm10_omitted = get_omitted_dates(pm, ' PM10 (µg/m^3)')"
   ]
  },
  {
   "cell_type": "code",
   "execution_count": 13,
   "id": "5c19eff9-6c7f-4f83-8cf3-c675bd465a40",
   "metadata": {
    "tags": []
   },
   "outputs": [],
   "source": [
    "start_date = '2019-12-31 12'\n",
    "end_date ='2020-01-01 06'\n",
    "\n",
    "data_subset = coarse_pm[coarse_pm.timediff_in_min <= 10] #get subset containing timediff <= 10\n",
    "# lim = compute_3_sigma_int(data_subset, 'forward_slope') #from the subset, compute for x-3sigma and x+3sgima of the slopes\n",
    "# up_lim = lim[1]#upper bound of 3 sigma interval\n",
    "# down_lim = lim[0] #lower bound\n",
    "\n",
    "up_lim = data_subset[start_date: end_date].forward_slope.max() * 5\n",
    "down_lim = data_subset[start_date: end_date].forward_slope.min() * 5\n",
    "data_subset_1 = data_subset[(data_subset.forward_slope * data_subset.fwd_slope_1) <0] #limit subset to slopes that are alternating positive and negative\n",
    "# limit again to points whose slopes are outside the arbitrary boundary set\n",
    "data_subset_2 = data_subset_1[(data_subset_1.forward_slope > up_lim) | (data_subset_1.forward_slope < down_lim)]\n",
    "#limit to points with only positive slopes \n",
    "data_subset_3 = data_subset_2[data_subset_2.forward_slope >= 0]\n",
    "data_subset_4 = coarse_pm[coarse_pm.ind.apply(lambda x: x in (data_subset_3.ind.to_numpy()+1))] #POIs are the next point in time\n",
    "date_list = list(data_subset_4.index.astype(str)) #get list of dates of POIs\n",
    "#exclude dates in date_list\n",
    "final_data = exclude_dates(coarse_pm, date_list).iloc[:, 0]"
   ]
  },
  {
   "cell_type": "code",
   "execution_count": null,
   "id": "47504271-8c3a-4002-aa7c-2f7d9ca528a7",
   "metadata": {},
   "outputs": [],
   "source": [
    "coarse_pm_spikes  = coarse_pm[(coarse_pm.forward_slope * coarse_pm.fwd_slope_1 <0)]"
   ]
  },
  {
   "cell_type": "code",
   "execution_count": 22,
   "id": "05342a1c-8f3f-46ab-9a57-354c5b75a33f",
   "metadata": {
    "tags": []
   },
   "outputs": [
    {
     "data": {
      "text/plain": [
       "Index([' PM10 (µg/m^3)', ' PM2.5 (µg/m^3)', ' PM1 (µg/m^3)'], dtype='object')"
      ]
     },
     "execution_count": 22,
     "metadata": {},
     "output_type": "execute_result"
    }
   ],
   "source": [
    "pm_newyear.columns"
   ]
  },
  {
   "cell_type": "code",
   "execution_count": 24,
   "id": "041b6302-d740-43ff-b090-5a854a45a4b7",
   "metadata": {
    "tags": []
   },
   "outputs": [
    {
     "data": {
      "text/plain": [
       "2019-12-31 12:01:00    3.2\n",
       "2019-12-31 12:02:00    5.7\n",
       "2019-12-31 12:03:01    4.4\n",
       "2019-12-31 12:04:00    7.4\n",
       "2019-12-31 12:05:01    3.8\n",
       "                      ... \n",
       "2020-01-01 06:55:00    4.0\n",
       "2020-01-01 06:56:01    2.7\n",
       "2020-01-01 06:57:00    5.7\n",
       "2020-01-01 06:58:00    3.5\n",
       "2020-01-01 06:59:00    6.1\n",
       "Name:  PM10 (µg/m^3), Length: 1139, dtype: float64"
      ]
     },
     "execution_count": 24,
     "metadata": {},
     "output_type": "execute_result"
    }
   ],
   "source": [
    "pm_newyear[' PM10 (µg/m^3)'][1:]"
   ]
  },
  {
   "cell_type": "code",
   "execution_count": 26,
   "id": "899f8e7e-2200-456e-8cf0-a4541f76ef7f",
   "metadata": {
    "tags": []
   },
   "outputs": [
    {
     "data": {
      "text/plain": [
       "2019-12-31 12:00:01    NaN\n",
       "2019-12-31 12:01:00    0.0\n",
       "2019-12-31 12:02:00    0.0\n",
       "2019-12-31 12:03:01    0.0\n",
       "2019-12-31 12:04:00    0.0\n",
       "                      ... \n",
       "2020-01-01 06:55:00    0.0\n",
       "2020-01-01 06:56:01    0.0\n",
       "2020-01-01 06:57:00    0.0\n",
       "2020-01-01 06:58:00    0.0\n",
       "2020-01-01 06:59:00    NaN\n",
       "Name:  PM10 (µg/m^3), Length: 1140, dtype: float64"
      ]
     },
     "execution_count": 26,
     "metadata": {},
     "output_type": "execute_result"
    }
   ],
   "source": [
    "(pm_newyear[' PM10 (µg/m^3)'][1:] - pm_newyear[' PM10 (µg/m^3)'][:-1])"
   ]
  },
  {
   "cell_type": "code",
   "execution_count": 34,
   "id": "730d0ef1-79c4-40f4-9a76-f5690fe6f9da",
   "metadata": {
    "tags": []
   },
   "outputs": [],
   "source": [
    "\n",
    "pm10_ny_roc = (pm_newyear[' PM10 (µg/m^3)'].to_numpy()[1:] - pm_newyear[' PM10 (µg/m^3)'].to_numpy()[:-1])/((pm_newyear.index[1:] - pm_newyear.index[:-1])/np.timedelta64(1,'m'))\n",
    "pm10_ny_max = pm10_ny_roc.max()\n",
    "pm10_ny_min = pm10_ny_roc.min()"
   ]
  },
  {
   "cell_type": "code",
   "execution_count": 36,
   "id": "3480fa16-ccb2-43f2-845b-f67c26f890af",
   "metadata": {
    "tags": []
   },
   "outputs": [
    {
     "data": {
      "text/html": [
       "<div>\n",
       "<style scoped>\n",
       "    .dataframe tbody tr th:only-of-type {\n",
       "        vertical-align: middle;\n",
       "    }\n",
       "\n",
       "    .dataframe tbody tr th {\n",
       "        vertical-align: top;\n",
       "    }\n",
       "\n",
       "    .dataframe thead th {\n",
       "        text-align: right;\n",
       "    }\n",
       "</style>\n",
       "<table border=\"1\" class=\"dataframe\">\n",
       "  <thead>\n",
       "    <tr style=\"text-align: right;\">\n",
       "      <th></th>\n",
       "      <th>PM10 (µg/m^3)</th>\n",
       "      <th>PM2.5 (µg/m^3)</th>\n",
       "      <th>PM1 (µg/m^3)</th>\n",
       "    </tr>\n",
       "  </thead>\n",
       "  <tbody>\n",
       "    <tr>\n",
       "      <th>2019-12-31 12:00:01</th>\n",
       "      <td>3.5</td>\n",
       "      <td>2.9</td>\n",
       "      <td>2.2</td>\n",
       "    </tr>\n",
       "    <tr>\n",
       "      <th>2019-12-31 12:01:00</th>\n",
       "      <td>3.2</td>\n",
       "      <td>3.1</td>\n",
       "      <td>2.4</td>\n",
       "    </tr>\n",
       "    <tr>\n",
       "      <th>2019-12-31 12:02:00</th>\n",
       "      <td>5.7</td>\n",
       "      <td>5.6</td>\n",
       "      <td>4.7</td>\n",
       "    </tr>\n",
       "    <tr>\n",
       "      <th>2019-12-31 12:03:01</th>\n",
       "      <td>4.4</td>\n",
       "      <td>4.4</td>\n",
       "      <td>4.2</td>\n",
       "    </tr>\n",
       "    <tr>\n",
       "      <th>2019-12-31 12:04:00</th>\n",
       "      <td>7.4</td>\n",
       "      <td>6.2</td>\n",
       "      <td>4.5</td>\n",
       "    </tr>\n",
       "    <tr>\n",
       "      <th>...</th>\n",
       "      <td>...</td>\n",
       "      <td>...</td>\n",
       "      <td>...</td>\n",
       "    </tr>\n",
       "    <tr>\n",
       "      <th>2020-01-01 06:55:00</th>\n",
       "      <td>4.0</td>\n",
       "      <td>3.4</td>\n",
       "      <td>2.4</td>\n",
       "    </tr>\n",
       "    <tr>\n",
       "      <th>2020-01-01 06:56:01</th>\n",
       "      <td>2.7</td>\n",
       "      <td>2.7</td>\n",
       "      <td>2.4</td>\n",
       "    </tr>\n",
       "    <tr>\n",
       "      <th>2020-01-01 06:57:00</th>\n",
       "      <td>5.7</td>\n",
       "      <td>3.8</td>\n",
       "      <td>2.6</td>\n",
       "    </tr>\n",
       "    <tr>\n",
       "      <th>2020-01-01 06:58:00</th>\n",
       "      <td>3.5</td>\n",
       "      <td>3.4</td>\n",
       "      <td>2.9</td>\n",
       "    </tr>\n",
       "    <tr>\n",
       "      <th>2020-01-01 06:59:00</th>\n",
       "      <td>6.1</td>\n",
       "      <td>5.9</td>\n",
       "      <td>4.6</td>\n",
       "    </tr>\n",
       "  </tbody>\n",
       "</table>\n",
       "<p>1140 rows × 3 columns</p>\n",
       "</div>"
      ],
      "text/plain": [
       "                      PM10 (µg/m^3)   PM2.5 (µg/m^3)   PM1 (µg/m^3)\n",
       "2019-12-31 12:00:01             3.5              2.9            2.2\n",
       "2019-12-31 12:01:00             3.2              3.1            2.4\n",
       "2019-12-31 12:02:00             5.7              5.6            4.7\n",
       "2019-12-31 12:03:01             4.4              4.4            4.2\n",
       "2019-12-31 12:04:00             7.4              6.2            4.5\n",
       "...                             ...              ...            ...\n",
       "2020-01-01 06:55:00             4.0              3.4            2.4\n",
       "2020-01-01 06:56:01             2.7              2.7            2.4\n",
       "2020-01-01 06:57:00             5.7              3.8            2.6\n",
       "2020-01-01 06:58:00             3.5              3.4            2.9\n",
       "2020-01-01 06:59:00             6.1              5.9            4.6\n",
       "\n",
       "[1140 rows x 3 columns]"
      ]
     },
     "execution_count": 36,
     "metadata": {},
     "output_type": "execute_result"
    }
   ],
   "source": [
    "pm_newyear"
   ]
  },
  {
   "cell_type": "code",
   "execution_count": 35,
   "id": "0d361e37-5d38-4aa8-b0a7-440955990a24",
   "metadata": {
    "tags": []
   },
   "outputs": [
    {
     "data": {
      "text/plain": [
       "Float64Index([-0.3050847457627117,                 2.5, -1.2786885245901638,\n",
       "                3.050847457627119,  -3.540983606557378,  0.7999999999999998,\n",
       "                5.084745762711865,  -3.737704918032787, -1.5999999999999996,\n",
       "                2.847457627118644,\n",
       "              ...\n",
       "              -1.4000000000000004,    0.59016393442623, -1.7288135593220342,\n",
       "                              2.8, -1.3770491803278684, -0.4067796610169495,\n",
       "              -1.2786885245901638,   3.050847457627119,                -2.2,\n",
       "               2.5999999999999996],\n",
       "             dtype='float64', length=1139)"
      ]
     },
     "execution_count": 35,
     "metadata": {},
     "output_type": "execute_result"
    }
   ],
   "source": [
    "pm10_ny_roc"
   ]
  },
  {
   "cell_type": "code",
   "execution_count": 104,
   "id": "4dbbffda-031d-4943-91a4-3f9d75c5aa96",
   "metadata": {
    "tags": []
   },
   "outputs": [
    {
     "data": {
      "text/plain": [
       "Index([' PM10 (µg/m^3)', ' PM2.5 (µg/m^3)', ' PM1 (µg/m^3)'], dtype='object')"
      ]
     },
     "execution_count": 104,
     "metadata": {},
     "output_type": "execute_result"
    }
   ],
   "source": [
    "pm.columns"
   ]
  },
  {
   "cell_type": "code",
   "execution_count": 48,
   "id": "550d14fa-0de6-4630-82f4-d4f4321c49a7",
   "metadata": {
    "tags": []
   },
   "outputs": [],
   "source": [
    "pm10_unfiltered = pm[' PM10 (µg/m^3)'].dropna()"
   ]
  },
  {
   "cell_type": "code",
   "execution_count": 61,
   "id": "072db91d-0fb8-4cd1-a66f-6c587bd27fa4",
   "metadata": {
    "tags": []
   },
   "outputs": [
    {
     "data": {
      "text/plain": [
       "array([13.716, 19.175, 15.716, ...,  9.4  , 10.1  ,  9.3  ])"
      ]
     },
     "execution_count": 61,
     "metadata": {},
     "output_type": "execute_result"
    }
   ],
   "source": [
    "pm10_unfiltered[:-2].to_numpy()"
   ]
  },
  {
   "cell_type": "code",
   "execution_count": 59,
   "id": "2954df0f-cca6-4e68-bbfa-48c50141d106",
   "metadata": {
    "tags": []
   },
   "outputs": [
    {
     "data": {
      "text/plain": [
       "array([19.175, 15.716, 12.816, ..., 10.1  ,  9.3  ,  9.   ])"
      ]
     },
     "execution_count": 59,
     "metadata": {},
     "output_type": "execute_result"
    }
   ],
   "source": [
    "pm10_unfiltered[1:-1].to_numpy()"
   ]
  },
  {
   "cell_type": "code",
   "execution_count": 62,
   "id": "832b77ac-887a-48a5-9b2c-636dbda44658",
   "metadata": {
    "tags": []
   },
   "outputs": [
    {
     "data": {
      "text/plain": [
       "array([15.716, 12.816,  9.675, ...,  9.3  ,  9.   , 13.6  ])"
      ]
     },
     "execution_count": 62,
     "metadata": {},
     "output_type": "execute_result"
    }
   ],
   "source": [
    "pm10_unfiltered[2:].to_numpy()"
   ]
  },
  {
   "cell_type": "code",
   "execution_count": 78,
   "id": "1ca9d8c3-78f8-4973-b417-92df0e49458e",
   "metadata": {
    "tags": []
   },
   "outputs": [
    {
     "data": {
      "text/plain": [
       "23"
      ]
     },
     "execution_count": 78,
     "metadata": {},
     "output_type": "execute_result"
    }
   ],
   "source": [
    "((pm10_unfiltered.index[1:] - pm10_unfiltered.index[:-1])/(np.timedelta64(1,'m'))>10).sum()"
   ]
  },
  {
   "cell_type": "code",
   "execution_count": 71,
   "id": "a15236a7-a654-4643-a17e-369c7a531ab4",
   "metadata": {
    "tags": []
   },
   "outputs": [
    {
     "data": {
      "image/png": "[encoded data removed]",
      "text/plain": [
       "<Figure size 640x480 with 1 Axes>"
      ]
     },
     "metadata": {},
     "output_type": "display_data"
    }
   ],
   "source": [
    "plt.boxplot((pm10_unfiltered.index[1:] - pm10_unfiltered.index[:-1])/(np.timedelta64(1,'m')))\n",
    "plt.yscale('log')"
   ]
  },
  {
   "cell_type": "code",
   "execution_count": 103,
   "id": "23ceb9bb-9827-46f4-a980-16a5abbc291a",
   "metadata": {
    "tags": []
   },
   "outputs": [
    {
     "data": {
      "image/png": "[encoded data removed]",
      "text/plain": [
       "<Figure size 640x480 with 1 Axes>"
      ]
     },
     "metadata": {},
     "output_type": "display_data"
    }
   ],
   "source": [
    "plt.boxplot(data)\n",
    "plt.yscale('log')"
   ]
  },
  {
   "cell_type": "code",
   "execution_count": 139,
   "id": "e8a71e7e-7c13-4c88-b9f3-e861b37148be",
   "metadata": {
    "tags": []
   },
   "outputs": [
    {
     "name": "stdout",
     "output_type": "stream",
     "text": [
      "max107.99999999999997\n",
      "min-207.00000000000003\n"
     ]
    }
   ],
   "source": [
    "            print(\"max{}\".format(pm10_ny_max*5))\n",
    "            print(\"min{}\".format(pm10_ny_min*5))"
   ]
  },
  {
   "cell_type": "code",
   "execution_count": null,
   "id": "90342311-81e8-4273-99e9-56c19394111b",
   "metadata": {},
   "outputs": [],
   "source": [
    "(df_ny[col].to_numpy()[1:] - df_ny[col].to_numpy()[:-1])/((df_ny.index[1:] - df_ny.index[:-1])/np.timedelta64(1,'m'))"
   ]
  },
  {
   "cell_type": "code",
   "execution_count": 160,
   "id": "bb8d1436-f477-4bf4-9750-e92bcce214f4",
   "metadata": {
    "tags": []
   },
   "outputs": [
    {
     "data": {
      "text/plain": [
       "Index([' PM10 (µg/m^3)', ' PM2.5 (µg/m^3)', ' PM1 (µg/m^3)'], dtype='object')"
      ]
     },
     "execution_count": 160,
     "metadata": {},
     "output_type": "execute_result"
    }
   ],
   "source": [
    "pm.columns"
   ]
  },
  {
   "cell_type": "code",
   "execution_count": 175,
   "id": "374e6c1e-2f95-47ad-badd-4d3a8eb1cbdb",
   "metadata": {
    "tags": []
   },
   "outputs": [
    {
     "data": {
      "text/plain": [
       "\u001b[0;31mType:\u001b[0m        AxisProperty\n",
       "\u001b[0;31mString form:\u001b[0m <pandas._libs.properties.AxisProperty object at 0x7f3810d39c30>\n",
       "\u001b[0;31mFile:\u001b[0m        /opt/conda/lib/python3.10/site-packages/pandas/_libs/properties.cpython-310-x86_64-linux-gnu.so\n",
       "\u001b[0;31mDocstring:\u001b[0m   The index (row labels) of the DataFrame."
      ]
     },
     "metadata": {},
     "output_type": "display_data"
    }
   ],
   "source": [
    "pd.DataFrame.index?"
   ]
  },
  {
   "cell_type": "code",
   "execution_count": 178,
   "id": "d83dc03c-6a8d-4974-86c6-128a6e78ceaf",
   "metadata": {
    "tags": []
   },
   "outputs": [
    {
     "data": {
      "text/plain": [
       "DatetimeIndex(['2019-12-28 06:50:00', '2019-12-28 06:51:00',\n",
       "               '2019-12-28 06:52:00', '2019-12-28 06:53:00',\n",
       "               '2019-12-28 06:54:00', '2019-12-28 06:55:00',\n",
       "               '2019-12-28 06:56:00', '2019-12-28 06:57:00',\n",
       "               '2019-12-28 06:58:00', '2019-12-28 06:59:00',\n",
       "               ...\n",
       "               '2020-07-10 23:50:41', '2020-07-10 23:51:41',\n",
       "               '2020-07-10 23:52:41', '2020-07-10 23:53:41',\n",
       "               '2020-07-10 23:54:41', '2020-07-10 23:55:41',\n",
       "               '2020-07-10 23:56:41', '2020-07-10 23:57:41',\n",
       "               '2020-07-10 23:58:41', '2020-07-10 23:59:40'],\n",
       "              dtype='datetime64[ns]', length=250834, freq=None)"
      ]
     },
     "execution_count": 178,
     "metadata": {},
     "output_type": "execute_result"
    }
   ],
   "source": [
    "pm.index"
   ]
  },
  {
   "cell_type": "code",
   "execution_count": null,
   "id": "e94c5b06-8122-4c6e-b068-ce23ab910d95",
   "metadata": {},
   "outputs": [],
   "source": [
    "def is_eq_to_any(pd.DatetimeIndex, )"
   ]
  },
  {
   "cell_type": "code",
   "execution_count": 168,
   "id": "f7e78e16-c228-46ff-b562-d3aba3803b18",
   "metadata": {
    "tags": []
   },
   "outputs": [],
   "source": [
    "def dropped_pts(data: pd.DataFrame, col: str, start_date = '2019-12-31 12', end_date ='2020-01-01 06'):\n",
    "    df = data[col].dropna()\n",
    "    df_ny = df[start_date:end_date]\n",
    "    df_ny_roc = (df_ny.to_numpy()[1:] - df_ny.to_numpy()[:-1])/((df_ny.index[1:] - df_ny.index[:-1])/np.timedelta64(1,'m'))\n",
    "    df_ny_roc_max = df_ny_roc.max()\n",
    "    df_ny_roc_min = df_ny_roc.min()\n",
    "    data = []\n",
    "    timestamps = []\n",
    "    for pt1, pt2, pt3, d1, d2, d3 in zip(df[:-2].to_numpy(), df[1:-1].to_numpy(),\n",
    "                                     df[2:].to_numpy(), df.index[:-2],\n",
    "                                     df.index[1:-1], df.index[2:]):\n",
    "        if (((d2-d1)/np.timedelta64(1,'m')) > 10) or (((d3-d2)/np.timedelta64(1,'m')) > 10): \n",
    "            continue\n",
    "        else:\n",
    "            m1 = (pt2-pt1)/((d2-d1)/np.timedelta64(1,'m'))\n",
    "            m2 = (pt3-pt2)/((d3-d2)/np.timedelta64(1,'m'))\n",
    "            if (m1*m2 <0) and (m1 >=0):\n",
    "                if ((m1 > (df_ny_roc_max)*5) or (m2 < (df_ny_roc_min*5))):\n",
    "                    data.append(pt2)\n",
    "                    timestamps.append(d2)\n",
    "    return data, timestamps"
   ]
  },
  {
   "cell_type": "code",
   "execution_count": 170,
   "id": "9d1dc920-9751-4805-8e98-e7f7bfd9738f",
   "metadata": {
    "tags": []
   },
   "outputs": [],
   "source": [
    "pt, t = dropped_pts(pm, ' PM10 (µg/m^3)')"
   ]
  },
  {
   "cell_type": "code",
   "execution_count": 172,
   "id": "61034bdb-9173-4b21-a4fa-5739cc95ed10",
   "metadata": {
    "tags": []
   },
   "outputs": [
    {
     "data": {
      "text/plain": [
       "226"
      ]
     },
     "execution_count": 172,
     "metadata": {},
     "output_type": "execute_result"
    }
   ],
   "source": [
    "len(t)"
   ]
  },
  {
   "cell_type": "code",
   "execution_count": 154,
   "id": "b6b8b3cb-2166-44fb-a45b-11d1be6ba104",
   "metadata": {
    "tags": []
   },
   "outputs": [],
   "source": [
    "\n",
    "data = []\n",
    "timestamps = []\n",
    "\n",
    "# count_pts_g10 = 0\n",
    "for pt1, pt2, pt3, d1, d2, d3 in zip(pm10_unfiltered[:-2].to_numpy(), pm10_unfiltered[1:-1].to_numpy(),\n",
    "                                 pm10_unfiltered[2:].to_numpy(), pm10_unfiltered.index[:-2],\n",
    "                                 pm10_unfiltered.index[1:-1], pm10_unfiltered.index[2:]):\n",
    "    #checking if the three points are not too far from each other (<= 10 mins apart pairwise)\n",
    "    if (((d2-d1)/np.timedelta64(1,'m')) > 10) or (((d3-d2)/np.timedelta64(1,'m')) > 10): \n",
    "        continue\n",
    "    else:\n",
    "        m1 = (pt2-pt1)/((d2-d1)/np.timedelta64(1,'m'))\n",
    "        m2 = (pt3-pt2)/((d3-d2)/np.timedelta64(1,'m'))\n",
    "        if (m1*m2 <0) and (m1 >=0):\n",
    "            if ((m1 > (pm10_ny_max)*5) or (m2 < (pm10_ny_min*5))):\n",
    "                data.append(pt2)\n",
    "                timestamps.append(d2)"
   ]
  },
  {
   "cell_type": "code",
   "execution_count": null,
   "id": "46af7e8e-602a-4a66-90f7-8a17a85ea2bb",
   "metadata": {},
   "outputs": [],
   "source": []
  },
  {
   "cell_type": "code",
   "execution_count": 155,
   "id": "d9e04d87-a2ef-4147-9bfb-a7f606fe47f9",
   "metadata": {
    "tags": []
   },
   "outputs": [
    {
     "data": {
      "text/plain": [
       "226"
      ]
     },
     "execution_count": 155,
     "metadata": {},
     "output_type": "execute_result"
    }
   ],
   "source": [
    "len(data)"
   ]
  },
  {
   "cell_type": "code",
   "execution_count": 156,
   "id": "f5275eac-66f8-4ee7-89a4-4ed2377088db",
   "metadata": {
    "tags": []
   },
   "outputs": [
    {
     "data": {
      "text/plain": [
       "226"
      ]
     },
     "execution_count": 156,
     "metadata": {},
     "output_type": "execute_result"
    }
   ],
   "source": [
    "len(timestamps)"
   ]
  },
  {
   "cell_type": "code",
   "execution_count": 145,
   "id": "ac1a7ace-ce22-4cb7-9cfb-f0693b0b4fa6",
   "metadata": {
    "tags": []
   },
   "outputs": [
    {
     "name": "stdout",
     "output_type": "stream",
     "text": [
      "2020-01-04 14:51:58\n"
     ]
    }
   ],
   "source": [
    "for t in timestamps:\n",
    "    if not(t in pm10_omitted.index.to_list()):\n",
    "        print(t)"
   ]
  },
  {
   "cell_type": "code",
   "execution_count": 153,
   "id": "1fddd19a-80f6-493c-8172-65f06c573005",
   "metadata": {
    "tags": []
   },
   "outputs": [
    {
     "data": {
      "text/plain": [
       "False"
      ]
     },
     "execution_count": 153,
     "metadata": {},
     "output_type": "execute_result"
    }
   ],
   "source": [
    "pd.Timestamp(\"2020-01-04 14:51:58\") in pm10_omitted.index.to_list()"
   ]
  },
  {
   "cell_type": "code",
   "execution_count": 151,
   "id": "2b7ba8ac-e194-4f28-b0db-052006b99af9",
   "metadata": {
    "tags": []
   },
   "outputs": [
    {
     "data": {
      "text/plain": [
       "\u001b[0;31mInit signature:\u001b[0m\n",
       "\u001b[0mpd\u001b[0m\u001b[0;34m.\u001b[0m\u001b[0mTimestamp\u001b[0m\u001b[0;34m(\u001b[0m\u001b[0;34m\u001b[0m\n",
       "\u001b[0;34m\u001b[0m    \u001b[0mts_input\u001b[0m\u001b[0;34m=\u001b[0m\u001b[0;34m<\u001b[0m\u001b[0mobject\u001b[0m \u001b[0mobject\u001b[0m \u001b[0mat\u001b[0m \u001b[0;36m0x7f38128c0720\u001b[0m\u001b[0;34m>\u001b[0m\u001b[0;34m,\u001b[0m\u001b[0;34m\u001b[0m\n",
       "\u001b[0;34m\u001b[0m    \u001b[0mfreq\u001b[0m\u001b[0;34m=\u001b[0m\u001b[0;32mNone\u001b[0m\u001b[0;34m,\u001b[0m\u001b[0;34m\u001b[0m\n",
       "\u001b[0;34m\u001b[0m    \u001b[0mtz\u001b[0m\u001b[0;34m=\u001b[0m\u001b[0;32mNone\u001b[0m\u001b[0;34m,\u001b[0m\u001b[0;34m\u001b[0m\n",
       "\u001b[0;34m\u001b[0m    \u001b[0munit\u001b[0m\u001b[0;34m=\u001b[0m\u001b[0;32mNone\u001b[0m\u001b[0;34m,\u001b[0m\u001b[0;34m\u001b[0m\n",
       "\u001b[0;34m\u001b[0m    \u001b[0myear\u001b[0m\u001b[0;34m=\u001b[0m\u001b[0;32mNone\u001b[0m\u001b[0;34m,\u001b[0m\u001b[0;34m\u001b[0m\n",
       "\u001b[0;34m\u001b[0m    \u001b[0mmonth\u001b[0m\u001b[0;34m=\u001b[0m\u001b[0;32mNone\u001b[0m\u001b[0;34m,\u001b[0m\u001b[0;34m\u001b[0m\n",
       "\u001b[0;34m\u001b[0m    \u001b[0mday\u001b[0m\u001b[0;34m=\u001b[0m\u001b[0;32mNone\u001b[0m\u001b[0;34m,\u001b[0m\u001b[0;34m\u001b[0m\n",
       "\u001b[0;34m\u001b[0m    \u001b[0mhour\u001b[0m\u001b[0;34m=\u001b[0m\u001b[0;32mNone\u001b[0m\u001b[0;34m,\u001b[0m\u001b[0;34m\u001b[0m\n",
       "\u001b[0;34m\u001b[0m    \u001b[0mminute\u001b[0m\u001b[0;34m=\u001b[0m\u001b[0;32mNone\u001b[0m\u001b[0;34m,\u001b[0m\u001b[0;34m\u001b[0m\n",
       "\u001b[0;34m\u001b[0m    \u001b[0msecond\u001b[0m\u001b[0;34m=\u001b[0m\u001b[0;32mNone\u001b[0m\u001b[0;34m,\u001b[0m\u001b[0;34m\u001b[0m\n",
       "\u001b[0;34m\u001b[0m    \u001b[0mmicrosecond\u001b[0m\u001b[0;34m=\u001b[0m\u001b[0;32mNone\u001b[0m\u001b[0;34m,\u001b[0m\u001b[0;34m\u001b[0m\n",
       "\u001b[0;34m\u001b[0m    \u001b[0mnanosecond\u001b[0m\u001b[0;34m=\u001b[0m\u001b[0;32mNone\u001b[0m\u001b[0;34m,\u001b[0m\u001b[0;34m\u001b[0m\n",
       "\u001b[0;34m\u001b[0m    \u001b[0mtzinfo\u001b[0m\u001b[0;34m=\u001b[0m\u001b[0;32mNone\u001b[0m\u001b[0;34m,\u001b[0m\u001b[0;34m\u001b[0m\n",
       "\u001b[0;34m\u001b[0m    \u001b[0;34m*\u001b[0m\u001b[0;34m,\u001b[0m\u001b[0;34m\u001b[0m\n",
       "\u001b[0;34m\u001b[0m    \u001b[0mfold\u001b[0m\u001b[0;34m=\u001b[0m\u001b[0;32mNone\u001b[0m\u001b[0;34m,\u001b[0m\u001b[0;34m\u001b[0m\n",
       "\u001b[0;34m\u001b[0m\u001b[0;34m)\u001b[0m\u001b[0;34m\u001b[0m\u001b[0;34m\u001b[0m\u001b[0m\n",
       "\u001b[0;31mDocstring:\u001b[0m     \n",
       "Pandas replacement for python datetime.datetime object.\n",
       "\n",
       "Timestamp is the pandas equivalent of python's Datetime\n",
       "and is interchangeable with it in most cases. It's the type used\n",
       "for the entries that make up a DatetimeIndex, and other timeseries\n",
       "oriented data structures in pandas.\n",
       "\n",
       "Parameters\n",
       "----------\n",
       "ts_input : datetime-like, str, int, float\n",
       "    Value to be converted to Timestamp.\n",
       "freq : str, DateOffset\n",
       "    Offset which Timestamp will have.\n",
       "tz : str, pytz.timezone, dateutil.tz.tzfile or None\n",
       "    Time zone for time which Timestamp will have.\n",
       "unit : str\n",
       "    Unit used for conversion if ts_input is of type int or float. The\n",
       "    valid values are 'D', 'h', 'm', 's', 'ms', 'us', and 'ns'. For\n",
       "    example, 's' means seconds and 'ms' means milliseconds.\n",
       "year, month, day : int\n",
       "hour, minute, second, microsecond : int, optional, default 0\n",
       "nanosecond : int, optional, default 0\n",
       "tzinfo : datetime.tzinfo, optional, default None\n",
       "fold : {0, 1}, default None, keyword-only\n",
       "    Due to daylight saving time, one wall clock time can occur twice\n",
       "    when shifting from summer to winter time; fold describes whether the\n",
       "    datetime-like corresponds  to the first (0) or the second time (1)\n",
       "    the wall clock hits the ambiguous time.\n",
       "\n",
       "    .. versionadded:: 1.1.0\n",
       "\n",
       "Notes\n",
       "-----\n",
       "There are essentially three calling conventions for the constructor. The\n",
       "primary form accepts four parameters. They can be passed by position or\n",
       "keyword.\n",
       "\n",
       "The other two forms mimic the parameters from ``datetime.datetime``. They\n",
       "can be passed by either position or keyword, but not both mixed together.\n",
       "\n",
       "Examples\n",
       "--------\n",
       "Using the primary calling convention:\n",
       "\n",
       "This converts a datetime-like string\n",
       "\n",
       ">>> pd.Timestamp('2017-01-01T12')\n",
       "Timestamp('2017-01-01 12:00:00')\n",
       "\n",
       "This converts a float representing a Unix epoch in units of seconds\n",
       "\n",
       ">>> pd.Timestamp(1513393355.5, unit='s')\n",
       "Timestamp('2017-12-16 03:02:35.500000')\n",
       "\n",
       "This converts an int representing a Unix-epoch in units of seconds\n",
       "and for a particular timezone\n",
       "\n",
       ">>> pd.Timestamp(1513393355, unit='s', tz='US/Pacific')\n",
       "Timestamp('2017-12-15 19:02:35-0800', tz='US/Pacific')\n",
       "\n",
       "Using the other two forms that mimic the API for ``datetime.datetime``:\n",
       "\n",
       ">>> pd.Timestamp(2017, 1, 1, 12)\n",
       "Timestamp('2017-01-01 12:00:00')\n",
       "\n",
       ">>> pd.Timestamp(year=2017, month=1, day=1, hour=12)\n",
       "Timestamp('2017-01-01 12:00:00')\n",
       "\u001b[0;31mFile:\u001b[0m           /opt/conda/lib/python3.10/site-packages/pandas/_libs/tslibs/timestamps.cpython-310-x86_64-linux-gnu.so\n",
       "\u001b[0;31mType:\u001b[0m           type\n",
       "\u001b[0;31mSubclasses:\u001b[0m     "
      ]
     },
     "metadata": {},
     "output_type": "display_data"
    }
   ],
   "source": [
    "pd.Timestamp?"
   ]
  },
  {
   "cell_type": "code",
   "execution_count": null,
   "id": "fc8a25f0-f0e6-4495-a78a-b2361243329c",
   "metadata": {},
   "outputs": [],
   "source": []
  }
 ],
 "metadata": {
  "kernelspec": {
   "display_name": "Python 3 (ipykernel)",
   "language": "python",
   "name": "python3"
  },
  "language_info": {
   "codemirror_mode": {
    "name": "ipython",
    "version": 3
   },
   "file_extension": ".py",
   "mimetype": "text/x-python",
   "name": "python",
   "nbconvert_exporter": "python",
   "pygments_lexer": "ipython3",
   "version": "3.10.10"
  }
 },
 "nbformat": 4,
 "nbformat_minor": 5
}
