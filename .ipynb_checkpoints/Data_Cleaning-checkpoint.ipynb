{
 "cells": [
  {
   "cell_type": "markdown",
   "id": "905cfc37-6b8f-4f33-aa8c-a209d42f6760",
   "metadata": {},
   "source": [
    "# Data Cleaning"
   ]
  },
  {
   "cell_type": "markdown",
   "id": "461dcb6d-0de9-46cd-8dd4-e3477b2c5294",
   "metadata": {},
   "source": [
    "In this notebook, I will be documenting and justifying the omission of measurements from analysis. First, let us import the packages and scripts that I used."
   ]
  },
  {
   "cell_type": "code",
   "execution_count": 8,
   "id": "7b0be1dd-69f7-4298-b93b-982781265166",
   "metadata": {
    "tags": []
   },
   "outputs": [],
   "source": [
    "import numpy as np\n",
    "import matplotlib.pyplot as plt\n",
    "import pandas as pd"
   ]
  },
  {
   "cell_type": "code",
   "execution_count": 9,
   "id": "1a903085-73d9-4994-ba8d-42c78b7732dd",
   "metadata": {
    "tags": []
   },
   "outputs": [],
   "source": [
    "from scipy import stats\n",
    "from dropper import * #contains functions that I created to drop measurements"
   ]
  },
  {
   "cell_type": "code",
   "execution_count": 10,
   "id": "fecfdca1-805d-4dff-9ad8-95c13eeca48f",
   "metadata": {
    "tags": []
   },
   "outputs": [],
   "source": [
    "df = pd.read_csv(r'/home/jovyan/complete_data.csv', index_col = 0, parse_dates =  True)\n",
    "pm_col = [' PM10 (µg/m^3)', ' PM2.5 (µg/m^3)', ' PM1 (µg/m^3)']\n",
    "pm = df[pm_col]\n",
    "pm_newyear = pm['2019-12-31 12':'2020-01-01 06']"
   ]
  },
  {
   "cell_type": "code",
   "execution_count": 43,
   "id": "8c1cdc45-9b6c-413e-b10a-65166d54acd8",
   "metadata": {
    "tags": []
   },
   "outputs": [
    {
     "data": {
      "text/html": [
       "<div>\n",
       "<style scoped>\n",
       "    .dataframe tbody tr th:only-of-type {\n",
       "        vertical-align: middle;\n",
       "    }\n",
       "\n",
       "    .dataframe tbody tr th {\n",
       "        vertical-align: top;\n",
       "    }\n",
       "\n",
       "    .dataframe thead th {\n",
       "        text-align: right;\n",
       "    }\n",
       "</style>\n",
       "<table border=\"1\" class=\"dataframe\">\n",
       "  <thead>\n",
       "    <tr style=\"text-align: right;\">\n",
       "      <th></th>\n",
       "      <th>0</th>\n",
       "    </tr>\n",
       "  </thead>\n",
       "  <tbody>\n",
       "    <tr>\n",
       "      <th>count</th>\n",
       "      <td>1139.000000</td>\n",
       "    </tr>\n",
       "    <tr>\n",
       "      <th>mean</th>\n",
       "      <td>0.999985</td>\n",
       "    </tr>\n",
       "    <tr>\n",
       "      <th>std</th>\n",
       "      <td>0.012547</td>\n",
       "    </tr>\n",
       "    <tr>\n",
       "      <th>min</th>\n",
       "      <td>0.983333</td>\n",
       "    </tr>\n",
       "    <tr>\n",
       "      <th>25%</th>\n",
       "      <td>0.983333</td>\n",
       "    </tr>\n",
       "    <tr>\n",
       "      <th>50%</th>\n",
       "      <td>1.000000</td>\n",
       "    </tr>\n",
       "    <tr>\n",
       "      <th>75%</th>\n",
       "      <td>1.016667</td>\n",
       "    </tr>\n",
       "    <tr>\n",
       "      <th>max</th>\n",
       "      <td>1.016667</td>\n",
       "    </tr>\n",
       "  </tbody>\n",
       "</table>\n",
       "</div>"
      ],
      "text/plain": [
       "                 0\n",
       "count  1139.000000\n",
       "mean      0.999985\n",
       "std       0.012547\n",
       "min       0.983333\n",
       "25%       0.983333\n",
       "50%       1.000000\n",
       "75%       1.016667\n",
       "max       1.016667"
      ]
     },
     "execution_count": 43,
     "metadata": {},
     "output_type": "execute_result"
    }
   ],
   "source": [
    "# summary statistics on time difference between measurements during the 2020 New Year\n",
    "pd.DataFrame( \n",
    "    (pm_newyear.index[1:] - pm_newyear.index[:-1])/np.timedelta64(1, 'm')\n",
    "            ).describe()"
   ]
  },
  {
   "cell_type": "code",
   "execution_count": 11,
   "id": "3036cf53-7c0a-49e9-a0cf-ab2ad92d63f6",
   "metadata": {
    "tags": []
   },
   "outputs": [
    {
     "data": {
      "text/plain": [
       "'\\\\begin{tabular}{lr}\\n & 0 \\\\\\\\\\ncount & 1139.000000 \\\\\\\\\\nmean & 0.999985 \\\\\\\\\\nstd & 0.012547 \\\\\\\\\\nmin & 0.983333 \\\\\\\\\\n25% & 0.983333 \\\\\\\\\\n50% & 1.000000 \\\\\\\\\\n75% & 1.016667 \\\\\\\\\\nmax & 1.016667 \\\\\\\\\\n\\\\end{tabular}\\n'"
      ]
     },
     "execution_count": 11,
     "metadata": {},
     "output_type": "execute_result"
    }
   ],
   "source": [
    "#conversion of dataframe above to latex table\n",
    "pd.DataFrame( \n",
    "    (pm_newyear.index[1:] - pm_newyear.index[:-1])/np.timedelta64(1, 'm')\n",
    "            ).describe().style.to_latex()"
   ]
  },
  {
   "cell_type": "markdown",
   "id": "6f5ea710-9012-4fbe-a683-b34ce06b793f",
   "metadata": {},
   "source": [
    "Let us look at the summary statistics before removing measurements"
   ]
  },
  {
   "cell_type": "code",
   "execution_count": 5,
   "id": "4a4ceeb6-5e83-44d3-b159-2d10ecd69c3e",
   "metadata": {
    "tags": []
   },
   "outputs": [
    {
     "data": {
      "text/html": [
       "<div>\n",
       "<style scoped>\n",
       "    .dataframe tbody tr th:only-of-type {\n",
       "        vertical-align: middle;\n",
       "    }\n",
       "\n",
       "    .dataframe tbody tr th {\n",
       "        vertical-align: top;\n",
       "    }\n",
       "\n",
       "    .dataframe thead th {\n",
       "        text-align: right;\n",
       "    }\n",
       "</style>\n",
       "<table border=\"1\" class=\"dataframe\">\n",
       "  <thead>\n",
       "    <tr style=\"text-align: right;\">\n",
       "      <th></th>\n",
       "      <th>PM10 (µg/m^3)</th>\n",
       "      <th>PM2.5 (µg/m^3)</th>\n",
       "      <th>PM1 (µg/m^3)</th>\n",
       "    </tr>\n",
       "  </thead>\n",
       "  <tbody>\n",
       "    <tr>\n",
       "      <th>count</th>\n",
       "      <td>248171.000000</td>\n",
       "      <td>248171.000000</td>\n",
       "      <td>248171.000000</td>\n",
       "    </tr>\n",
       "    <tr>\n",
       "      <th>mean</th>\n",
       "      <td>16.277031</td>\n",
       "      <td>13.120716</td>\n",
       "      <td>11.315146</td>\n",
       "    </tr>\n",
       "    <tr>\n",
       "      <th>std</th>\n",
       "      <td>22.290424</td>\n",
       "      <td>11.080843</td>\n",
       "      <td>9.747115</td>\n",
       "    </tr>\n",
       "    <tr>\n",
       "      <th>min</th>\n",
       "      <td>0.300000</td>\n",
       "      <td>0.300000</td>\n",
       "      <td>0.300000</td>\n",
       "    </tr>\n",
       "    <tr>\n",
       "      <th>25%</th>\n",
       "      <td>7.200000</td>\n",
       "      <td>6.000000</td>\n",
       "      <td>4.900000</td>\n",
       "    </tr>\n",
       "    <tr>\n",
       "      <th>50%</th>\n",
       "      <td>12.500000</td>\n",
       "      <td>10.100000</td>\n",
       "      <td>8.600000</td>\n",
       "    </tr>\n",
       "    <tr>\n",
       "      <th>75%</th>\n",
       "      <td>20.600000</td>\n",
       "      <td>16.600000</td>\n",
       "      <td>14.400000</td>\n",
       "    </tr>\n",
       "    <tr>\n",
       "      <th>max</th>\n",
       "      <td>7910.000000</td>\n",
       "      <td>1006.700000</td>\n",
       "      <td>237.200000</td>\n",
       "    </tr>\n",
       "  </tbody>\n",
       "</table>\n",
       "</div>"
      ],
      "text/plain": [
       "        PM10 (µg/m^3)   PM2.5 (µg/m^3)   PM1 (µg/m^3)\n",
       "count   248171.000000    248171.000000  248171.000000\n",
       "mean        16.277031        13.120716      11.315146\n",
       "std         22.290424        11.080843       9.747115\n",
       "min          0.300000         0.300000       0.300000\n",
       "25%          7.200000         6.000000       4.900000\n",
       "50%         12.500000        10.100000       8.600000\n",
       "75%         20.600000        16.600000      14.400000\n",
       "max       7910.000000      1006.700000     237.200000"
      ]
     },
     "execution_count": 5,
     "metadata": {},
     "output_type": "execute_result"
    }
   ],
   "source": [
    "#Before omitting measurements\n",
    "pm.describe()"
   ]
  },
  {
   "cell_type": "code",
   "execution_count": 39,
   "id": "43954bdf-aa50-4f6c-b14c-bb993a58eea8",
   "metadata": {},
   "outputs": [
    {
     "data": {
      "text/plain": [
       "'\\\\begin{tabular}{lrrr}\\n &  PM10 (µg/m^3) &  PM2.5 (µg/m^3) &  PM1 (µg/m^3) \\\\\\\\\\ncount & 248171.000000 & 248171.000000 & 248171.000000 \\\\\\\\\\nmean & 16.277031 & 13.120716 & 11.315146 \\\\\\\\\\nstd & 22.290424 & 11.080843 & 9.747115 \\\\\\\\\\nmin & 0.300000 & 0.300000 & 0.300000 \\\\\\\\\\n25% & 7.200000 & 6.000000 & 4.900000 \\\\\\\\\\n50% & 12.500000 & 10.100000 & 8.600000 \\\\\\\\\\n75% & 20.600000 & 16.600000 & 14.400000 \\\\\\\\\\nmax & 7910.000000 & 1006.700000 & 237.200000 \\\\\\\\\\n\\\\end{tabular}\\n'"
      ]
     },
     "execution_count": 39,
     "metadata": {},
     "output_type": "execute_result"
    }
   ],
   "source": [
    "#converting dataframe to a latex table\n",
    "pm.describe().style.to_latex()"
   ]
  },
  {
   "cell_type": "code",
   "execution_count": 9,
   "id": "00dc415f-5064-46d1-8ea6-8d73f5eac1fb",
   "metadata": {
    "tags": []
   },
   "outputs": [
    {
     "data": {
      "text/plain": [
       " PM10 (µg/m^3)     248171\n",
       " PM2.5 (µg/m^3)    248171\n",
       " PM1 (µg/m^3)      248171\n",
       "dtype: int64"
      ]
     },
     "execution_count": 9,
     "metadata": {},
     "output_type": "execute_result"
    }
   ],
   "source": [
    "#number of measurements before discarding measurements\n",
    "pm.count()"
   ]
  },
  {
   "cell_type": "code",
   "execution_count": 52,
   "id": "bc75a824-9bad-4071-8f33-611ef518b2b3",
   "metadata": {
    "tags": []
   },
   "outputs": [
    {
     "data": {
      "text/html": [
       "<div>\n",
       "<style scoped>\n",
       "    .dataframe tbody tr th:only-of-type {\n",
       "        vertical-align: middle;\n",
       "    }\n",
       "\n",
       "    .dataframe tbody tr th {\n",
       "        vertical-align: top;\n",
       "    }\n",
       "\n",
       "    .dataframe thead th {\n",
       "        text-align: right;\n",
       "    }\n",
       "</style>\n",
       "<table border=\"1\" class=\"dataframe\">\n",
       "  <thead>\n",
       "    <tr style=\"text-align: right;\">\n",
       "      <th></th>\n",
       "      <th>PM10 (µg/m^3)</th>\n",
       "      <th>x_n_1</th>\n",
       "      <th>timediff_in_min</th>\n",
       "      <th>forward_slope</th>\n",
       "      <th>fwd_slope_1</th>\n",
       "      <th>ind</th>\n",
       "    </tr>\n",
       "  </thead>\n",
       "  <tbody>\n",
       "    <tr>\n",
       "      <th>2019-12-28 06:50:00</th>\n",
       "      <td>13.716</td>\n",
       "      <td>19.175</td>\n",
       "      <td>1.000000</td>\n",
       "      <td>5.459000</td>\n",
       "      <td>-3.459000</td>\n",
       "      <td>0</td>\n",
       "    </tr>\n",
       "    <tr>\n",
       "      <th>2019-12-28 06:51:00</th>\n",
       "      <td>19.175</td>\n",
       "      <td>15.716</td>\n",
       "      <td>1.000000</td>\n",
       "      <td>-3.459000</td>\n",
       "      <td>-2.900000</td>\n",
       "      <td>1</td>\n",
       "    </tr>\n",
       "    <tr>\n",
       "      <th>2019-12-28 06:52:00</th>\n",
       "      <td>15.716</td>\n",
       "      <td>12.816</td>\n",
       "      <td>1.000000</td>\n",
       "      <td>-2.900000</td>\n",
       "      <td>-3.141000</td>\n",
       "      <td>2</td>\n",
       "    </tr>\n",
       "    <tr>\n",
       "      <th>2019-12-28 06:53:00</th>\n",
       "      <td>12.816</td>\n",
       "      <td>9.675</td>\n",
       "      <td>1.000000</td>\n",
       "      <td>-3.141000</td>\n",
       "      <td>1.366000</td>\n",
       "      <td>3</td>\n",
       "    </tr>\n",
       "    <tr>\n",
       "      <th>2019-12-28 06:54:00</th>\n",
       "      <td>9.675</td>\n",
       "      <td>11.041</td>\n",
       "      <td>1.000000</td>\n",
       "      <td>1.366000</td>\n",
       "      <td>0.567000</td>\n",
       "      <td>4</td>\n",
       "    </tr>\n",
       "    <tr>\n",
       "      <th>...</th>\n",
       "      <td>...</td>\n",
       "      <td>...</td>\n",
       "      <td>...</td>\n",
       "      <td>...</td>\n",
       "      <td>...</td>\n",
       "      <td>...</td>\n",
       "    </tr>\n",
       "    <tr>\n",
       "      <th>2020-07-09 03:32:53</th>\n",
       "      <td>9.400</td>\n",
       "      <td>10.100</td>\n",
       "      <td>1.016667</td>\n",
       "      <td>0.688525</td>\n",
       "      <td>-0.813559</td>\n",
       "      <td>248166</td>\n",
       "    </tr>\n",
       "    <tr>\n",
       "      <th>2020-07-09 03:33:54</th>\n",
       "      <td>10.100</td>\n",
       "      <td>9.300</td>\n",
       "      <td>0.983333</td>\n",
       "      <td>-0.813559</td>\n",
       "      <td>-0.300000</td>\n",
       "      <td>248167</td>\n",
       "    </tr>\n",
       "    <tr>\n",
       "      <th>2020-07-09 03:34:53</th>\n",
       "      <td>9.300</td>\n",
       "      <td>9.000</td>\n",
       "      <td>1.000000</td>\n",
       "      <td>-0.300000</td>\n",
       "      <td>4.600000</td>\n",
       "      <td>248168</td>\n",
       "    </tr>\n",
       "    <tr>\n",
       "      <th>2020-07-09 03:35:53</th>\n",
       "      <td>9.000</td>\n",
       "      <td>13.600</td>\n",
       "      <td>1.000000</td>\n",
       "      <td>4.600000</td>\n",
       "      <td>NaN</td>\n",
       "      <td>248169</td>\n",
       "    </tr>\n",
       "    <tr>\n",
       "      <th>2020-07-09 03:36:53</th>\n",
       "      <td>13.600</td>\n",
       "      <td>NaN</td>\n",
       "      <td>NaN</td>\n",
       "      <td>NaN</td>\n",
       "      <td>NaN</td>\n",
       "      <td>248170</td>\n",
       "    </tr>\n",
       "  </tbody>\n",
       "</table>\n",
       "<p>248171 rows × 6 columns</p>\n",
       "</div>"
      ],
      "text/plain": [
       "                      PM10 (µg/m^3)   x_n_1  timediff_in_min  forward_slope  \\\n",
       "2019-12-28 06:50:00          13.716  19.175         1.000000       5.459000   \n",
       "2019-12-28 06:51:00          19.175  15.716         1.000000      -3.459000   \n",
       "2019-12-28 06:52:00          15.716  12.816         1.000000      -2.900000   \n",
       "2019-12-28 06:53:00          12.816   9.675         1.000000      -3.141000   \n",
       "2019-12-28 06:54:00           9.675  11.041         1.000000       1.366000   \n",
       "...                             ...     ...              ...            ...   \n",
       "2020-07-09 03:32:53           9.400  10.100         1.016667       0.688525   \n",
       "2020-07-09 03:33:54          10.100   9.300         0.983333      -0.813559   \n",
       "2020-07-09 03:34:53           9.300   9.000         1.000000      -0.300000   \n",
       "2020-07-09 03:35:53           9.000  13.600         1.000000       4.600000   \n",
       "2020-07-09 03:36:53          13.600     NaN              NaN            NaN   \n",
       "\n",
       "                     fwd_slope_1     ind  \n",
       "2019-12-28 06:50:00    -3.459000       0  \n",
       "2019-12-28 06:51:00    -2.900000       1  \n",
       "2019-12-28 06:52:00    -3.141000       2  \n",
       "2019-12-28 06:53:00     1.366000       3  \n",
       "2019-12-28 06:54:00     0.567000       4  \n",
       "...                          ...     ...  \n",
       "2020-07-09 03:32:53    -0.813559  248166  \n",
       "2020-07-09 03:33:54    -0.300000  248167  \n",
       "2020-07-09 03:34:53     4.600000  248168  \n",
       "2020-07-09 03:35:53          NaN  248169  \n",
       "2020-07-09 03:36:53          NaN  248170  \n",
       "\n",
       "[248171 rows x 6 columns]"
      ]
     },
     "execution_count": 52,
     "metadata": {},
     "output_type": "execute_result"
    }
   ],
   "source": [
    "coarse_pm"
   ]
  },
  {
   "cell_type": "code",
   "execution_count": 77,
   "id": "1da7e66b-a9be-48a2-96e0-482de2353267",
   "metadata": {
    "tags": []
   },
   "outputs": [
    {
     "data": {
      "text/plain": [
       "2019-12-28 06:50:00    13.716\n",
       "2019-12-28 06:51:00    19.175\n",
       "2019-12-28 06:52:00    15.716\n",
       "2019-12-28 06:53:00    12.816\n",
       "2019-12-28 06:54:00     9.675\n",
       "                        ...  \n",
       "2020-07-09 03:32:53     9.400\n",
       "2020-07-09 03:33:54    10.100\n",
       "2020-07-09 03:34:53     9.300\n",
       "2020-07-09 03:35:53     9.000\n",
       "2020-07-09 03:36:53    13.600\n",
       "Name:  PM10 (µg/m^3), Length: 248171, dtype: float64"
      ]
     },
     "execution_count": 77,
     "metadata": {},
     "output_type": "execute_result"
    }
   ],
   "source": [
    "pm10_unfiltered"
   ]
  },
  {
   "cell_type": "code",
   "execution_count": 74,
   "id": "fad898c5-6766-4473-8da7-1f9afbdcd5d5",
   "metadata": {
    "tags": []
   },
   "outputs": [
    {
     "data": {
      "text/plain": [
       "2019-12-28 06:51:00    19.175\n",
       "2019-12-28 06:52:00    15.716\n",
       "2019-12-28 06:53:00    12.816\n",
       "2019-12-28 06:54:00     9.675\n",
       "2019-12-28 06:55:00    11.041\n",
       "                        ...  \n",
       "2020-07-09 03:32:53     9.400\n",
       "2020-07-09 03:33:54    10.100\n",
       "2020-07-09 03:34:53     9.300\n",
       "2020-07-09 03:35:53     9.000\n",
       "2020-07-09 03:36:53    13.600\n",
       "Name:  PM10 (µg/m^3), Length: 248170, dtype: float64"
      ]
     },
     "execution_count": 74,
     "metadata": {},
     "output_type": "execute_result"
    }
   ],
   "source": [
    "pm10_unfiltered[1:]"
   ]
  },
  {
   "cell_type": "code",
   "execution_count": 80,
   "id": "6cfa2dd6-9064-4166-b0a1-5d6086429d84",
   "metadata": {
    "tags": []
   },
   "outputs": [
    {
     "data": {
      "text/plain": [
       "array([13.716, 19.175, 15.716, ...,  9.4  , 10.1  ,  9.3  ])"
      ]
     },
     "execution_count": 80,
     "metadata": {},
     "output_type": "execute_result"
    }
   ],
   "source": [
    "pm10_unfiltered[:-2].to_numpy()"
   ]
  },
  {
   "cell_type": "code",
   "execution_count": 81,
   "id": "7e963005-1cc1-4cf5-9ef0-4bdb4718242c",
   "metadata": {
    "tags": []
   },
   "outputs": [
    {
     "name": "stdout",
     "output_type": "stream",
     "text": [
      "2019-12-28 06:50:00\n",
      "2019-12-28 06:51:00\n",
      "2019-12-28 06:52:00\n",
      "2019-12-28 06:53:00\n",
      "2019-12-28 06:54:00\n"
     ]
    }
   ],
   "source": [
    "c = 0\n",
    "for n in pm10_unfiltered.index[:-2]:\n",
    "    if c == 5:\n",
    "        break\n",
    "    print(n)\n",
    "    c+=1\n",
    "    "
   ]
  },
  {
   "cell_type": "code",
   "execution_count": 67,
   "id": "0322a142-8327-4775-bbc2-c0f276bafef2",
   "metadata": {
    "tags": []
   },
   "outputs": [],
   "source": [
    "pm10_unfiltered = pm[' PM10 (µg/m^3)'].dropna()\n"
   ]
  },
  {
   "cell_type": "code",
   "execution_count": null,
   "id": "b64bcc9f-1fab-4835-b0ef-5daa88625e44",
   "metadata": {},
   "outputs": [],
   "source": [
    "for pt1, pt2, pt3, d1, d2, d3 in zip(pm10_unfiltered[:-2].to_numpy(), pm10_unfiltered.[1:].to_numpy(),\n",
    "                                 pm10_unfiltered[2:].to_numpy(), pm10_unfiltered.index[:-2],\n",
    "                                 pm10_unfiltered.index[1:], pm10_unfiltered.index[2:]):\n",
    "    if ((d2-d1)/np.timedelta64(1,'m') > 10) or ((d3-d2)/np.timedelta64(1,'m') > 10):\n",
    "        continue:\n",
    "    "
   ]
  },
  {
   "cell_type": "code",
   "execution_count": 61,
   "id": "157037ab-ec11-4927-a1ba-f7f73f2bbed7",
   "metadata": {
    "tags": []
   },
   "outputs": [],
   "source": [
    "coarse_pm = get_forward_slopes(pm, ' PM10 (µg/m^3)')\n",
    "up_lim_roc = coarse_pm['2019-12-31 12':'2020-01-01 06'].forward_slope.max() *5\n",
    "down_lim_roc = coarse_pm['2019-12-31 12':'2020-01-01 06'].forward_slope.min() *5\n",
    "coarse_pm_spikes  = coarse_pm[(coarse_pm.forward_slope * coarse_pm.fwd_slope_1 <0)]"
   ]
  },
  {
   "cell_type": "code",
   "execution_count": 63,
   "id": "7cddeacf-db55-4409-a602-7e0737aa180e",
   "metadata": {
    "tags": []
   },
   "outputs": [
    {
     "data": {
      "text/html": [
       "<div>\n",
       "<style scoped>\n",
       "    .dataframe tbody tr th:only-of-type {\n",
       "        vertical-align: middle;\n",
       "    }\n",
       "\n",
       "    .dataframe tbody tr th {\n",
       "        vertical-align: top;\n",
       "    }\n",
       "\n",
       "    .dataframe thead th {\n",
       "        text-align: right;\n",
       "    }\n",
       "</style>\n",
       "<table border=\"1\" class=\"dataframe\">\n",
       "  <thead>\n",
       "    <tr style=\"text-align: right;\">\n",
       "      <th></th>\n",
       "      <th>PM10 (µg/m^3)</th>\n",
       "      <th>x_n_1</th>\n",
       "      <th>timediff_in_min</th>\n",
       "      <th>forward_slope</th>\n",
       "      <th>fwd_slope_1</th>\n",
       "      <th>ind</th>\n",
       "    </tr>\n",
       "  </thead>\n",
       "  <tbody>\n",
       "    <tr>\n",
       "      <th>2019-12-28 06:50:00</th>\n",
       "      <td>13.716</td>\n",
       "      <td>19.175</td>\n",
       "      <td>1.000000</td>\n",
       "      <td>5.459000</td>\n",
       "      <td>-3.459000</td>\n",
       "      <td>0</td>\n",
       "    </tr>\n",
       "    <tr>\n",
       "      <th>2019-12-28 06:51:00</th>\n",
       "      <td>19.175</td>\n",
       "      <td>15.716</td>\n",
       "      <td>1.000000</td>\n",
       "      <td>-3.459000</td>\n",
       "      <td>-2.900000</td>\n",
       "      <td>1</td>\n",
       "    </tr>\n",
       "    <tr>\n",
       "      <th>2019-12-28 06:52:00</th>\n",
       "      <td>15.716</td>\n",
       "      <td>12.816</td>\n",
       "      <td>1.000000</td>\n",
       "      <td>-2.900000</td>\n",
       "      <td>-3.141000</td>\n",
       "      <td>2</td>\n",
       "    </tr>\n",
       "    <tr>\n",
       "      <th>2019-12-28 06:53:00</th>\n",
       "      <td>12.816</td>\n",
       "      <td>9.675</td>\n",
       "      <td>1.000000</td>\n",
       "      <td>-3.141000</td>\n",
       "      <td>1.366000</td>\n",
       "      <td>3</td>\n",
       "    </tr>\n",
       "    <tr>\n",
       "      <th>2019-12-28 06:54:00</th>\n",
       "      <td>9.675</td>\n",
       "      <td>11.041</td>\n",
       "      <td>1.000000</td>\n",
       "      <td>1.366000</td>\n",
       "      <td>0.567000</td>\n",
       "      <td>4</td>\n",
       "    </tr>\n",
       "    <tr>\n",
       "      <th>...</th>\n",
       "      <td>...</td>\n",
       "      <td>...</td>\n",
       "      <td>...</td>\n",
       "      <td>...</td>\n",
       "      <td>...</td>\n",
       "      <td>...</td>\n",
       "    </tr>\n",
       "    <tr>\n",
       "      <th>2020-07-09 03:32:53</th>\n",
       "      <td>9.400</td>\n",
       "      <td>10.100</td>\n",
       "      <td>1.016667</td>\n",
       "      <td>0.688525</td>\n",
       "      <td>-0.813559</td>\n",
       "      <td>248166</td>\n",
       "    </tr>\n",
       "    <tr>\n",
       "      <th>2020-07-09 03:33:54</th>\n",
       "      <td>10.100</td>\n",
       "      <td>9.300</td>\n",
       "      <td>0.983333</td>\n",
       "      <td>-0.813559</td>\n",
       "      <td>-0.300000</td>\n",
       "      <td>248167</td>\n",
       "    </tr>\n",
       "    <tr>\n",
       "      <th>2020-07-09 03:34:53</th>\n",
       "      <td>9.300</td>\n",
       "      <td>9.000</td>\n",
       "      <td>1.000000</td>\n",
       "      <td>-0.300000</td>\n",
       "      <td>4.600000</td>\n",
       "      <td>248168</td>\n",
       "    </tr>\n",
       "    <tr>\n",
       "      <th>2020-07-09 03:35:53</th>\n",
       "      <td>9.000</td>\n",
       "      <td>13.600</td>\n",
       "      <td>1.000000</td>\n",
       "      <td>4.600000</td>\n",
       "      <td>NaN</td>\n",
       "      <td>248169</td>\n",
       "    </tr>\n",
       "    <tr>\n",
       "      <th>2020-07-09 03:36:53</th>\n",
       "      <td>13.600</td>\n",
       "      <td>NaN</td>\n",
       "      <td>NaN</td>\n",
       "      <td>NaN</td>\n",
       "      <td>NaN</td>\n",
       "      <td>248170</td>\n",
       "    </tr>\n",
       "  </tbody>\n",
       "</table>\n",
       "<p>248171 rows × 6 columns</p>\n",
       "</div>"
      ],
      "text/plain": [
       "                      PM10 (µg/m^3)   x_n_1  timediff_in_min  forward_slope  \\\n",
       "2019-12-28 06:50:00          13.716  19.175         1.000000       5.459000   \n",
       "2019-12-28 06:51:00          19.175  15.716         1.000000      -3.459000   \n",
       "2019-12-28 06:52:00          15.716  12.816         1.000000      -2.900000   \n",
       "2019-12-28 06:53:00          12.816   9.675         1.000000      -3.141000   \n",
       "2019-12-28 06:54:00           9.675  11.041         1.000000       1.366000   \n",
       "...                             ...     ...              ...            ...   \n",
       "2020-07-09 03:32:53           9.400  10.100         1.016667       0.688525   \n",
       "2020-07-09 03:33:54          10.100   9.300         0.983333      -0.813559   \n",
       "2020-07-09 03:34:53           9.300   9.000         1.000000      -0.300000   \n",
       "2020-07-09 03:35:53           9.000  13.600         1.000000       4.600000   \n",
       "2020-07-09 03:36:53          13.600     NaN              NaN            NaN   \n",
       "\n",
       "                     fwd_slope_1     ind  \n",
       "2019-12-28 06:50:00    -3.459000       0  \n",
       "2019-12-28 06:51:00    -2.900000       1  \n",
       "2019-12-28 06:52:00    -3.141000       2  \n",
       "2019-12-28 06:53:00     1.366000       3  \n",
       "2019-12-28 06:54:00     0.567000       4  \n",
       "...                          ...     ...  \n",
       "2020-07-09 03:32:53    -0.813559  248166  \n",
       "2020-07-09 03:33:54    -0.300000  248167  \n",
       "2020-07-09 03:34:53     4.600000  248168  \n",
       "2020-07-09 03:35:53          NaN  248169  \n",
       "2020-07-09 03:36:53          NaN  248170  \n",
       "\n",
       "[248171 rows x 6 columns]"
      ]
     },
     "execution_count": 63,
     "metadata": {},
     "output_type": "execute_result"
    }
   ],
   "source": []
  },
  {
   "cell_type": "code",
   "execution_count": 62,
   "id": "1decd06a-bf27-4540-bc44-e9a4a6c21f60",
   "metadata": {
    "tags": []
   },
   "outputs": [
    {
     "data": {
      "text/html": [
       "<div>\n",
       "<style scoped>\n",
       "    .dataframe tbody tr th:only-of-type {\n",
       "        vertical-align: middle;\n",
       "    }\n",
       "\n",
       "    .dataframe tbody tr th {\n",
       "        vertical-align: top;\n",
       "    }\n",
       "\n",
       "    .dataframe thead th {\n",
       "        text-align: right;\n",
       "    }\n",
       "</style>\n",
       "<table border=\"1\" class=\"dataframe\">\n",
       "  <thead>\n",
       "    <tr style=\"text-align: right;\">\n",
       "      <th></th>\n",
       "      <th>PM10 (µg/m^3)</th>\n",
       "      <th>x_n_1</th>\n",
       "      <th>timediff_in_min</th>\n",
       "      <th>forward_slope</th>\n",
       "      <th>fwd_slope_1</th>\n",
       "      <th>ind</th>\n",
       "    </tr>\n",
       "  </thead>\n",
       "  <tbody>\n",
       "    <tr>\n",
       "      <th>2019-12-28 06:50:00</th>\n",
       "      <td>13.716</td>\n",
       "      <td>19.175</td>\n",
       "      <td>1.000000</td>\n",
       "      <td>5.459000</td>\n",
       "      <td>-3.459000</td>\n",
       "      <td>0</td>\n",
       "    </tr>\n",
       "    <tr>\n",
       "      <th>2019-12-28 06:53:00</th>\n",
       "      <td>12.816</td>\n",
       "      <td>9.675</td>\n",
       "      <td>1.000000</td>\n",
       "      <td>-3.141000</td>\n",
       "      <td>1.366000</td>\n",
       "      <td>3</td>\n",
       "    </tr>\n",
       "    <tr>\n",
       "      <th>2019-12-28 06:55:00</th>\n",
       "      <td>11.041</td>\n",
       "      <td>11.608</td>\n",
       "      <td>1.000000</td>\n",
       "      <td>0.567000</td>\n",
       "      <td>-2.625000</td>\n",
       "      <td>5</td>\n",
       "    </tr>\n",
       "    <tr>\n",
       "      <th>2019-12-28 06:57:00</th>\n",
       "      <td>8.983</td>\n",
       "      <td>8.408</td>\n",
       "      <td>1.000000</td>\n",
       "      <td>-0.575000</td>\n",
       "      <td>0.100000</td>\n",
       "      <td>7</td>\n",
       "    </tr>\n",
       "    <tr>\n",
       "      <th>2019-12-28 06:59:00</th>\n",
       "      <td>8.508</td>\n",
       "      <td>13.125</td>\n",
       "      <td>1.016667</td>\n",
       "      <td>4.541311</td>\n",
       "      <td>-2.796610</td>\n",
       "      <td>9</td>\n",
       "    </tr>\n",
       "    <tr>\n",
       "      <th>...</th>\n",
       "      <td>...</td>\n",
       "      <td>...</td>\n",
       "      <td>...</td>\n",
       "      <td>...</td>\n",
       "      <td>...</td>\n",
       "      <td>...</td>\n",
       "    </tr>\n",
       "    <tr>\n",
       "      <th>2020-07-09 03:28:53</th>\n",
       "      <td>12.100</td>\n",
       "      <td>10.000</td>\n",
       "      <td>1.000000</td>\n",
       "      <td>-2.100000</td>\n",
       "      <td>3.737705</td>\n",
       "      <td>248162</td>\n",
       "    </tr>\n",
       "    <tr>\n",
       "      <th>2020-07-09 03:29:53</th>\n",
       "      <td>10.000</td>\n",
       "      <td>13.800</td>\n",
       "      <td>1.016667</td>\n",
       "      <td>3.737705</td>\n",
       "      <td>-4.271186</td>\n",
       "      <td>248163</td>\n",
       "    </tr>\n",
       "    <tr>\n",
       "      <th>2020-07-09 03:31:53</th>\n",
       "      <td>9.600</td>\n",
       "      <td>9.400</td>\n",
       "      <td>1.000000</td>\n",
       "      <td>-0.200000</td>\n",
       "      <td>0.688525</td>\n",
       "      <td>248165</td>\n",
       "    </tr>\n",
       "    <tr>\n",
       "      <th>2020-07-09 03:32:53</th>\n",
       "      <td>9.400</td>\n",
       "      <td>10.100</td>\n",
       "      <td>1.016667</td>\n",
       "      <td>0.688525</td>\n",
       "      <td>-0.813559</td>\n",
       "      <td>248166</td>\n",
       "    </tr>\n",
       "    <tr>\n",
       "      <th>2020-07-09 03:34:53</th>\n",
       "      <td>9.300</td>\n",
       "      <td>9.000</td>\n",
       "      <td>1.000000</td>\n",
       "      <td>-0.300000</td>\n",
       "      <td>4.600000</td>\n",
       "      <td>248168</td>\n",
       "    </tr>\n",
       "  </tbody>\n",
       "</table>\n",
       "<p>158150 rows × 6 columns</p>\n",
       "</div>"
      ],
      "text/plain": [
       "                      PM10 (µg/m^3)   x_n_1  timediff_in_min  forward_slope  \\\n",
       "2019-12-28 06:50:00          13.716  19.175         1.000000       5.459000   \n",
       "2019-12-28 06:53:00          12.816   9.675         1.000000      -3.141000   \n",
       "2019-12-28 06:55:00          11.041  11.608         1.000000       0.567000   \n",
       "2019-12-28 06:57:00           8.983   8.408         1.000000      -0.575000   \n",
       "2019-12-28 06:59:00           8.508  13.125         1.016667       4.541311   \n",
       "...                             ...     ...              ...            ...   \n",
       "2020-07-09 03:28:53          12.100  10.000         1.000000      -2.100000   \n",
       "2020-07-09 03:29:53          10.000  13.800         1.016667       3.737705   \n",
       "2020-07-09 03:31:53           9.600   9.400         1.000000      -0.200000   \n",
       "2020-07-09 03:32:53           9.400  10.100         1.016667       0.688525   \n",
       "2020-07-09 03:34:53           9.300   9.000         1.000000      -0.300000   \n",
       "\n",
       "                     fwd_slope_1     ind  \n",
       "2019-12-28 06:50:00    -3.459000       0  \n",
       "2019-12-28 06:53:00     1.366000       3  \n",
       "2019-12-28 06:55:00    -2.625000       5  \n",
       "2019-12-28 06:57:00     0.100000       7  \n",
       "2019-12-28 06:59:00    -2.796610       9  \n",
       "...                          ...     ...  \n",
       "2020-07-09 03:28:53     3.737705  248162  \n",
       "2020-07-09 03:29:53    -4.271186  248163  \n",
       "2020-07-09 03:31:53     0.688525  248165  \n",
       "2020-07-09 03:32:53    -0.813559  248166  \n",
       "2020-07-09 03:34:53     4.600000  248168  \n",
       "\n",
       "[158150 rows x 6 columns]"
      ]
     },
     "execution_count": 62,
     "metadata": {},
     "output_type": "execute_result"
    }
   ],
   "source": [
    "coarse_pm_spikes"
   ]
  },
  {
   "cell_type": "code",
   "execution_count": 56,
   "id": "f59e5dab-92b4-42ab-aae4-06852d12ef58",
   "metadata": {
    "tags": []
   },
   "outputs": [
    {
     "data": {
      "text/plain": [
       "107.99999999999997"
      ]
     },
     "execution_count": 56,
     "metadata": {},
     "output_type": "execute_result"
    }
   ],
   "source": [
    "up_lim_roc"
   ]
  },
  {
   "cell_type": "code",
   "execution_count": 46,
   "id": "aaf9c275-c6ca-4ac3-aa9a-e7d3c6b893b4",
   "metadata": {
    "tags": []
   },
   "outputs": [
    {
     "data": {
      "text/plain": [
       "DatetimeIndex(['2019-12-28 07:12:00', '2019-12-28 23:22:00',\n",
       "               '2019-12-29 01:07:00', '2019-12-29 02:24:00',\n",
       "               '2019-12-29 03:13:00', '2019-12-29 03:34:00',\n",
       "               '2019-12-29 05:19:00', '2019-12-29 06:36:00',\n",
       "               '2019-12-29 07:04:00', '2019-12-29 09:00:00',\n",
       "               '2019-12-29 15:59:02', '2019-12-29 23:59:01',\n",
       "               '2019-12-30 00:59:01', '2020-01-15 09:41:23',\n",
       "               '2020-01-17 23:59:14', '2020-01-27 18:59:16',\n",
       "               '2020-01-30 23:59:15', '2020-05-15 15:59:17',\n",
       "               '2020-05-22 23:59:25', '2020-05-27 23:59:23',\n",
       "               '2020-05-31 17:20:30', '2020-06-13 23:59:30',\n",
       "               '2020-06-23 23:59:16'],\n",
       "              dtype='datetime64[ns]', freq=None)"
      ]
     },
     "execution_count": 46,
     "metadata": {},
     "output_type": "execute_result"
    }
   ],
   "source": [
    "coarse_pm[coarse_pm.timediff_in_min>10].index"
   ]
  },
  {
   "cell_type": "code",
   "execution_count": 45,
   "id": "fa090f20-24c6-4c7a-9034-02d9764e4791",
   "metadata": {
    "tags": []
   },
   "outputs": [
    {
     "data": {
      "text/html": [
       "<div>\n",
       "<style scoped>\n",
       "    .dataframe tbody tr th:only-of-type {\n",
       "        vertical-align: middle;\n",
       "    }\n",
       "\n",
       "    .dataframe tbody tr th {\n",
       "        vertical-align: top;\n",
       "    }\n",
       "\n",
       "    .dataframe thead th {\n",
       "        text-align: right;\n",
       "    }\n",
       "</style>\n",
       "<table border=\"1\" class=\"dataframe\">\n",
       "  <thead>\n",
       "    <tr style=\"text-align: right;\">\n",
       "      <th></th>\n",
       "      <th>PM10 (µg/m^3)</th>\n",
       "      <th>x_n_1</th>\n",
       "      <th>timediff_in_min</th>\n",
       "      <th>forward_slope</th>\n",
       "      <th>fwd_slope_1</th>\n",
       "      <th>ind</th>\n",
       "    </tr>\n",
       "  </thead>\n",
       "  <tbody>\n",
       "    <tr>\n",
       "      <th>2019-12-28 07:12:00</th>\n",
       "      <td>10.233</td>\n",
       "      <td>11.000</td>\n",
       "      <td>721.033333</td>\n",
       "      <td>0.001064</td>\n",
       "      <td>3.895862</td>\n",
       "      <td>22</td>\n",
       "    </tr>\n",
       "    <tr>\n",
       "      <th>2019-12-28 23:22:00</th>\n",
       "      <td>27.550</td>\n",
       "      <td>28.633</td>\n",
       "      <td>99.000000</td>\n",
       "      <td>0.010939</td>\n",
       "      <td>2.408000</td>\n",
       "      <td>272</td>\n",
       "    </tr>\n",
       "    <tr>\n",
       "      <th>2019-12-29 01:07:00</th>\n",
       "      <td>29.566</td>\n",
       "      <td>35.375</td>\n",
       "      <td>50.000000</td>\n",
       "      <td>0.116180</td>\n",
       "      <td>-2.284000</td>\n",
       "      <td>279</td>\n",
       "    </tr>\n",
       "    <tr>\n",
       "      <th>2019-12-29 02:24:00</th>\n",
       "      <td>28.133</td>\n",
       "      <td>29.575</td>\n",
       "      <td>36.000000</td>\n",
       "      <td>0.040056</td>\n",
       "      <td>-1.059000</td>\n",
       "      <td>307</td>\n",
       "    </tr>\n",
       "    <tr>\n",
       "      <th>2019-12-29 03:13:00</th>\n",
       "      <td>29.416</td>\n",
       "      <td>34.183</td>\n",
       "      <td>15.000000</td>\n",
       "      <td>0.317800</td>\n",
       "      <td>-3.225000</td>\n",
       "      <td>321</td>\n",
       "    </tr>\n",
       "    <tr>\n",
       "      <th>2019-12-29 03:34:00</th>\n",
       "      <td>27.941</td>\n",
       "      <td>30.116</td>\n",
       "      <td>85.000000</td>\n",
       "      <td>0.025588</td>\n",
       "      <td>-1.316000</td>\n",
       "      <td>328</td>\n",
       "    </tr>\n",
       "    <tr>\n",
       "      <th>2019-12-29 05:19:00</th>\n",
       "      <td>27.258</td>\n",
       "      <td>26.758</td>\n",
       "      <td>43.000000</td>\n",
       "      <td>-0.011628</td>\n",
       "      <td>-3.342000</td>\n",
       "      <td>349</td>\n",
       "    </tr>\n",
       "    <tr>\n",
       "      <th>2019-12-29 06:36:00</th>\n",
       "      <td>16.383</td>\n",
       "      <td>29.541</td>\n",
       "      <td>22.000000</td>\n",
       "      <td>0.598091</td>\n",
       "      <td>0.684000</td>\n",
       "      <td>384</td>\n",
       "    </tr>\n",
       "    <tr>\n",
       "      <th>2019-12-29 07:04:00</th>\n",
       "      <td>30.558</td>\n",
       "      <td>36.250</td>\n",
       "      <td>71.000000</td>\n",
       "      <td>0.080169</td>\n",
       "      <td>-10.617000</td>\n",
       "      <td>391</td>\n",
       "    </tr>\n",
       "    <tr>\n",
       "      <th>2019-12-29 09:00:00</th>\n",
       "      <td>19.508</td>\n",
       "      <td>10.600</td>\n",
       "      <td>385.016667</td>\n",
       "      <td>-0.023137</td>\n",
       "      <td>2.500000</td>\n",
       "      <td>437</td>\n",
       "    </tr>\n",
       "    <tr>\n",
       "      <th>2019-12-29 15:59:02</th>\n",
       "      <td>9.000</td>\n",
       "      <td>21.000</td>\n",
       "      <td>11.000000</td>\n",
       "      <td>1.090909</td>\n",
       "      <td>-6.813559</td>\n",
       "      <td>472</td>\n",
       "    </tr>\n",
       "    <tr>\n",
       "      <th>2019-12-29 23:59:01</th>\n",
       "      <td>23.400</td>\n",
       "      <td>30.900</td>\n",
       "      <td>36.016667</td>\n",
       "      <td>0.208237</td>\n",
       "      <td>5.389831</td>\n",
       "      <td>942</td>\n",
       "    </tr>\n",
       "    <tr>\n",
       "      <th>2019-12-30 00:59:01</th>\n",
       "      <td>31.800</td>\n",
       "      <td>31.100</td>\n",
       "      <td>11.000000</td>\n",
       "      <td>-0.063636</td>\n",
       "      <td>0.000000</td>\n",
       "      <td>967</td>\n",
       "    </tr>\n",
       "    <tr>\n",
       "      <th>2020-01-15 09:41:23</th>\n",
       "      <td>17.200</td>\n",
       "      <td>17.900</td>\n",
       "      <td>289.883333</td>\n",
       "      <td>0.002415</td>\n",
       "      <td>-8.100000</td>\n",
       "      <td>24512</td>\n",
       "    </tr>\n",
       "    <tr>\n",
       "      <th>2020-01-17 23:59:14</th>\n",
       "      <td>17.400</td>\n",
       "      <td>32.700</td>\n",
       "      <td>1440.983333</td>\n",
       "      <td>0.010618</td>\n",
       "      <td>1.900000</td>\n",
       "      <td>27961</td>\n",
       "    </tr>\n",
       "    <tr>\n",
       "      <th>2020-01-27 18:59:16</th>\n",
       "      <td>23.800</td>\n",
       "      <td>40.500</td>\n",
       "      <td>307.000000</td>\n",
       "      <td>0.054397</td>\n",
       "      <td>-18.885246</td>\n",
       "      <td>40621</td>\n",
       "    </tr>\n",
       "    <tr>\n",
       "      <th>2020-01-30 23:59:15</th>\n",
       "      <td>32.600</td>\n",
       "      <td>30.300</td>\n",
       "      <td>1440.983333</td>\n",
       "      <td>-0.001596</td>\n",
       "      <td>0.700000</td>\n",
       "      <td>44935</td>\n",
       "    </tr>\n",
       "    <tr>\n",
       "      <th>2020-05-15 15:59:17</th>\n",
       "      <td>2.900</td>\n",
       "      <td>5.300</td>\n",
       "      <td>1061.316667</td>\n",
       "      <td>0.002261</td>\n",
       "      <td>-1.220339</td>\n",
       "      <td>195652</td>\n",
       "    </tr>\n",
       "    <tr>\n",
       "      <th>2020-05-22 23:59:25</th>\n",
       "      <td>14.700</td>\n",
       "      <td>2.900</td>\n",
       "      <td>4321.200000</td>\n",
       "      <td>-0.002731</td>\n",
       "      <td>2.000000</td>\n",
       "      <td>205152</td>\n",
       "    </tr>\n",
       "    <tr>\n",
       "      <th>2020-05-27 23:59:23</th>\n",
       "      <td>16.400</td>\n",
       "      <td>16.000</td>\n",
       "      <td>1440.950000</td>\n",
       "      <td>-0.000278</td>\n",
       "      <td>-2.655738</td>\n",
       "      <td>208032</td>\n",
       "    </tr>\n",
       "    <tr>\n",
       "      <th>2020-05-31 17:20:30</th>\n",
       "      <td>44.600</td>\n",
       "      <td>5.000</td>\n",
       "      <td>16239.833333</td>\n",
       "      <td>-0.002438</td>\n",
       "      <td>0.400000</td>\n",
       "      <td>211952</td>\n",
       "    </tr>\n",
       "    <tr>\n",
       "      <th>2020-06-13 23:59:30</th>\n",
       "      <td>5.600</td>\n",
       "      <td>12.700</td>\n",
       "      <td>1440.883333</td>\n",
       "      <td>0.004928</td>\n",
       "      <td>1.967213</td>\n",
       "      <td>214831</td>\n",
       "    </tr>\n",
       "    <tr>\n",
       "      <th>2020-06-23 23:59:16</th>\n",
       "      <td>13.100</td>\n",
       "      <td>17.300</td>\n",
       "      <td>1441.666667</td>\n",
       "      <td>0.002913</td>\n",
       "      <td>7.081967</td>\n",
       "      <td>227791</td>\n",
       "    </tr>\n",
       "  </tbody>\n",
       "</table>\n",
       "</div>"
      ],
      "text/plain": [
       "                      PM10 (µg/m^3)   x_n_1  timediff_in_min  forward_slope  \\\n",
       "2019-12-28 07:12:00          10.233  11.000       721.033333       0.001064   \n",
       "2019-12-28 23:22:00          27.550  28.633        99.000000       0.010939   \n",
       "2019-12-29 01:07:00          29.566  35.375        50.000000       0.116180   \n",
       "2019-12-29 02:24:00          28.133  29.575        36.000000       0.040056   \n",
       "2019-12-29 03:13:00          29.416  34.183        15.000000       0.317800   \n",
       "2019-12-29 03:34:00          27.941  30.116        85.000000       0.025588   \n",
       "2019-12-29 05:19:00          27.258  26.758        43.000000      -0.011628   \n",
       "2019-12-29 06:36:00          16.383  29.541        22.000000       0.598091   \n",
       "2019-12-29 07:04:00          30.558  36.250        71.000000       0.080169   \n",
       "2019-12-29 09:00:00          19.508  10.600       385.016667      -0.023137   \n",
       "2019-12-29 15:59:02           9.000  21.000        11.000000       1.090909   \n",
       "2019-12-29 23:59:01          23.400  30.900        36.016667       0.208237   \n",
       "2019-12-30 00:59:01          31.800  31.100        11.000000      -0.063636   \n",
       "2020-01-15 09:41:23          17.200  17.900       289.883333       0.002415   \n",
       "2020-01-17 23:59:14          17.400  32.700      1440.983333       0.010618   \n",
       "2020-01-27 18:59:16          23.800  40.500       307.000000       0.054397   \n",
       "2020-01-30 23:59:15          32.600  30.300      1440.983333      -0.001596   \n",
       "2020-05-15 15:59:17           2.900   5.300      1061.316667       0.002261   \n",
       "2020-05-22 23:59:25          14.700   2.900      4321.200000      -0.002731   \n",
       "2020-05-27 23:59:23          16.400  16.000      1440.950000      -0.000278   \n",
       "2020-05-31 17:20:30          44.600   5.000     16239.833333      -0.002438   \n",
       "2020-06-13 23:59:30           5.600  12.700      1440.883333       0.004928   \n",
       "2020-06-23 23:59:16          13.100  17.300      1441.666667       0.002913   \n",
       "\n",
       "                     fwd_slope_1     ind  \n",
       "2019-12-28 07:12:00     3.895862      22  \n",
       "2019-12-28 23:22:00     2.408000     272  \n",
       "2019-12-29 01:07:00    -2.284000     279  \n",
       "2019-12-29 02:24:00    -1.059000     307  \n",
       "2019-12-29 03:13:00    -3.225000     321  \n",
       "2019-12-29 03:34:00    -1.316000     328  \n",
       "2019-12-29 05:19:00    -3.342000     349  \n",
       "2019-12-29 06:36:00     0.684000     384  \n",
       "2019-12-29 07:04:00   -10.617000     391  \n",
       "2019-12-29 09:00:00     2.500000     437  \n",
       "2019-12-29 15:59:02    -6.813559     472  \n",
       "2019-12-29 23:59:01     5.389831     942  \n",
       "2019-12-30 00:59:01     0.000000     967  \n",
       "2020-01-15 09:41:23    -8.100000   24512  \n",
       "2020-01-17 23:59:14     1.900000   27961  \n",
       "2020-01-27 18:59:16   -18.885246   40621  \n",
       "2020-01-30 23:59:15     0.700000   44935  \n",
       "2020-05-15 15:59:17    -1.220339  195652  \n",
       "2020-05-22 23:59:25     2.000000  205152  \n",
       "2020-05-27 23:59:23    -2.655738  208032  \n",
       "2020-05-31 17:20:30     0.400000  211952  \n",
       "2020-06-13 23:59:30     1.967213  214831  \n",
       "2020-06-23 23:59:16     7.081967  227791  "
      ]
     },
     "execution_count": 45,
     "metadata": {},
     "output_type": "execute_result"
    }
   ],
   "source": [
    "coarse_pm[coarse_pm.timediff_in_min>10]"
   ]
  },
  {
   "cell_type": "code",
   "execution_count": 40,
   "id": "804fe9a0-e8bb-4110-9d04-ab0c58cdf279",
   "metadata": {
    "tags": []
   },
   "outputs": [
    {
     "data": {
      "text/plain": [
       "count    248170.000000\n",
       "mean          1.124902\n",
       "std          34.461584\n",
       "min           0.033333\n",
       "25%           1.000000\n",
       "50%           1.000000\n",
       "75%           1.000000\n",
       "max       16239.833333\n",
       "Name: timediff_in_min, dtype: float64"
      ]
     },
     "execution_count": 40,
     "metadata": {},
     "output_type": "execute_result"
    }
   ],
   "source": [
    "coarse_pm.timediff_in_min.describe()"
   ]
  },
  {
   "cell_type": "code",
   "execution_count": 41,
   "id": "aadef5b6-f92f-4339-a489-6cb99c196e84",
   "metadata": {
    "tags": []
   },
   "outputs": [
    {
     "data": {
      "text/plain": [
       "count    248147.000000\n",
       "mean          1.000041\n",
       "std           0.020389\n",
       "min           0.033333\n",
       "25%           1.000000\n",
       "50%           1.000000\n",
       "75%           1.000000\n",
       "max           8.233333\n",
       "Name: timediff_in_min, dtype: float64"
      ]
     },
     "execution_count": 41,
     "metadata": {},
     "output_type": "execute_result"
    }
   ],
   "source": [
    "coarse_pm[coarse_pm.timediff_in_min<=10].timediff_in_min.describe()"
   ]
  },
  {
   "cell_type": "code",
   "execution_count": 23,
   "id": "e5131910-b3d4-42f2-a661-3295b8297747",
   "metadata": {
    "tags": []
   },
   "outputs": [],
   "source": [
    "pm10_clean = get_anomalies(pm, ' PM10 (µg/m^3)')\n",
    "pm25_clean = get_anomalies(pm, ' PM2.5 (µg/m^3)')\n",
    "pm1_clean = get_anomalies(pm, ' PM1 (µg/m^3)')\n"
   ]
  },
  {
   "cell_type": "code",
   "execution_count": 44,
   "id": "567dadd8-a678-41cb-9c91-2ebffde26233",
   "metadata": {
    "tags": []
   },
   "outputs": [
    {
     "data": {
      "text/plain": [
       "2019-12-28 06:50:00    13.716\n",
       "2019-12-28 06:51:00    19.175\n",
       "2019-12-28 06:52:00    15.716\n",
       "2019-12-28 06:53:00    12.816\n",
       "2019-12-28 06:54:00     9.675\n",
       "                        ...  \n",
       "2020-07-09 03:32:53     9.400\n",
       "2020-07-09 03:33:54    10.100\n",
       "2020-07-09 03:34:53     9.300\n",
       "2020-07-09 03:35:53     9.000\n",
       "2020-07-09 03:36:53    13.600\n",
       "Name:  PM10 (µg/m^3), Length: 247946, dtype: float64"
      ]
     },
     "execution_count": 44,
     "metadata": {},
     "output_type": "execute_result"
    }
   ],
   "source": [
    "pm10_clean"
   ]
  },
  {
   "cell_type": "code",
   "execution_count": 4,
   "id": "943210c3-310c-458d-836c-635b6f06f36e",
   "metadata": {},
   "outputs": [],
   "source": [
    "pm10_omitted = get_omitted_dates(pm, ' PM10 (µg/m^3)')\n",
    "pm25_omitted = get_omitted_dates(pm, ' PM2.5 (µg/m^3)')\n",
    "pm1_omitted = get_omitted_dates(pm, ' PM1 (µg/m^3)')"
   ]
  },
  {
   "cell_type": "code",
   "execution_count": 11,
   "id": "137ae81f-7a1c-4d18-baab-cc95d604f9aa",
   "metadata": {},
   "outputs": [
    {
     "data": {
      "text/plain": [
       "count     225.000000\n",
       "mean      263.416444\n",
       "std       546.895782\n",
       "min       111.400000\n",
       "25%       145.300000\n",
       "50%       171.300000\n",
       "75%       236.900000\n",
       "max      7910.000000\n",
       "Name:  PM10 (µg/m^3), dtype: float64"
      ]
     },
     "execution_count": 11,
     "metadata": {},
     "output_type": "execute_result"
    }
   ],
   "source": [
    "pm10_omitted.iloc[:,0].describe()"
   ]
  },
  {
   "cell_type": "code",
   "execution_count": 12,
   "id": "21b2a549-956d-4d90-8a23-563db1efb56b",
   "metadata": {},
   "outputs": [
    {
     "data": {
      "text/plain": [
       "count      18.000000\n",
       "mean      253.850000\n",
       "std       208.450486\n",
       "min       131.200000\n",
       "25%       152.925000\n",
       "50%       186.300000\n",
       "75%       224.650000\n",
       "max      1006.700000\n",
       "Name:  PM2.5 (µg/m^3), dtype: float64"
      ]
     },
     "execution_count": 12,
     "metadata": {},
     "output_type": "execute_result"
    }
   ],
   "source": [
    "pm25_omitted.iloc[:,0].describe()"
   ]
  },
  {
   "cell_type": "code",
   "execution_count": 13,
   "id": "f095a82b-e3b5-4f5a-95df-ea5303f63715",
   "metadata": {},
   "outputs": [
    {
     "data": {
      "text/plain": [
       "count      2.000000\n",
       "mean     184.650000\n",
       "std       74.316923\n",
       "min      132.100000\n",
       "25%      158.375000\n",
       "50%      184.650000\n",
       "75%      210.925000\n",
       "max      237.200000\n",
       "Name:  PM1 (µg/m^3), dtype: float64"
      ]
     },
     "execution_count": 13,
     "metadata": {},
     "output_type": "execute_result"
    }
   ],
   "source": [
    "pm1_omitted.iloc[:,0].describe()"
   ]
  },
  {
   "cell_type": "code",
   "execution_count": 43,
   "id": "a31f51c7-0d76-42bb-a441-fb3493a51df0",
   "metadata": {},
   "outputs": [
    {
     "data": {
      "text/plain": [
       "count    247946.000000\n",
       "mean         16.052763\n",
       "std          13.100674\n",
       "min           0.300000\n",
       "25%           7.200000\n",
       "50%          12.500000\n",
       "75%          20.600000\n",
       "max         213.100000\n",
       "Name:  PM10 (µg/m^3), dtype: float64"
      ]
     },
     "execution_count": 43,
     "metadata": {},
     "output_type": "execute_result"
    }
   ],
   "source": [
    "pm10_clean.describe()"
   ]
  },
  {
   "cell_type": "code",
   "execution_count": 44,
   "id": "8554538a-7cb8-4ada-a1a5-997701ecbd8e",
   "metadata": {},
   "outputs": [
    {
     "data": {
      "text/plain": [
       "count    248153.000000\n",
       "mean         13.103255\n",
       "std          10.752370\n",
       "min           0.300000\n",
       "25%           6.000000\n",
       "50%          10.100000\n",
       "75%          16.600000\n",
       "max         145.600000\n",
       "Name:  PM2.5 (µg/m^3), dtype: float64"
      ]
     },
     "execution_count": 44,
     "metadata": {},
     "output_type": "execute_result"
    }
   ],
   "source": [
    "pm25_clean.describe()"
   ]
  },
  {
   "cell_type": "code",
   "execution_count": 45,
   "id": "76a2034f-bf16-4419-92a2-75ab875b7341",
   "metadata": {},
   "outputs": [
    {
     "data": {
      "text/plain": [
       "count    248169.000000\n",
       "mean         11.313749\n",
       "std           9.733583\n",
       "min           0.300000\n",
       "25%           4.900000\n",
       "50%           8.600000\n",
       "75%          14.400000\n",
       "max         141.200000\n",
       "Name:  PM1 (µg/m^3), dtype: float64"
      ]
     },
     "execution_count": 45,
     "metadata": {},
     "output_type": "execute_result"
    }
   ],
   "source": [
    "pm1_clean.describe()"
   ]
  },
  {
   "cell_type": "code",
   "execution_count": 50,
   "id": "dcfc0396-eabc-45ee-b962-48d3602f4289",
   "metadata": {},
   "outputs": [
    {
     "data": {
      "text/plain": [
       "2020-01-06 13:53:13    249.9\n",
       "2020-01-09 15:14:12    226.9\n",
       "2020-01-11 04:54:11    301.9\n",
       "2020-01-13 00:03:10    214.6\n",
       "2020-01-13 01:50:10    271.6\n",
       "                       ...  \n",
       "2020-05-11 17:35:25    226.1\n",
       "2020-05-12 10:45:24    379.6\n",
       "2020-05-12 13:47:24    398.8\n",
       "2020-05-13 14:44:21    320.2\n",
       "2020-07-05 17:09:05    301.3\n",
       "Name:  PM10 (µg/m^3), Length: 68, dtype: float64"
      ]
     },
     "execution_count": 50,
     "metadata": {},
     "output_type": "execute_result"
    }
   ],
   "source": [
    "#checking what are the range of values omitted for PM10\n",
    "pm.iloc[:,0][(pm.iloc[:,0] > 213.100000)].dropna()"
   ]
  },
  {
   "cell_type": "code",
   "execution_count": 6,
   "id": "7be02806-5d5e-4812-b663-9e0c85f70f51",
   "metadata": {},
   "outputs": [
    {
     "name": "stdout",
     "output_type": "stream",
     "text": [
      "pm10 # measurements remaining after discarding:  247946\n",
      "pm2.5 # measurements remaining after discarding:  248153\n",
      "pm1 # measurements remaining after discarding:  248169\n"
     ]
    }
   ],
   "source": [
    "#number of measurements after discarding\n",
    "print(\"pm10 # measurements remaining after discarding: \",pm10_clean.dropna().count())\n",
    "print(\"pm2.5 # measurements remaining after discarding: \",pm25_clean.dropna().count())\n",
    "print(\"pm1 # measurements remaining after discarding: \",pm1_clean.dropna().count())"
   ]
  },
  {
   "cell_type": "code",
   "execution_count": 7,
   "id": "7da4af1a-f15d-45ec-91c3-935cb42a5338",
   "metadata": {},
   "outputs": [
    {
     "name": "stdout",
     "output_type": "stream",
     "text": [
      "pm10 % remaining remaining after discarding:  99.90933670735097\n",
      "pm2.5 % remaining remaining after discarding:  99.99274693658808\n",
      "pm1 % remaining remaining after discarding:  99.99919410406534\n"
     ]
    }
   ],
   "source": [
    "print(\"pm10 % remaining remaining after discarding: \",100*pm10_clean.dropna().count()/pm.count()[0])\n",
    "print(\"pm2.5 % remaining remaining after discarding: \",100*pm25_clean.dropna().count()/pm.count()[1])\n",
    "print(\"pm1 % remaining remaining after discarding: \",100*pm1_clean.dropna().count()/pm.count()[2])"
   ]
  },
  {
   "cell_type": "code",
   "execution_count": 8,
   "id": "2162c951-1eaa-47c1-82ac-77195e1c8b4e",
   "metadata": {},
   "outputs": [
    {
     "name": "stdout",
     "output_type": "stream",
     "text": [
      "minimum rate of change:  -41.400000000000006\n",
      "maximum rate of change:  21.599999999999994\n"
     ]
    },
    {
     "data": {
      "image/png": "[encoded data removed]",
      "text/plain": [
       "<Figure size 640x480 with 1 Axes>"
      ]
     },
     "metadata": {},
     "output_type": "display_data"
    }
   ],
   "source": [
    "#PM10 rate of change during 2020 New Year (2019 Dec 31 12 PM to 2020 Jan 1 6 AM)\n",
    "derivative_hist(pm_newyear, ' PM10 (µg/m^3)').forward_slope.hist(bins = np.linspace(-45,25,100), color = 'black')\n",
    "plt.grid(False)\n",
    "plt.vlines(-41.400000000000006,0, 115, color = 'gray', linestyle = 'dashed')\n",
    "plt.vlines(21.599999999999994, 0, 115, color = 'gray', linestyle = 'dashed')\n",
    "plt.ylabel('count')\n",
    "plt.xlabel('$PM_{10}$ rate of change ($\\mu$g/$m^3$/min)')\n",
    "plt.show()"
   ]
  },
  {
   "cell_type": "code",
   "execution_count": 9,
   "id": "781d7df5-dcfc-4e0e-9a40-69d15a5e7c5d",
   "metadata": {},
   "outputs": [
    {
     "name": "stdout",
     "output_type": "stream",
     "text": [
      "minimum rate of change:  -42.50000000000001\n",
      "maximum rate of change:  24.800000000000004\n"
     ]
    },
    {
     "data": {
      "image/png": "[encoded data removed]",
      "text/plain": [
       "<Figure size 640x480 with 1 Axes>"
      ]
     },
     "metadata": {},
     "output_type": "display_data"
    }
   ],
   "source": [
    "#PM2.5 rate of change during 2020 New Year (2019 Dec 31 12 PM to 2020 Jan 1 6 AM)\n",
    "derivative_hist(pm_newyear, ' PM2.5 (µg/m^3)').forward_slope.hist(bins = np.linspace(-45,25,100), color = 'black')\n",
    "plt.grid(False)\n",
    "plt.vlines(-42.50000000000001,0, 170, color = 'gray', linestyle = 'dashed')\n",
    "plt.vlines(24.800000000000004, 0, 170, color = 'gray', linestyle = 'dashed')\n",
    "plt.ylabel('count')\n",
    "plt.xlabel('$PM_{2.5}$ rate of change ($\\mu$g/$m^3$/min)')\n",
    "plt.show()"
   ]
  },
  {
   "cell_type": "code",
   "execution_count": 10,
   "id": "83c8959f-a86d-47e7-bbff-fcf8db368c2a",
   "metadata": {},
   "outputs": [
    {
     "name": "stdout",
     "output_type": "stream",
     "text": [
      "minimum rate of change:  -41.10000000000001\n",
      "maximum rate of change:  22.299999999999997\n"
     ]
    },
    {
     "data": {
      "image/png": "[encoded data removed]",
      "text/plain": [
       "<Figure size 640x480 with 1 Axes>"
      ]
     },
     "metadata": {},
     "output_type": "display_data"
    }
   ],
   "source": [
    "#PM1 rate of change during 2020 New Year (2019 Dec 31 12 PM to 2020 Jan 1 6 AM)\n",
    "derivative_hist(pm_newyear, ' PM1 (µg/m^3)').forward_slope.hist(bins = np.linspace(-45,25,100), color = 'black')\n",
    "plt.grid(False)\n",
    "plt.vlines(-41.10000000000001,0, 250, color = 'gray', linestyle = 'dashed')\n",
    "plt.vlines(22.299999999999997, 0, 250, color = 'gray', linestyle = 'dashed')\n",
    "plt.ylabel('count')\n",
    "plt.xlabel('$PM_{1}$ rate of change ($\\mu$g/$m^3$/min)')\n",
    "plt.show()"
   ]
  },
  {
   "cell_type": "code",
   "execution_count": 16,
   "id": "1edac832-3ef7-45e1-851c-7e666d2fa69f",
   "metadata": {},
   "outputs": [
    {
     "data": {
      "image/png": "[encoded data removed]",
      "text/plain": [
       "<Figure size 640x480 with 1 Axes>"
      ]
     },
     "metadata": {},
     "output_type": "display_data"
    }
   ],
   "source": [
    "fig = pm_newyear.iloc[:,0].plot(color = 'black')\n",
    "plt.ylabel(' $PM_{10}$ (µg/m^3)')\n",
    "plt.xlabel('data and time (mm-dd hh)')\n",
    "plt.yticks(np.arange(0, 180, 20))\n",
    "plt.show()"
   ]
  },
  {
   "cell_type": "code",
   "execution_count": 17,
   "id": "dc10d056-54a2-4316-831a-5b8fb7db9a66",
   "metadata": {},
   "outputs": [
    {
     "data": {
      "image/png": "[encoded data removed]",
      "text/plain": [
       "<Figure size 640x480 with 1 Axes>"
      ]
     },
     "metadata": {},
     "output_type": "display_data"
    }
   ],
   "source": [
    "pm_newyear.iloc[:,1].plot(color = 'black')\n",
    "plt.ylabel(' $PM_{2.5}$ (µg/m^3)')\n",
    "plt.xlabel('data and time (mm-dd hh)')\n",
    "plt.yticks(np.arange(0, 180, 20))\n",
    "plt.show()"
   ]
  },
  {
   "cell_type": "code",
   "execution_count": 18,
   "id": "546efe6a-0317-4afa-a8fe-c3232f4f4d0b",
   "metadata": {},
   "outputs": [
    {
     "data": {
      "image/png": "[encoded data removed]",
      "text/plain": [
       "<Figure size 640x480 with 1 Axes>"
      ]
     },
     "metadata": {},
     "output_type": "display_data"
    }
   ],
   "source": [
    "pm_newyear.iloc[:,2].plot(color = 'black')\n",
    "plt.ylabel(' $PM_{1}$ (µg/m^3)')\n",
    "plt.xlabel('data and time (mm-dd hh)')\n",
    "plt.yticks(np.arange(0, 180, 20))\n",
    "plt.show()"
   ]
  },
  {
   "cell_type": "code",
   "execution_count": 15,
   "id": "a85f7e2c-2cab-4b17-9409-1878745f0624",
   "metadata": {},
   "outputs": [
    {
     "data": {
      "text/plain": [
       "Text(0.5, 0, 'day and time (dd hh:mm)')"
      ]
     },
     "execution_count": 15,
     "metadata": {},
     "output_type": "execute_result"
    },
    {
     "data": {
      "image/png": "[encoded data removed]",
      "text/plain": [
       "<Figure size 640x480 with 1 Axes>"
      ]
     },
     "metadata": {},
     "output_type": "display_data"
    }
   ],
   "source": [
    "#global maximum PM10 value\n",
    "\n",
    "df['2020-01-21 17:50:11':'2020-01-21 17:59:11'][' PM10 (µg/m^3)'].plot(marker = 'o', color = 'black')\n",
    "plt.yscale('log')\n",
    "plt.ylabel('$PM_{10}$ ($\\mu$g/m^3)')\n",
    "plt.xlabel(r'day and time (dd hh:mm)')\n",
    "# plt.xticks(plt.get_xticks())\n",
    "# plt.xticklabels(['17:'+str(sec) for sec in range(50,60)])"
   ]
  },
  {
   "cell_type": "code",
   "execution_count": 20,
   "id": "07fe8219-b86c-43b7-ad2c-ac249453f688",
   "metadata": {},
   "outputs": [],
   "source": [
    "#uncomment to save pm10, pm2.5, and pm1\n",
    "# pm10_clean.to_csv('pm10.csv')\n",
    "# pm25_clean.to_csv('pm25.csv')\n",
    "# pm1_clean.to_csv('pm1.csv')"
   ]
  },
  {
   "cell_type": "code",
   "execution_count": 9,
   "id": "bec0f7b5-32f5-4692-a207-30b22661c71c",
   "metadata": {},
   "outputs": [],
   "source": [
    "pm10 = pd.read_csv('pm10.csv',index_col = 0, parse_dates = True)\n",
    "pm25 = pd.read_csv('pm25.csv',index_col = 0, parse_dates = True)\n",
    "pm1 = pd.read_csv('pm1.csv',index_col = 0, parse_dates = True)"
   ]
  },
  {
   "cell_type": "code",
   "execution_count": 24,
   "id": "e256dbef-f3fd-4d1f-a940-4e617f509ce0",
   "metadata": {},
   "outputs": [
    {
     "data": {
      "text/plain": [
       "True"
      ]
     },
     "execution_count": 24,
     "metadata": {},
     "output_type": "execute_result"
    }
   ],
   "source": [
    "#checking whether exported csv has expected values\n",
    "np.allclose(pm10_clean.to_numpy(),pm10.iloc[:,0].to_numpy())"
   ]
  },
  {
   "cell_type": "code",
   "execution_count": 25,
   "id": "a49befcb-26c4-4df7-8849-fea169068cda",
   "metadata": {},
   "outputs": [
    {
     "data": {
      "text/plain": [
       "True"
      ]
     },
     "execution_count": 25,
     "metadata": {},
     "output_type": "execute_result"
    }
   ],
   "source": [
    "#checking whether exported csv has expected values\n",
    "np.allclose(pm25_clean.to_numpy(),pm25.iloc[:,0].to_numpy())"
   ]
  },
  {
   "cell_type": "code",
   "execution_count": 26,
   "id": "63315c99-c2ef-443a-8534-336648f21902",
   "metadata": {},
   "outputs": [
    {
     "data": {
      "text/plain": [
       "True"
      ]
     },
     "execution_count": 26,
     "metadata": {},
     "output_type": "execute_result"
    }
   ],
   "source": [
    "#checking whether exported csv has expected values\n",
    "np.allclose(pm1_clean.to_numpy(),pm1.iloc[:,0].to_numpy())"
   ]
  }
 ],
 "metadata": {
  "kernelspec": {
   "display_name": "Python 3 (ipykernel)",
   "language": "python",
   "name": "python3"
  },
  "language_info": {
   "codemirror_mode": {
    "name": "ipython",
    "version": 3
   },
   "file_extension": ".py",
   "mimetype": "text/x-python",
   "name": "python",
   "nbconvert_exporter": "python",
   "pygments_lexer": "ipython3",
   "version": "3.10.10"
  }
 },
 "nbformat": 4,
 "nbformat_minor": 5
}
