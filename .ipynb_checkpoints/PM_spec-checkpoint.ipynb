{
 "cells": [
  {
   "cell_type": "code",
   "execution_count": 1,
   "id": "e615af2e-a255-4665-8d51-1e73ead1f6c8",
   "metadata": {
    "tags": []
   },
   "outputs": [],
   "source": [
    "from matplotlib.ticker import (MultipleLocator, FormatStrFormatter,\n",
    "                               AutoMinorLocator)\n",
    "# from interp_prep import *\n",
    "from FT import *"
   ]
  },
  {
   "cell_type": "code",
   "execution_count": 2,
   "id": "2250f1b1-24db-422a-8336-79925973df11",
   "metadata": {
    "tags": []
   },
   "outputs": [],
   "source": [
    "path = r\"/cxnfs/Mark/Data/cleaned_data/\"\n",
    "interp_dict_pm10 = {n: pd.read_csv(path+'pm10_interpolated/pm10_interp_seg_'+ str(n)+'.csv',index_col = 0, parse_dates = True) for n in range(24)}\n",
    "interp_dict_pm25 = {n: pd.read_csv(path+'pm25_interpolated/pm25_interp_seg_'+ str(n)+'.csv',index_col = 0, parse_dates = True) for n in range(24)}\n",
    "interp_dict_pm1 = {n: pd.read_csv(path+'pm1_interpolated/pm1_interp_seg_'+ str(n)+'.csv',index_col = 0, parse_dates = True) for n in range(24)}"
   ]
  },
  {
   "cell_type": "code",
   "execution_count": 3,
   "id": "e5787124-f655-4d76-b13e-8aa19265086e",
   "metadata": {
    "tags": []
   },
   "outputs": [],
   "source": [
    "pm10_subset = interp_dict_pm10[17]\n",
    "pm25_subset = interp_dict_pm25[17]\n",
    "pm1_subset = interp_dict_pm1[17]\n",
    "pm10_prepandemic = pm10_subset[:'2020-03-09']\n",
    "pm25_prepandemic = pm25_subset[:'2020-03-09']\n",
    "pm1_prepandemic = pm1_subset[:'2020-03-09']\n",
    "pm10_ecq = pm10_subset['2020-03-17':]\n",
    "pm25_ecq = pm25_subset['2020-03-17':]\n",
    "pm1_ecq = pm1_subset['2020-03-17':]"
   ]
  },
  {
   "cell_type": "code",
   "execution_count": 4,
   "id": "4df86bfc-5d78-457b-b1ed-3b5370156d89",
   "metadata": {
    "tags": []
   },
   "outputs": [],
   "source": [
    "pm10_freq_dom = normed_FT(pm10_subset)\n",
    "pm25_freq_dom = normed_FT(pm25_subset)\n",
    "pm1_freq_dom = normed_FT(pm1_subset)"
   ]
  },
  {
   "cell_type": "code",
   "execution_count": 5,
   "id": "3a5669d5-df23-438a-9edf-3179747f8e8f",
   "metadata": {
    "tags": []
   },
   "outputs": [],
   "source": [
    "pm10_prepandemic_spec = normed_FT(pm10_prepandemic)\n",
    "pm25_prepandemic_spec = normed_FT(pm25_prepandemic) \n",
    "pm1_prepandemic_spec = normed_FT(pm1_prepandemic) \n",
    "pm10_ecq_spec = normed_FT(pm10_ecq) \n",
    "pm25_ecq_spec =  normed_FT(pm25_ecq) \n",
    "pm1_ecq_spec = normed_FT(pm1_ecq)"
   ]
  },
  {
   "cell_type": "markdown",
   "id": "0fdb37d7-12ec-4bcb-9fe0-fa9d08114cd3",
   "metadata": {},
   "source": [
    "## PM1 pre-ECQ"
   ]
  },
  {
   "cell_type": "code",
   "execution_count": 51,
   "id": "1fdd05d3-6413-47b9-9a49-1fe95fdbe33c",
   "metadata": {
    "tags": []
   },
   "outputs": [
    {
     "data": {
      "text/plain": [
       "'\\\\begin{tabular}{lrrr}\\n & freq & abs_fourier_coeff_square & period (in days) \\\\\\\\\\n38 & 0.000694 & 0.265289 & 1.000000 \\\\\\\\\\n76 & 0.001389 & 0.038481 & 0.500000 \\\\\\\\\\n1 & 0.000018 & 0.029668 & 38.000000 \\\\\\\\\\n3 & 0.000055 & 0.029503 & 12.666667 \\\\\\\\\\n35 & 0.000640 & 0.025937 & 1.085714 \\\\\\\\\\n12 & 0.000219 & 0.021649 & 3.166667 \\\\\\\\\\n5 & 0.000091 & 0.019994 & 7.600000 \\\\\\\\\\n11 & 0.000201 & 0.019162 & 3.454545 \\\\\\\\\\n41 & 0.000749 & 0.019127 & 0.926829 \\\\\\\\\\n4 & 0.000073 & 0.018912 & 9.500000 \\\\\\\\\\n34 & 0.000621 & 0.018879 & 1.117647 \\\\\\\\\\n42 & 0.000768 & 0.018827 & 0.904762 \\\\\\\\\\n8 & 0.000146 & 0.018355 & 4.750000 \\\\\\\\\\n114 & 0.002083 & 0.013297 & 0.333333 \\\\\\\\\\n19 & 0.000347 & 0.011937 & 2.000000 \\\\\\\\\\n49 & 0.000895 & 0.010708 & 0.775510 \\\\\\\\\\n23 & 0.000420 & 0.010375 & 1.652174 \\\\\\\\\\n24 & 0.000439 & 0.009964 & 1.583333 \\\\\\\\\\n36 & 0.000658 & 0.009573 & 1.055556 \\\\\\\\\\n14 & 0.000256 & 0.008707 & 2.714286 \\\\\\\\\\n152 & 0.002778 & 0.008557 & 0.250000 \\\\\\\\\\n13 & 0.000238 & 0.008463 & 2.923077 \\\\\\\\\\n61 & 0.001115 & 0.008001 & 0.622951 \\\\\\\\\\n2 & 0.000037 & 0.007996 & 19.000000 \\\\\\\\\\n65 & 0.001188 & 0.007205 & 0.584615 \\\\\\\\\\n43 & 0.000786 & 0.007063 & 0.883721 \\\\\\\\\\n39 & 0.000713 & 0.006918 & 0.974359 \\\\\\\\\\n33 & 0.000603 & 0.006794 & 1.151515 \\\\\\\\\\n54 & 0.000987 & 0.006493 & 0.703704 \\\\\\\\\\n52 & 0.000950 & 0.006236 & 0.730769 \\\\\\\\\\n\\\\end{tabular}\\n'"
      ]
     },
     "execution_count": 51,
     "metadata": {},
     "output_type": "execute_result"
    }
   ],
   "source": [
    "pm1_prepandemic_spec.sort_values(by = 'abs_fourier_coeff_square', ascending = False).head(30).style.to_latex()"
   ]
  },
  {
   "cell_type": "code",
   "execution_count": 30,
   "id": "7406afa0-e2a1-4b7c-be75-554dec19ad43",
   "metadata": {
    "tags": []
   },
   "outputs": [
    {
     "data": {
      "text/html": [
       "<div>\n",
       "<style scoped>\n",
       "    .dataframe tbody tr th:only-of-type {\n",
       "        vertical-align: middle;\n",
       "    }\n",
       "\n",
       "    .dataframe tbody tr th {\n",
       "        vertical-align: top;\n",
       "    }\n",
       "\n",
       "    .dataframe thead th {\n",
       "        text-align: right;\n",
       "    }\n",
       "</style>\n",
       "<table border=\"1\" class=\"dataframe\">\n",
       "  <thead>\n",
       "    <tr style=\"text-align: right;\">\n",
       "      <th></th>\n",
       "      <th>freq</th>\n",
       "      <th>abs_fourier_coeff_square</th>\n",
       "      <th>period (in days)</th>\n",
       "    </tr>\n",
       "  </thead>\n",
       "  <tbody>\n",
       "    <tr>\n",
       "      <th>38</th>\n",
       "      <td>0.000694</td>\n",
       "      <td>0.265289</td>\n",
       "      <td>1.000000</td>\n",
       "    </tr>\n",
       "    <tr>\n",
       "      <th>76</th>\n",
       "      <td>0.001389</td>\n",
       "      <td>0.038481</td>\n",
       "      <td>0.500000</td>\n",
       "    </tr>\n",
       "    <tr>\n",
       "      <th>1</th>\n",
       "      <td>0.000018</td>\n",
       "      <td>0.029668</td>\n",
       "      <td>38.000000</td>\n",
       "    </tr>\n",
       "    <tr>\n",
       "      <th>3</th>\n",
       "      <td>0.000055</td>\n",
       "      <td>0.029503</td>\n",
       "      <td>12.666667</td>\n",
       "    </tr>\n",
       "    <tr>\n",
       "      <th>35</th>\n",
       "      <td>0.000640</td>\n",
       "      <td>0.025937</td>\n",
       "      <td>1.085714</td>\n",
       "    </tr>\n",
       "    <tr>\n",
       "      <th>12</th>\n",
       "      <td>0.000219</td>\n",
       "      <td>0.021649</td>\n",
       "      <td>3.166667</td>\n",
       "    </tr>\n",
       "    <tr>\n",
       "      <th>5</th>\n",
       "      <td>0.000091</td>\n",
       "      <td>0.019994</td>\n",
       "      <td>7.600000</td>\n",
       "    </tr>\n",
       "    <tr>\n",
       "      <th>11</th>\n",
       "      <td>0.000201</td>\n",
       "      <td>0.019162</td>\n",
       "      <td>3.454545</td>\n",
       "    </tr>\n",
       "    <tr>\n",
       "      <th>41</th>\n",
       "      <td>0.000749</td>\n",
       "      <td>0.019127</td>\n",
       "      <td>0.926829</td>\n",
       "    </tr>\n",
       "    <tr>\n",
       "      <th>4</th>\n",
       "      <td>0.000073</td>\n",
       "      <td>0.018912</td>\n",
       "      <td>9.500000</td>\n",
       "    </tr>\n",
       "    <tr>\n",
       "      <th>34</th>\n",
       "      <td>0.000621</td>\n",
       "      <td>0.018879</td>\n",
       "      <td>1.117647</td>\n",
       "    </tr>\n",
       "    <tr>\n",
       "      <th>42</th>\n",
       "      <td>0.000768</td>\n",
       "      <td>0.018827</td>\n",
       "      <td>0.904762</td>\n",
       "    </tr>\n",
       "    <tr>\n",
       "      <th>8</th>\n",
       "      <td>0.000146</td>\n",
       "      <td>0.018355</td>\n",
       "      <td>4.750000</td>\n",
       "    </tr>\n",
       "    <tr>\n",
       "      <th>114</th>\n",
       "      <td>0.002083</td>\n",
       "      <td>0.013297</td>\n",
       "      <td>0.333333</td>\n",
       "    </tr>\n",
       "    <tr>\n",
       "      <th>19</th>\n",
       "      <td>0.000347</td>\n",
       "      <td>0.011937</td>\n",
       "      <td>2.000000</td>\n",
       "    </tr>\n",
       "    <tr>\n",
       "      <th>49</th>\n",
       "      <td>0.000895</td>\n",
       "      <td>0.010708</td>\n",
       "      <td>0.775510</td>\n",
       "    </tr>\n",
       "    <tr>\n",
       "      <th>23</th>\n",
       "      <td>0.000420</td>\n",
       "      <td>0.010375</td>\n",
       "      <td>1.652174</td>\n",
       "    </tr>\n",
       "    <tr>\n",
       "      <th>24</th>\n",
       "      <td>0.000439</td>\n",
       "      <td>0.009964</td>\n",
       "      <td>1.583333</td>\n",
       "    </tr>\n",
       "    <tr>\n",
       "      <th>36</th>\n",
       "      <td>0.000658</td>\n",
       "      <td>0.009573</td>\n",
       "      <td>1.055556</td>\n",
       "    </tr>\n",
       "    <tr>\n",
       "      <th>14</th>\n",
       "      <td>0.000256</td>\n",
       "      <td>0.008707</td>\n",
       "      <td>2.714286</td>\n",
       "    </tr>\n",
       "    <tr>\n",
       "      <th>152</th>\n",
       "      <td>0.002778</td>\n",
       "      <td>0.008557</td>\n",
       "      <td>0.250000</td>\n",
       "    </tr>\n",
       "    <tr>\n",
       "      <th>13</th>\n",
       "      <td>0.000238</td>\n",
       "      <td>0.008463</td>\n",
       "      <td>2.923077</td>\n",
       "    </tr>\n",
       "    <tr>\n",
       "      <th>61</th>\n",
       "      <td>0.001115</td>\n",
       "      <td>0.008001</td>\n",
       "      <td>0.622951</td>\n",
       "    </tr>\n",
       "    <tr>\n",
       "      <th>2</th>\n",
       "      <td>0.000037</td>\n",
       "      <td>0.007996</td>\n",
       "      <td>19.000000</td>\n",
       "    </tr>\n",
       "    <tr>\n",
       "      <th>65</th>\n",
       "      <td>0.001188</td>\n",
       "      <td>0.007205</td>\n",
       "      <td>0.584615</td>\n",
       "    </tr>\n",
       "    <tr>\n",
       "      <th>43</th>\n",
       "      <td>0.000786</td>\n",
       "      <td>0.007063</td>\n",
       "      <td>0.883721</td>\n",
       "    </tr>\n",
       "    <tr>\n",
       "      <th>39</th>\n",
       "      <td>0.000713</td>\n",
       "      <td>0.006918</td>\n",
       "      <td>0.974359</td>\n",
       "    </tr>\n",
       "    <tr>\n",
       "      <th>33</th>\n",
       "      <td>0.000603</td>\n",
       "      <td>0.006794</td>\n",
       "      <td>1.151515</td>\n",
       "    </tr>\n",
       "    <tr>\n",
       "      <th>54</th>\n",
       "      <td>0.000987</td>\n",
       "      <td>0.006493</td>\n",
       "      <td>0.703704</td>\n",
       "    </tr>\n",
       "    <tr>\n",
       "      <th>52</th>\n",
       "      <td>0.000950</td>\n",
       "      <td>0.006236</td>\n",
       "      <td>0.730769</td>\n",
       "    </tr>\n",
       "  </tbody>\n",
       "</table>\n",
       "</div>"
      ],
      "text/plain": [
       "         freq  abs_fourier_coeff_square  period (in days)\n",
       "38   0.000694                  0.265289          1.000000\n",
       "76   0.001389                  0.038481          0.500000\n",
       "1    0.000018                  0.029668         38.000000\n",
       "3    0.000055                  0.029503         12.666667\n",
       "35   0.000640                  0.025937          1.085714\n",
       "12   0.000219                  0.021649          3.166667\n",
       "5    0.000091                  0.019994          7.600000\n",
       "11   0.000201                  0.019162          3.454545\n",
       "41   0.000749                  0.019127          0.926829\n",
       "4    0.000073                  0.018912          9.500000\n",
       "34   0.000621                  0.018879          1.117647\n",
       "42   0.000768                  0.018827          0.904762\n",
       "8    0.000146                  0.018355          4.750000\n",
       "114  0.002083                  0.013297          0.333333\n",
       "19   0.000347                  0.011937          2.000000\n",
       "49   0.000895                  0.010708          0.775510\n",
       "23   0.000420                  0.010375          1.652174\n",
       "24   0.000439                  0.009964          1.583333\n",
       "36   0.000658                  0.009573          1.055556\n",
       "14   0.000256                  0.008707          2.714286\n",
       "152  0.002778                  0.008557          0.250000\n",
       "13   0.000238                  0.008463          2.923077\n",
       "61   0.001115                  0.008001          0.622951\n",
       "2    0.000037                  0.007996         19.000000\n",
       "65   0.001188                  0.007205          0.584615\n",
       "43   0.000786                  0.007063          0.883721\n",
       "39   0.000713                  0.006918          0.974359\n",
       "33   0.000603                  0.006794          1.151515\n",
       "54   0.000987                  0.006493          0.703704\n",
       "52   0.000950                  0.006236          0.730769"
      ]
     },
     "execution_count": 30,
     "metadata": {},
     "output_type": "execute_result"
    }
   ],
   "source": [
    "pm1_prepandemic_spec.sort_values(by = 'abs_fourier_coeff_square', ascending = False).head(30)"
   ]
  },
  {
   "cell_type": "code",
   "execution_count": 42,
   "id": "0ff2a1ee-d8c5-46a6-948f-44fd836216d5",
   "metadata": {
    "tags": []
   },
   "outputs": [
    {
     "data": {
      "text/plain": [
       "<matplotlib.legend.Legend at 0x7f254679cfa0>"
      ]
     },
     "execution_count": 42,
     "metadata": {},
     "output_type": "execute_result"
    },
    {
     "data": {
      "image/png": "[encoded data removed]",
      "text/plain": [
       "<Figure size 640x480 with 1 Axes>"
      ]
     },
     "metadata": {},
     "output_type": "display_data"
    }
   ],
   "source": [
    "fig, ax = plt.subplots()\n",
    "ax.plot(pm1_prepandemic_spec.freq, pm1_prepandemic_spec.abs_fourier_coeff_square, 'k.', label = '$PM_{1}$')\n",
    "ax.set_xlim(0.0000001, 0.0015)\n",
    "ax.set_xlabel('Frequency (1/minute)')\n",
    "ax.set_ylabel('$|X_k|^2$')\n",
    "# ax.vlines(1/(pm10_freq_dom.sort_values('abs_fourier_coeff_square', ascending= False).iloc[0,-1] *24*60)\n",
    "#           , 0, 0.15, linestyle = 'dotted', label = '104 days', color = 'gray')\n",
    "# ax.vlines(1/(1*7*24*60), 0, 0.15, linestyle = 'dashed', label = '1 wk', color = 'gray')\n",
    "ax.vlines(1/(1*24*60), 0, 0.28, linestyle = 'dashdot', label = '1 day', color = 'green')\n",
    "ax.vlines(1/(0.5*24*60), 0, 0.28, linestyle = 'dotted', label = '12 hrs', color = 'blue')\n",
    "ax.vlines(1/(38*24*60), 0, 0.28, linestyle = 'dotted', label = '38 days', color = 'red')\n",
    "ax.vlines(1/(12.666667*24*60), 0, 0.28, linestyle = 'dotted', label = '12.67 days', color = 'gray')\n",
    "ax.vlines(1/(1.085714*24*60), 0, 0.28, linestyle = 'dotted', label = '1.09 days', color = 'brown')\n",
    "ax.vlines(1/(3.166667*24*60), 0, 0.28, linestyle = 'dotted', label = '3.17 days', color = 'orange')\n",
    "ax.vlines(1/(7.600000*24*60), 0, 0.28, linestyle = 'dotted', label = '7.6 days', color = 'cyan')\n",
    "ax.vlines(1/(3.454545*24*60), 0, 0.28, linestyle = 'dotted', label = '3.45 days', color = 'olive')\n",
    "ax.vlines(1/(0.926829*24*60), 0, 0.28, linestyle = 'dotted', label = '0.93 days', color = 'purple')\n",
    "# ax.xaxis.set_major_locator(MultipleLocator(0.0001))\n",
    "# ax.xaxis.set_major_formatter(FormatStrFormatter('%d'))\n",
    "\n",
    "# # For the minor ticks, use no labels; default NullFormatter.\n",
    "# ax.xaxis.set_minor_locator(MultipleLocator(2))\n",
    "ax.xaxis.set_minor_locator(AutoMinorLocator())\n",
    "ax.legend()"
   ]
  },
  {
   "cell_type": "markdown",
   "id": "5a29c100-77bc-46a4-9564-ef670f8d9b21",
   "metadata": {},
   "source": [
    "## PM2.5 pre-ECQ"
   ]
  },
  {
   "cell_type": "code",
   "execution_count": 53,
   "id": "ace44244-ac35-4948-92cf-23a01f5be13f",
   "metadata": {
    "tags": []
   },
   "outputs": [
    {
     "data": {
      "text/plain": [
       "'\\\\begin{tabular}{lrrr}\\n & freq & abs_fourier_coeff_square & period (in days) \\\\\\\\\\n38 & 0.000694 & 0.253633 & 1.000000 \\\\\\\\\\n76 & 0.001389 & 0.034965 & 0.500000 \\\\\\\\\\n3 & 0.000055 & 0.030163 & 12.666667 \\\\\\\\\\n35 & 0.000640 & 0.024861 & 1.085714 \\\\\\\\\\n5 & 0.000091 & 0.023046 & 7.600000 \\\\\\\\\\n1 & 0.000018 & 0.021316 & 38.000000 \\\\\\\\\\n8 & 0.000146 & 0.019836 & 4.750000 \\\\\\\\\\n41 & 0.000749 & 0.019443 & 0.926829 \\\\\\\\\\n11 & 0.000201 & 0.019411 & 3.454545 \\\\\\\\\\n12 & 0.000219 & 0.019213 & 3.166667 \\\\\\\\\\n4 & 0.000073 & 0.018429 & 9.500000 \\\\\\\\\\n34 & 0.000621 & 0.018406 & 1.117647 \\\\\\\\\\n42 & 0.000768 & 0.017889 & 0.904762 \\\\\\\\\\n114 & 0.002083 & 0.012166 & 0.333333 \\\\\\\\\\n19 & 0.000347 & 0.011305 & 2.000000 \\\\\\\\\\n49 & 0.000895 & 0.010553 & 0.775510 \\\\\\\\\\n36 & 0.000658 & 0.010235 & 1.055556 \\\\\\\\\\n23 & 0.000420 & 0.009756 & 1.652174 \\\\\\\\\\n14 & 0.000256 & 0.009247 & 2.714286 \\\\\\\\\\n2 & 0.000037 & 0.009137 & 19.000000 \\\\\\\\\\n13 & 0.000238 & 0.008899 & 2.923077 \\\\\\\\\\n24 & 0.000439 & 0.008786 & 1.583333 \\\\\\\\\\n152 & 0.002778 & 0.007903 & 0.250000 \\\\\\\\\\n61 & 0.001115 & 0.007529 & 0.622951 \\\\\\\\\\n43 & 0.000786 & 0.006744 & 0.883721 \\\\\\\\\\n54 & 0.000987 & 0.006541 & 0.703704 \\\\\\\\\\n39 & 0.000713 & 0.006316 & 0.974359 \\\\\\\\\\n65 & 0.001188 & 0.006159 & 0.584615 \\\\\\\\\\n46 & 0.000841 & 0.006122 & 0.826087 \\\\\\\\\\n33 & 0.000603 & 0.006096 & 1.151515 \\\\\\\\\\n\\\\end{tabular}\\n'"
      ]
     },
     "execution_count": 53,
     "metadata": {},
     "output_type": "execute_result"
    }
   ],
   "source": [
    "pm25_prepandemic_spec.sort_values(by = 'abs_fourier_coeff_square', ascending = False).head(30).style.to_latex()"
   ]
  },
  {
   "cell_type": "code",
   "execution_count": 50,
   "id": "9cfe0686-bd79-4285-a0b2-1bced6e675ba",
   "metadata": {
    "tags": []
   },
   "outputs": [
    {
     "data": {
      "text/html": [
       "<div>\n",
       "<style scoped>\n",
       "    .dataframe tbody tr th:only-of-type {\n",
       "        vertical-align: middle;\n",
       "    }\n",
       "\n",
       "    .dataframe tbody tr th {\n",
       "        vertical-align: top;\n",
       "    }\n",
       "\n",
       "    .dataframe thead th {\n",
       "        text-align: right;\n",
       "    }\n",
       "</style>\n",
       "<table border=\"1\" class=\"dataframe\">\n",
       "  <thead>\n",
       "    <tr style=\"text-align: right;\">\n",
       "      <th></th>\n",
       "      <th>freq</th>\n",
       "      <th>abs_fourier_coeff_square</th>\n",
       "      <th>period (in days)</th>\n",
       "    </tr>\n",
       "  </thead>\n",
       "  <tbody>\n",
       "    <tr>\n",
       "      <th>38</th>\n",
       "      <td>0.000694</td>\n",
       "      <td>0.253633</td>\n",
       "      <td>1.000000</td>\n",
       "    </tr>\n",
       "    <tr>\n",
       "      <th>76</th>\n",
       "      <td>0.001389</td>\n",
       "      <td>0.034965</td>\n",
       "      <td>0.500000</td>\n",
       "    </tr>\n",
       "    <tr>\n",
       "      <th>3</th>\n",
       "      <td>0.000055</td>\n",
       "      <td>0.030163</td>\n",
       "      <td>12.666667</td>\n",
       "    </tr>\n",
       "    <tr>\n",
       "      <th>35</th>\n",
       "      <td>0.000640</td>\n",
       "      <td>0.024861</td>\n",
       "      <td>1.085714</td>\n",
       "    </tr>\n",
       "    <tr>\n",
       "      <th>5</th>\n",
       "      <td>0.000091</td>\n",
       "      <td>0.023046</td>\n",
       "      <td>7.600000</td>\n",
       "    </tr>\n",
       "    <tr>\n",
       "      <th>1</th>\n",
       "      <td>0.000018</td>\n",
       "      <td>0.021316</td>\n",
       "      <td>38.000000</td>\n",
       "    </tr>\n",
       "    <tr>\n",
       "      <th>8</th>\n",
       "      <td>0.000146</td>\n",
       "      <td>0.019836</td>\n",
       "      <td>4.750000</td>\n",
       "    </tr>\n",
       "    <tr>\n",
       "      <th>41</th>\n",
       "      <td>0.000749</td>\n",
       "      <td>0.019443</td>\n",
       "      <td>0.926829</td>\n",
       "    </tr>\n",
       "    <tr>\n",
       "      <th>11</th>\n",
       "      <td>0.000201</td>\n",
       "      <td>0.019411</td>\n",
       "      <td>3.454545</td>\n",
       "    </tr>\n",
       "    <tr>\n",
       "      <th>12</th>\n",
       "      <td>0.000219</td>\n",
       "      <td>0.019213</td>\n",
       "      <td>3.166667</td>\n",
       "    </tr>\n",
       "    <tr>\n",
       "      <th>4</th>\n",
       "      <td>0.000073</td>\n",
       "      <td>0.018429</td>\n",
       "      <td>9.500000</td>\n",
       "    </tr>\n",
       "    <tr>\n",
       "      <th>34</th>\n",
       "      <td>0.000621</td>\n",
       "      <td>0.018406</td>\n",
       "      <td>1.117647</td>\n",
       "    </tr>\n",
       "    <tr>\n",
       "      <th>42</th>\n",
       "      <td>0.000768</td>\n",
       "      <td>0.017889</td>\n",
       "      <td>0.904762</td>\n",
       "    </tr>\n",
       "    <tr>\n",
       "      <th>114</th>\n",
       "      <td>0.002083</td>\n",
       "      <td>0.012166</td>\n",
       "      <td>0.333333</td>\n",
       "    </tr>\n",
       "    <tr>\n",
       "      <th>19</th>\n",
       "      <td>0.000347</td>\n",
       "      <td>0.011305</td>\n",
       "      <td>2.000000</td>\n",
       "    </tr>\n",
       "    <tr>\n",
       "      <th>49</th>\n",
       "      <td>0.000895</td>\n",
       "      <td>0.010553</td>\n",
       "      <td>0.775510</td>\n",
       "    </tr>\n",
       "    <tr>\n",
       "      <th>36</th>\n",
       "      <td>0.000658</td>\n",
       "      <td>0.010235</td>\n",
       "      <td>1.055556</td>\n",
       "    </tr>\n",
       "    <tr>\n",
       "      <th>23</th>\n",
       "      <td>0.000420</td>\n",
       "      <td>0.009756</td>\n",
       "      <td>1.652174</td>\n",
       "    </tr>\n",
       "    <tr>\n",
       "      <th>14</th>\n",
       "      <td>0.000256</td>\n",
       "      <td>0.009247</td>\n",
       "      <td>2.714286</td>\n",
       "    </tr>\n",
       "    <tr>\n",
       "      <th>2</th>\n",
       "      <td>0.000037</td>\n",
       "      <td>0.009137</td>\n",
       "      <td>19.000000</td>\n",
       "    </tr>\n",
       "    <tr>\n",
       "      <th>13</th>\n",
       "      <td>0.000238</td>\n",
       "      <td>0.008899</td>\n",
       "      <td>2.923077</td>\n",
       "    </tr>\n",
       "    <tr>\n",
       "      <th>24</th>\n",
       "      <td>0.000439</td>\n",
       "      <td>0.008786</td>\n",
       "      <td>1.583333</td>\n",
       "    </tr>\n",
       "    <tr>\n",
       "      <th>152</th>\n",
       "      <td>0.002778</td>\n",
       "      <td>0.007903</td>\n",
       "      <td>0.250000</td>\n",
       "    </tr>\n",
       "    <tr>\n",
       "      <th>61</th>\n",
       "      <td>0.001115</td>\n",
       "      <td>0.007529</td>\n",
       "      <td>0.622951</td>\n",
       "    </tr>\n",
       "    <tr>\n",
       "      <th>43</th>\n",
       "      <td>0.000786</td>\n",
       "      <td>0.006744</td>\n",
       "      <td>0.883721</td>\n",
       "    </tr>\n",
       "    <tr>\n",
       "      <th>54</th>\n",
       "      <td>0.000987</td>\n",
       "      <td>0.006541</td>\n",
       "      <td>0.703704</td>\n",
       "    </tr>\n",
       "    <tr>\n",
       "      <th>39</th>\n",
       "      <td>0.000713</td>\n",
       "      <td>0.006316</td>\n",
       "      <td>0.974359</td>\n",
       "    </tr>\n",
       "    <tr>\n",
       "      <th>65</th>\n",
       "      <td>0.001188</td>\n",
       "      <td>0.006159</td>\n",
       "      <td>0.584615</td>\n",
       "    </tr>\n",
       "    <tr>\n",
       "      <th>46</th>\n",
       "      <td>0.000841</td>\n",
       "      <td>0.006122</td>\n",
       "      <td>0.826087</td>\n",
       "    </tr>\n",
       "    <tr>\n",
       "      <th>33</th>\n",
       "      <td>0.000603</td>\n",
       "      <td>0.006096</td>\n",
       "      <td>1.151515</td>\n",
       "    </tr>\n",
       "  </tbody>\n",
       "</table>\n",
       "</div>"
      ],
      "text/plain": [
       "         freq  abs_fourier_coeff_square  period (in days)\n",
       "38   0.000694                  0.253633          1.000000\n",
       "76   0.001389                  0.034965          0.500000\n",
       "3    0.000055                  0.030163         12.666667\n",
       "35   0.000640                  0.024861          1.085714\n",
       "5    0.000091                  0.023046          7.600000\n",
       "1    0.000018                  0.021316         38.000000\n",
       "8    0.000146                  0.019836          4.750000\n",
       "41   0.000749                  0.019443          0.926829\n",
       "11   0.000201                  0.019411          3.454545\n",
       "12   0.000219                  0.019213          3.166667\n",
       "4    0.000073                  0.018429          9.500000\n",
       "34   0.000621                  0.018406          1.117647\n",
       "42   0.000768                  0.017889          0.904762\n",
       "114  0.002083                  0.012166          0.333333\n",
       "19   0.000347                  0.011305          2.000000\n",
       "49   0.000895                  0.010553          0.775510\n",
       "36   0.000658                  0.010235          1.055556\n",
       "23   0.000420                  0.009756          1.652174\n",
       "14   0.000256                  0.009247          2.714286\n",
       "2    0.000037                  0.009137         19.000000\n",
       "13   0.000238                  0.008899          2.923077\n",
       "24   0.000439                  0.008786          1.583333\n",
       "152  0.002778                  0.007903          0.250000\n",
       "61   0.001115                  0.007529          0.622951\n",
       "43   0.000786                  0.006744          0.883721\n",
       "54   0.000987                  0.006541          0.703704\n",
       "39   0.000713                  0.006316          0.974359\n",
       "65   0.001188                  0.006159          0.584615\n",
       "46   0.000841                  0.006122          0.826087\n",
       "33   0.000603                  0.006096          1.151515"
      ]
     },
     "execution_count": 50,
     "metadata": {},
     "output_type": "execute_result"
    }
   ],
   "source": [
    "pm25_prepandemic_spec.sort_values(by = 'abs_fourier_coeff_square', ascending = False).head(30)"
   ]
  },
  {
   "cell_type": "code",
   "execution_count": 63,
   "id": "d6bf73a4-f7a2-43d6-8c68-f713b69ba567",
   "metadata": {
    "tags": []
   },
   "outputs": [
    {
     "data": {
      "text/plain": [
       "<matplotlib.legend.Legend at 0x7f2545ca59c0>"
      ]
     },
     "execution_count": 63,
     "metadata": {},
     "output_type": "execute_result"
    },
    {
     "data": {
      "image/png": "[encoded data removed]",
      "text/plain": [
       "<Figure size 640x480 with 1 Axes>"
      ]
     },
     "metadata": {},
     "output_type": "display_data"
    }
   ],
   "source": [
    "fig, ax = plt.subplots()\n",
    "ax.plot(pm25_prepandemic_spec.freq, pm25_prepandemic_spec.abs_fourier_coeff_square, 'k.', label = '$PM_{2.5}$')\n",
    "ax.set_xlim(-0.00001, 0.003)\n",
    "ax.set_xlabel('Frequency (1/minute)')\n",
    "ax.set_ylabel('$|X_k|^2$')\n",
    "# ax.vlines(1/(pm10_freq_dom.sort_values('abs_fourier_coeff_square', ascending= False).iloc[0,-1] *24*60)\n",
    "#           , 0, 0.15, linestyle = 'dotted', label = '104 days', color = 'gray')\n",
    "# ax.vlines(1/(1*7*24*60), 0, 0.15, linestyle = 'dashed', label = '1 wk', color = 'gray')\n",
    "ax.vlines(1/(1*24*60), 0, 0.28, linestyle = 'dashdot', label = '1 day', color = 'green')\n",
    "ax.vlines(1/(0.5*24*60), 0, 0.28, linestyle = 'dotted', label = 'half day', color = 'blue')\n",
    "ax.vlines(1/(12.67*24*60), 0, 0.28, linestyle = 'dotted', label = '12.67 days', color = 'red')\n",
    "ax.vlines(1/(1.09*24*60), 0, 0.28, linestyle = 'dotted', label = '1.09 days', color = 'gray')\n",
    "ax.vlines(1/(7.6*24*60), 0, 0.28, linestyle = 'dotted', label = '7.6 days', color = 'brown')\n",
    "ax.vlines(1/(38*24*60), 0, 0.28, linestyle = 'dotted', label = '38 days', color = 'orange')\n",
    "ax.vlines(1/(4.75*24*60), 0, 0.28, linestyle = 'dotted', label = '4.75 days', color = 'cyan')\n",
    "ax.vlines(1/(0.93*24*60), 0, 0.28, linestyle = 'dotted', label = '0.93 days', color = 'olive')\n",
    "ax.vlines(1/(3.45*24*60), 0, 0.28, linestyle = 'dotted', label = '3.45 days', color = 'purple')\n",
    "\n",
    "# ax.xaxis.set_major_locator(MultipleLocator(0.0001))\n",
    "# ax.xaxis.set_major_formatter(FormatStrFormatter('%d'))\n",
    "\n",
    "# # For the minor ticks, use no labels; default NullFormatter.\n",
    "# ax.xaxis.set_minor_locator(MultipleLocator(2))\n",
    "ax.xaxis.set_minor_locator(AutoMinorLocator())\n",
    "ax.legend()"
   ]
  },
  {
   "cell_type": "markdown",
   "id": "787f9db1-5efe-41fb-a835-b705e8244d2f",
   "metadata": {},
   "source": [
    "## PM10 pre-ECQ"
   ]
  },
  {
   "cell_type": "code",
   "execution_count": 55,
   "id": "4ffc2565-ac22-45a1-b93b-381f6513985f",
   "metadata": {
    "tags": []
   },
   "outputs": [
    {
     "data": {
      "text/plain": [
       "'\\\\begin{tabular}{lrrr}\\n & freq & abs_fourier_coeff_square & period (in days) \\\\\\\\\\n38 & 0.000694 & 0.159228 & 1.000000 \\\\\\\\\\n5 & 0.000091 & 0.030940 & 7.600000 \\\\\\\\\\n3 & 0.000055 & 0.023352 & 12.666667 \\\\\\\\\\n35 & 0.000640 & 0.021104 & 1.085714 \\\\\\\\\\n76 & 0.001389 & 0.020306 & 0.500000 \\\\\\\\\\n11 & 0.000201 & 0.018649 & 3.454545 \\\\\\\\\\n41 & 0.000749 & 0.017663 & 0.926829 \\\\\\\\\\n8 & 0.000146 & 0.016770 & 4.750000 \\\\\\\\\\n34 & 0.000621 & 0.015624 & 1.117647 \\\\\\\\\\n42 & 0.000768 & 0.015326 & 0.904762 \\\\\\\\\\n4 & 0.000073 & 0.015066 & 9.500000 \\\\\\\\\\n12 & 0.000219 & 0.012745 & 3.166667 \\\\\\\\\\n36 & 0.000658 & 0.010287 & 1.055556 \\\\\\\\\\n114 & 0.002083 & 0.009335 & 0.333333 \\\\\\\\\\n14 & 0.000256 & 0.009094 & 2.714286 \\\\\\\\\\n49 & 0.000895 & 0.009038 & 0.775510 \\\\\\\\\\n19 & 0.000347 & 0.008748 & 2.000000 \\\\\\\\\\n13 & 0.000238 & 0.008676 & 2.923077 \\\\\\\\\\n2 & 0.000037 & 0.007944 & 19.000000 \\\\\\\\\\n1 & 0.000018 & 0.007799 & 38.000000 \\\\\\\\\\n61 & 0.001115 & 0.006747 & 0.622951 \\\\\\\\\\n24 & 0.000439 & 0.006578 & 1.583333 \\\\\\\\\\n23 & 0.000420 & 0.006481 & 1.652174 \\\\\\\\\\n46 & 0.000841 & 0.006093 & 0.826087 \\\\\\\\\\n54 & 0.000987 & 0.005709 & 0.703704 \\\\\\\\\\n39 & 0.000713 & 0.005440 & 0.974359 \\\\\\\\\\n66 & 0.001206 & 0.005017 & 0.575758 \\\\\\\\\\n27 & 0.000493 & 0.004843 & 1.407407 \\\\\\\\\\n152 & 0.002778 & 0.004690 & 0.250000 \\\\\\\\\\n40 & 0.000731 & 0.004594 & 0.950000 \\\\\\\\\\n\\\\end{tabular}\\n'"
      ]
     },
     "execution_count": 55,
     "metadata": {},
     "output_type": "execute_result"
    }
   ],
   "source": [
    "pm10_prepandemic_spec.sort_values(by = 'abs_fourier_coeff_square', ascending = False).head(30).style.to_latex()"
   ]
  },
  {
   "cell_type": "code",
   "execution_count": 54,
   "id": "615fe2e4-e9ab-425c-ad80-efb53af6ec35",
   "metadata": {
    "tags": []
   },
   "outputs": [
    {
     "data": {
      "text/html": [
       "<div>\n",
       "<style scoped>\n",
       "    .dataframe tbody tr th:only-of-type {\n",
       "        vertical-align: middle;\n",
       "    }\n",
       "\n",
       "    .dataframe tbody tr th {\n",
       "        vertical-align: top;\n",
       "    }\n",
       "\n",
       "    .dataframe thead th {\n",
       "        text-align: right;\n",
       "    }\n",
       "</style>\n",
       "<table border=\"1\" class=\"dataframe\">\n",
       "  <thead>\n",
       "    <tr style=\"text-align: right;\">\n",
       "      <th></th>\n",
       "      <th>freq</th>\n",
       "      <th>abs_fourier_coeff_square</th>\n",
       "      <th>period (in days)</th>\n",
       "    </tr>\n",
       "  </thead>\n",
       "  <tbody>\n",
       "    <tr>\n",
       "      <th>38</th>\n",
       "      <td>0.000694</td>\n",
       "      <td>0.159228</td>\n",
       "      <td>1.000000</td>\n",
       "    </tr>\n",
       "    <tr>\n",
       "      <th>5</th>\n",
       "      <td>0.000091</td>\n",
       "      <td>0.030940</td>\n",
       "      <td>7.600000</td>\n",
       "    </tr>\n",
       "    <tr>\n",
       "      <th>3</th>\n",
       "      <td>0.000055</td>\n",
       "      <td>0.023352</td>\n",
       "      <td>12.666667</td>\n",
       "    </tr>\n",
       "    <tr>\n",
       "      <th>35</th>\n",
       "      <td>0.000640</td>\n",
       "      <td>0.021104</td>\n",
       "      <td>1.085714</td>\n",
       "    </tr>\n",
       "    <tr>\n",
       "      <th>76</th>\n",
       "      <td>0.001389</td>\n",
       "      <td>0.020306</td>\n",
       "      <td>0.500000</td>\n",
       "    </tr>\n",
       "    <tr>\n",
       "      <th>11</th>\n",
       "      <td>0.000201</td>\n",
       "      <td>0.018649</td>\n",
       "      <td>3.454545</td>\n",
       "    </tr>\n",
       "    <tr>\n",
       "      <th>41</th>\n",
       "      <td>0.000749</td>\n",
       "      <td>0.017663</td>\n",
       "      <td>0.926829</td>\n",
       "    </tr>\n",
       "    <tr>\n",
       "      <th>8</th>\n",
       "      <td>0.000146</td>\n",
       "      <td>0.016770</td>\n",
       "      <td>4.750000</td>\n",
       "    </tr>\n",
       "    <tr>\n",
       "      <th>34</th>\n",
       "      <td>0.000621</td>\n",
       "      <td>0.015624</td>\n",
       "      <td>1.117647</td>\n",
       "    </tr>\n",
       "    <tr>\n",
       "      <th>42</th>\n",
       "      <td>0.000768</td>\n",
       "      <td>0.015326</td>\n",
       "      <td>0.904762</td>\n",
       "    </tr>\n",
       "    <tr>\n",
       "      <th>4</th>\n",
       "      <td>0.000073</td>\n",
       "      <td>0.015066</td>\n",
       "      <td>9.500000</td>\n",
       "    </tr>\n",
       "    <tr>\n",
       "      <th>12</th>\n",
       "      <td>0.000219</td>\n",
       "      <td>0.012745</td>\n",
       "      <td>3.166667</td>\n",
       "    </tr>\n",
       "    <tr>\n",
       "      <th>36</th>\n",
       "      <td>0.000658</td>\n",
       "      <td>0.010287</td>\n",
       "      <td>1.055556</td>\n",
       "    </tr>\n",
       "    <tr>\n",
       "      <th>114</th>\n",
       "      <td>0.002083</td>\n",
       "      <td>0.009335</td>\n",
       "      <td>0.333333</td>\n",
       "    </tr>\n",
       "    <tr>\n",
       "      <th>14</th>\n",
       "      <td>0.000256</td>\n",
       "      <td>0.009094</td>\n",
       "      <td>2.714286</td>\n",
       "    </tr>\n",
       "    <tr>\n",
       "      <th>49</th>\n",
       "      <td>0.000895</td>\n",
       "      <td>0.009038</td>\n",
       "      <td>0.775510</td>\n",
       "    </tr>\n",
       "    <tr>\n",
       "      <th>19</th>\n",
       "      <td>0.000347</td>\n",
       "      <td>0.008748</td>\n",
       "      <td>2.000000</td>\n",
       "    </tr>\n",
       "    <tr>\n",
       "      <th>13</th>\n",
       "      <td>0.000238</td>\n",
       "      <td>0.008676</td>\n",
       "      <td>2.923077</td>\n",
       "    </tr>\n",
       "    <tr>\n",
       "      <th>2</th>\n",
       "      <td>0.000037</td>\n",
       "      <td>0.007944</td>\n",
       "      <td>19.000000</td>\n",
       "    </tr>\n",
       "    <tr>\n",
       "      <th>1</th>\n",
       "      <td>0.000018</td>\n",
       "      <td>0.007799</td>\n",
       "      <td>38.000000</td>\n",
       "    </tr>\n",
       "    <tr>\n",
       "      <th>61</th>\n",
       "      <td>0.001115</td>\n",
       "      <td>0.006747</td>\n",
       "      <td>0.622951</td>\n",
       "    </tr>\n",
       "    <tr>\n",
       "      <th>24</th>\n",
       "      <td>0.000439</td>\n",
       "      <td>0.006578</td>\n",
       "      <td>1.583333</td>\n",
       "    </tr>\n",
       "    <tr>\n",
       "      <th>23</th>\n",
       "      <td>0.000420</td>\n",
       "      <td>0.006481</td>\n",
       "      <td>1.652174</td>\n",
       "    </tr>\n",
       "    <tr>\n",
       "      <th>46</th>\n",
       "      <td>0.000841</td>\n",
       "      <td>0.006093</td>\n",
       "      <td>0.826087</td>\n",
       "    </tr>\n",
       "    <tr>\n",
       "      <th>54</th>\n",
       "      <td>0.000987</td>\n",
       "      <td>0.005709</td>\n",
       "      <td>0.703704</td>\n",
       "    </tr>\n",
       "    <tr>\n",
       "      <th>39</th>\n",
       "      <td>0.000713</td>\n",
       "      <td>0.005440</td>\n",
       "      <td>0.974359</td>\n",
       "    </tr>\n",
       "    <tr>\n",
       "      <th>66</th>\n",
       "      <td>0.001206</td>\n",
       "      <td>0.005017</td>\n",
       "      <td>0.575758</td>\n",
       "    </tr>\n",
       "    <tr>\n",
       "      <th>27</th>\n",
       "      <td>0.000493</td>\n",
       "      <td>0.004843</td>\n",
       "      <td>1.407407</td>\n",
       "    </tr>\n",
       "    <tr>\n",
       "      <th>152</th>\n",
       "      <td>0.002778</td>\n",
       "      <td>0.004690</td>\n",
       "      <td>0.250000</td>\n",
       "    </tr>\n",
       "    <tr>\n",
       "      <th>40</th>\n",
       "      <td>0.000731</td>\n",
       "      <td>0.004594</td>\n",
       "      <td>0.950000</td>\n",
       "    </tr>\n",
       "  </tbody>\n",
       "</table>\n",
       "</div>"
      ],
      "text/plain": [
       "         freq  abs_fourier_coeff_square  period (in days)\n",
       "38   0.000694                  0.159228          1.000000\n",
       "5    0.000091                  0.030940          7.600000\n",
       "3    0.000055                  0.023352         12.666667\n",
       "35   0.000640                  0.021104          1.085714\n",
       "76   0.001389                  0.020306          0.500000\n",
       "11   0.000201                  0.018649          3.454545\n",
       "41   0.000749                  0.017663          0.926829\n",
       "8    0.000146                  0.016770          4.750000\n",
       "34   0.000621                  0.015624          1.117647\n",
       "42   0.000768                  0.015326          0.904762\n",
       "4    0.000073                  0.015066          9.500000\n",
       "12   0.000219                  0.012745          3.166667\n",
       "36   0.000658                  0.010287          1.055556\n",
       "114  0.002083                  0.009335          0.333333\n",
       "14   0.000256                  0.009094          2.714286\n",
       "49   0.000895                  0.009038          0.775510\n",
       "19   0.000347                  0.008748          2.000000\n",
       "13   0.000238                  0.008676          2.923077\n",
       "2    0.000037                  0.007944         19.000000\n",
       "1    0.000018                  0.007799         38.000000\n",
       "61   0.001115                  0.006747          0.622951\n",
       "24   0.000439                  0.006578          1.583333\n",
       "23   0.000420                  0.006481          1.652174\n",
       "46   0.000841                  0.006093          0.826087\n",
       "54   0.000987                  0.005709          0.703704\n",
       "39   0.000713                  0.005440          0.974359\n",
       "66   0.001206                  0.005017          0.575758\n",
       "27   0.000493                  0.004843          1.407407\n",
       "152  0.002778                  0.004690          0.250000\n",
       "40   0.000731                  0.004594          0.950000"
      ]
     },
     "execution_count": 54,
     "metadata": {},
     "output_type": "execute_result"
    }
   ],
   "source": [
    "pm10_prepandemic_spec.sort_values(by = 'abs_fourier_coeff_square', ascending = False).head(30)"
   ]
  },
  {
   "cell_type": "code",
   "execution_count": 64,
   "id": "cab8b2ae-2550-4dc1-8e91-34294ec31b25",
   "metadata": {
    "tags": []
   },
   "outputs": [
    {
     "data": {
      "text/plain": [
       "<matplotlib.legend.Legend at 0x7f2545c54370>"
      ]
     },
     "execution_count": 64,
     "metadata": {},
     "output_type": "execute_result"
    },
    {
     "data": {
      "image/png": "[encoded data removed]",
      "text/plain": [
       "<Figure size 640x480 with 1 Axes>"
      ]
     },
     "metadata": {},
     "output_type": "display_data"
    }
   ],
   "source": [
    "fig, ax = plt.subplots()\n",
    "ax.plot(pm10_prepandemic_spec.freq, pm10_prepandemic_spec.abs_fourier_coeff_square, 'k.', label = '$PM_{10}$')\n",
    "ax.set_xlim(-0.00005, 0.001)\n",
    "ax.set_xlabel('Frequency (1/minute)')\n",
    "ax.set_ylabel('$|X_k|^2$')\n",
    "# ax.vlines(1/(pm10_freq_dom.sort_values('abs_fourier_coeff_square', ascending= False).iloc[0,-1] *24*60)\n",
    "#           , 0, 0.15, linestyle = 'dotted', label = '104 days', color = 'gray')\n",
    "# ax.vlines(1/(1*7*24*60), 0, 0.15, linestyle = 'dashed', label = '1 wk', color = 'gray')\n",
    "ax.vlines(1/(1*24*60), 0, 0.28, linestyle = 'dashdot', label = '1 day', color = 'green')\n",
    "ax.vlines(1/(7.6*24*60), 0, 0.28, linestyle = 'dotted', label = '7.6 days', color = 'blue')\n",
    "ax.vlines(1/(12.67*24*60), 0, 0.28, linestyle = 'dotted', label = '12.67 days', color = 'red')\n",
    "ax.vlines(1/(1.09*24*60), 0, 0.28, linestyle = 'dotted', label = '1.09 days', color = 'gray')\n",
    "ax.vlines(1/(0.5*24*60), 0, 0.28, linestyle = 'dotted', label = '0.5 days', color = 'brown')\n",
    "ax.vlines(1/(3.45*24*60), 0, 0.28, linestyle = 'dotted', label = '3.45 days', color = 'orange')\n",
    "ax.vlines(1/(0.93*24*60), 0, 0.28, linestyle = 'dotted', label = '0.93 days', color = 'cyan')\n",
    "ax.vlines(1/(4.75*24*60), 0, 0.28, linestyle = 'dotted', label = '4.75 days', color = 'olive')\n",
    "ax.vlines(1/(1.12*24*60), 0, 0.28, linestyle = 'dotted', label = '1.12 days', color = 'purple')\n",
    "\n",
    "\n",
    "\n",
    "\n",
    "\n",
    "\n",
    "\n",
    "# ax.xaxis.set_major_locator(MultipleLocator(0.0001))\n",
    "# ax.xaxis.set_major_formatter(FormatStrFormatter('%d'))\n",
    "\n",
    "# # For the minor ticks, use no labels; default NullFormatter.\n",
    "# ax.xaxis.set_minor_locator(MultipleLocator(2))\n",
    "ax.xaxis.set_minor_locator(AutoMinorLocator())\n",
    "ax.legend()"
   ]
  },
  {
   "cell_type": "markdown",
   "id": "6f462ae3-c200-4ddf-bc5a-7834db8b11c2",
   "metadata": {},
   "source": [
    "## PM1 ECQ"
   ]
  },
  {
   "cell_type": "code",
   "execution_count": 56,
   "id": "ce0f0a6c-fc25-409e-b77f-86b3abceafeb",
   "metadata": {
    "tags": []
   },
   "outputs": [
    {
     "data": {
      "text/plain": [
       "'\\\\begin{tabular}{lrrr}\\n & freq & abs_fourier_coeff_square & period (in days) \\\\\\\\\\n2 & 0.000023 & 0.133157 & 29.833333 \\\\\\\\\\n60 & 0.000698 & 0.067925 & 0.994444 \\\\\\\\\\n15 & 0.000175 & 0.038225 & 3.977778 \\\\\\\\\\n20 & 0.000233 & 0.029627 & 2.983333 \\\\\\\\\\n179 & 0.002083 & 0.024678 & 0.333333 \\\\\\\\\\n7 & 0.000081 & 0.020720 & 8.523810 \\\\\\\\\\n17 & 0.000198 & 0.018837 & 3.509804 \\\\\\\\\\n119 & 0.001385 & 0.018392 & 0.501401 \\\\\\\\\\n61 & 0.000710 & 0.014495 & 0.978142 \\\\\\\\\\n9 & 0.000105 & 0.014281 & 6.629630 \\\\\\\\\\n8 & 0.000093 & 0.014002 & 7.458333 \\\\\\\\\\n4 & 0.000047 & 0.013674 & 14.916667 \\\\\\\\\\n46 & 0.000535 & 0.013100 & 1.297101 \\\\\\\\\\n3 & 0.000035 & 0.012737 & 19.888889 \\\\\\\\\\n19 & 0.000221 & 0.011212 & 3.140351 \\\\\\\\\\n50 & 0.000582 & 0.010828 & 1.193333 \\\\\\\\\\n64 & 0.000745 & 0.010358 & 0.932292 \\\\\\\\\\n59 & 0.000687 & 0.009784 & 1.011299 \\\\\\\\\\n16 & 0.000186 & 0.009179 & 3.729167 \\\\\\\\\\n28 & 0.000326 & 0.009093 & 2.130952 \\\\\\\\\\n38 & 0.000442 & 0.008262 & 1.570175 \\\\\\\\\\n239 & 0.002782 & 0.008206 & 0.249651 \\\\\\\\\\n48 & 0.000559 & 0.008180 & 1.243056 \\\\\\\\\\n120 & 0.001397 & 0.007539 & 0.497222 \\\\\\\\\\n106 & 0.001234 & 0.007213 & 0.562893 \\\\\\\\\\n18 & 0.000209 & 0.006784 & 3.314815 \\\\\\\\\\n1 & 0.000012 & 0.006503 & 59.666667 \\\\\\\\\\n31 & 0.000361 & 0.006487 & 1.924731 \\\\\\\\\\n114 & 0.001327 & 0.006262 & 0.523392 \\\\\\\\\\n22 & 0.000256 & 0.006189 & 2.712121 \\\\\\\\\\n\\\\end{tabular}\\n'"
      ]
     },
     "execution_count": 56,
     "metadata": {},
     "output_type": "execute_result"
    }
   ],
   "source": [
    "pm1_ecq_spec.sort_values(by = 'abs_fourier_coeff_square', ascending = False).head(30).style.to_latex()"
   ]
  },
  {
   "cell_type": "code",
   "execution_count": 57,
   "id": "49487b5a-5c0a-46a4-ad6e-bcaeb7dd63f5",
   "metadata": {
    "tags": []
   },
   "outputs": [
    {
     "data": {
      "text/html": [
       "<div>\n",
       "<style scoped>\n",
       "    .dataframe tbody tr th:only-of-type {\n",
       "        vertical-align: middle;\n",
       "    }\n",
       "\n",
       "    .dataframe tbody tr th {\n",
       "        vertical-align: top;\n",
       "    }\n",
       "\n",
       "    .dataframe thead th {\n",
       "        text-align: right;\n",
       "    }\n",
       "</style>\n",
       "<table border=\"1\" class=\"dataframe\">\n",
       "  <thead>\n",
       "    <tr style=\"text-align: right;\">\n",
       "      <th></th>\n",
       "      <th>freq</th>\n",
       "      <th>abs_fourier_coeff_square</th>\n",
       "      <th>period (in days)</th>\n",
       "    </tr>\n",
       "  </thead>\n",
       "  <tbody>\n",
       "    <tr>\n",
       "      <th>2</th>\n",
       "      <td>0.000023</td>\n",
       "      <td>0.133157</td>\n",
       "      <td>29.833333</td>\n",
       "    </tr>\n",
       "    <tr>\n",
       "      <th>60</th>\n",
       "      <td>0.000698</td>\n",
       "      <td>0.067925</td>\n",
       "      <td>0.994444</td>\n",
       "    </tr>\n",
       "    <tr>\n",
       "      <th>15</th>\n",
       "      <td>0.000175</td>\n",
       "      <td>0.038225</td>\n",
       "      <td>3.977778</td>\n",
       "    </tr>\n",
       "    <tr>\n",
       "      <th>20</th>\n",
       "      <td>0.000233</td>\n",
       "      <td>0.029627</td>\n",
       "      <td>2.983333</td>\n",
       "    </tr>\n",
       "    <tr>\n",
       "      <th>179</th>\n",
       "      <td>0.002083</td>\n",
       "      <td>0.024678</td>\n",
       "      <td>0.333333</td>\n",
       "    </tr>\n",
       "    <tr>\n",
       "      <th>7</th>\n",
       "      <td>0.000081</td>\n",
       "      <td>0.020720</td>\n",
       "      <td>8.523810</td>\n",
       "    </tr>\n",
       "    <tr>\n",
       "      <th>17</th>\n",
       "      <td>0.000198</td>\n",
       "      <td>0.018837</td>\n",
       "      <td>3.509804</td>\n",
       "    </tr>\n",
       "    <tr>\n",
       "      <th>119</th>\n",
       "      <td>0.001385</td>\n",
       "      <td>0.018392</td>\n",
       "      <td>0.501401</td>\n",
       "    </tr>\n",
       "    <tr>\n",
       "      <th>61</th>\n",
       "      <td>0.000710</td>\n",
       "      <td>0.014495</td>\n",
       "      <td>0.978142</td>\n",
       "    </tr>\n",
       "    <tr>\n",
       "      <th>9</th>\n",
       "      <td>0.000105</td>\n",
       "      <td>0.014281</td>\n",
       "      <td>6.629630</td>\n",
       "    </tr>\n",
       "    <tr>\n",
       "      <th>8</th>\n",
       "      <td>0.000093</td>\n",
       "      <td>0.014002</td>\n",
       "      <td>7.458333</td>\n",
       "    </tr>\n",
       "    <tr>\n",
       "      <th>4</th>\n",
       "      <td>0.000047</td>\n",
       "      <td>0.013674</td>\n",
       "      <td>14.916667</td>\n",
       "    </tr>\n",
       "    <tr>\n",
       "      <th>46</th>\n",
       "      <td>0.000535</td>\n",
       "      <td>0.013100</td>\n",
       "      <td>1.297101</td>\n",
       "    </tr>\n",
       "    <tr>\n",
       "      <th>3</th>\n",
       "      <td>0.000035</td>\n",
       "      <td>0.012737</td>\n",
       "      <td>19.888889</td>\n",
       "    </tr>\n",
       "    <tr>\n",
       "      <th>19</th>\n",
       "      <td>0.000221</td>\n",
       "      <td>0.011212</td>\n",
       "      <td>3.140351</td>\n",
       "    </tr>\n",
       "    <tr>\n",
       "      <th>50</th>\n",
       "      <td>0.000582</td>\n",
       "      <td>0.010828</td>\n",
       "      <td>1.193333</td>\n",
       "    </tr>\n",
       "    <tr>\n",
       "      <th>64</th>\n",
       "      <td>0.000745</td>\n",
       "      <td>0.010358</td>\n",
       "      <td>0.932292</td>\n",
       "    </tr>\n",
       "    <tr>\n",
       "      <th>59</th>\n",
       "      <td>0.000687</td>\n",
       "      <td>0.009784</td>\n",
       "      <td>1.011299</td>\n",
       "    </tr>\n",
       "    <tr>\n",
       "      <th>16</th>\n",
       "      <td>0.000186</td>\n",
       "      <td>0.009179</td>\n",
       "      <td>3.729167</td>\n",
       "    </tr>\n",
       "    <tr>\n",
       "      <th>28</th>\n",
       "      <td>0.000326</td>\n",
       "      <td>0.009093</td>\n",
       "      <td>2.130952</td>\n",
       "    </tr>\n",
       "    <tr>\n",
       "      <th>38</th>\n",
       "      <td>0.000442</td>\n",
       "      <td>0.008262</td>\n",
       "      <td>1.570175</td>\n",
       "    </tr>\n",
       "    <tr>\n",
       "      <th>239</th>\n",
       "      <td>0.002782</td>\n",
       "      <td>0.008206</td>\n",
       "      <td>0.249651</td>\n",
       "    </tr>\n",
       "    <tr>\n",
       "      <th>48</th>\n",
       "      <td>0.000559</td>\n",
       "      <td>0.008180</td>\n",
       "      <td>1.243056</td>\n",
       "    </tr>\n",
       "    <tr>\n",
       "      <th>120</th>\n",
       "      <td>0.001397</td>\n",
       "      <td>0.007539</td>\n",
       "      <td>0.497222</td>\n",
       "    </tr>\n",
       "    <tr>\n",
       "      <th>106</th>\n",
       "      <td>0.001234</td>\n",
       "      <td>0.007213</td>\n",
       "      <td>0.562893</td>\n",
       "    </tr>\n",
       "    <tr>\n",
       "      <th>18</th>\n",
       "      <td>0.000209</td>\n",
       "      <td>0.006784</td>\n",
       "      <td>3.314815</td>\n",
       "    </tr>\n",
       "    <tr>\n",
       "      <th>1</th>\n",
       "      <td>0.000012</td>\n",
       "      <td>0.006503</td>\n",
       "      <td>59.666667</td>\n",
       "    </tr>\n",
       "    <tr>\n",
       "      <th>31</th>\n",
       "      <td>0.000361</td>\n",
       "      <td>0.006487</td>\n",
       "      <td>1.924731</td>\n",
       "    </tr>\n",
       "    <tr>\n",
       "      <th>114</th>\n",
       "      <td>0.001327</td>\n",
       "      <td>0.006262</td>\n",
       "      <td>0.523392</td>\n",
       "    </tr>\n",
       "    <tr>\n",
       "      <th>22</th>\n",
       "      <td>0.000256</td>\n",
       "      <td>0.006189</td>\n",
       "      <td>2.712121</td>\n",
       "    </tr>\n",
       "  </tbody>\n",
       "</table>\n",
       "</div>"
      ],
      "text/plain": [
       "         freq  abs_fourier_coeff_square  period (in days)\n",
       "2    0.000023                  0.133157         29.833333\n",
       "60   0.000698                  0.067925          0.994444\n",
       "15   0.000175                  0.038225          3.977778\n",
       "20   0.000233                  0.029627          2.983333\n",
       "179  0.002083                  0.024678          0.333333\n",
       "7    0.000081                  0.020720          8.523810\n",
       "17   0.000198                  0.018837          3.509804\n",
       "119  0.001385                  0.018392          0.501401\n",
       "61   0.000710                  0.014495          0.978142\n",
       "9    0.000105                  0.014281          6.629630\n",
       "8    0.000093                  0.014002          7.458333\n",
       "4    0.000047                  0.013674         14.916667\n",
       "46   0.000535                  0.013100          1.297101\n",
       "3    0.000035                  0.012737         19.888889\n",
       "19   0.000221                  0.011212          3.140351\n",
       "50   0.000582                  0.010828          1.193333\n",
       "64   0.000745                  0.010358          0.932292\n",
       "59   0.000687                  0.009784          1.011299\n",
       "16   0.000186                  0.009179          3.729167\n",
       "28   0.000326                  0.009093          2.130952\n",
       "38   0.000442                  0.008262          1.570175\n",
       "239  0.002782                  0.008206          0.249651\n",
       "48   0.000559                  0.008180          1.243056\n",
       "120  0.001397                  0.007539          0.497222\n",
       "106  0.001234                  0.007213          0.562893\n",
       "18   0.000209                  0.006784          3.314815\n",
       "1    0.000012                  0.006503         59.666667\n",
       "31   0.000361                  0.006487          1.924731\n",
       "114  0.001327                  0.006262          0.523392\n",
       "22   0.000256                  0.006189          2.712121"
      ]
     },
     "execution_count": 57,
     "metadata": {},
     "output_type": "execute_result"
    }
   ],
   "source": [
    "pm1_ecq_spec.sort_values(by = 'abs_fourier_coeff_square', ascending = False).head(30)"
   ]
  },
  {
   "cell_type": "code",
   "execution_count": 10,
   "id": "5eab1f85-4622-49ef-a369-3e945f7cf8f6",
   "metadata": {
    "tags": []
   },
   "outputs": [
    {
     "data": {
      "text/plain": [
       "<matplotlib.legend.Legend at 0x7f2545750af0>"
      ]
     },
     "execution_count": 10,
     "metadata": {},
     "output_type": "execute_result"
    },
    {
     "data": {
      "image/png": "[encoded data removed]",
      "text/plain": [
       "<Figure size 640x480 with 1 Axes>"
      ]
     },
     "metadata": {},
     "output_type": "display_data"
    }
   ],
   "source": [
    "fig, ax = plt.subplots()\n",
    "ax.plot(pm1_ecq_spec.freq, pm1_ecq_spec.abs_fourier_coeff_square, 'k.', label = '$PM_{1}$')\n",
    "ax.set_xlim(-0.00005, 0.001)\n",
    "ax.set_xlabel('Frequency (1/minute)')\n",
    "ax.set_ylabel('$|X_k|^2$')\n",
    "# ax.vlines(1/(pm10_freq_dom.sort_values('abs_fourier_coeff_square', ascending= False).iloc[0,-1] *24*60)\n",
    "#           , 0, 0.15, linestyle = 'dotted', label = '104 days', color = 'gray')\n",
    "# ax.vlines(1/(1*7*24*60), 0, 0.15, linestyle = 'dashed', label = '1 wk', color = 'gray')\n",
    "ax.vlines(1/(29.83*24*60), 0, 0.28, linestyle = 'dashdot', label = '29.83 days', color = 'green')\n",
    "ax.vlines(1/(0.99*24*60), 0, 0.28, linestyle = 'dotted', label = '0.99 days', color = 'blue')\n",
    "ax.vlines(1/(3.98*24*60), 0, 0.28, linestyle = 'dotted', label = '3.98 days', color = 'red')\n",
    "ax.vlines(1/(2.98*24*60), 0, 0.28, linestyle = 'dotted', label = '2.98 days', color = 'gray')\n",
    "ax.vlines(1/(0.33*24*60), 0, 0.28, linestyle = 'dotted', label = '0.33 days', color = 'brown')\n",
    "ax.vlines(1/(8.52*24*60), 0, 0.28, linestyle = 'dotted', label = '8.52 days', color = 'orange')\n",
    "ax.vlines(1/(3.51*24*60), 0, 0.28, linestyle = 'dotted', label = '3.51 days', color = 'cyan')\n",
    "ax.vlines(1/(0.50*24*60), 0, 0.28, linestyle = 'dotted', label = 'half day', color = 'olive')\n",
    "ax.vlines(1/(0.98*24*60), 0, 0.28, linestyle = 'dotted', label = '0.98 days', color = 'purple')\n",
    "# ax.xaxis.set_major_locator(MultipleLocator(0.0001))\n",
    "# ax.xaxis.set_major_formatter(FormatStrFormatter('%d'))\n",
    "\n",
    "# # For the minor ticks, use no labels; default NullFormatter.\n",
    "# ax.xaxis.set_minor_locator(MultipleLocator(2))\n",
    "ax.xaxis.set_minor_locator(AutoMinorLocator())\n",
    "ax.legend()"
   ]
  },
  {
   "cell_type": "markdown",
   "id": "8533cbf1-fb49-41f1-b50a-8f563e23d5e5",
   "metadata": {},
   "source": [
    "## PM2.5 ECQ"
   ]
  },
  {
   "cell_type": "code",
   "execution_count": 58,
   "id": "acb83386-cda6-4883-89c1-b9032e8bc93a",
   "metadata": {
    "tags": []
   },
   "outputs": [
    {
     "data": {
      "text/plain": [
       "'\\\\begin{tabular}{lrrr}\\n & freq & abs_fourier_coeff_square & period (in days) \\\\\\\\\\n2 & 0.000023 & 0.110404 & 29.833333 \\\\\\\\\\n60 & 0.000698 & 0.063404 & 0.994444 \\\\\\\\\\n15 & 0.000175 & 0.034722 & 3.977778 \\\\\\\\\\n20 & 0.000233 & 0.026590 & 2.983333 \\\\\\\\\\n179 & 0.002083 & 0.022600 & 0.333333 \\\\\\\\\\n7 & 0.000081 & 0.022332 & 8.523810 \\\\\\\\\\n119 & 0.001385 & 0.017245 & 0.501401 \\\\\\\\\\n17 & 0.000198 & 0.015231 & 3.509804 \\\\\\\\\\n9 & 0.000105 & 0.015135 & 6.629630 \\\\\\\\\\n61 & 0.000710 & 0.014411 & 0.978142 \\\\\\\\\\n8 & 0.000093 & 0.012798 & 7.458333 \\\\\\\\\\n46 & 0.000535 & 0.011505 & 1.297101 \\\\\\\\\\n50 & 0.000582 & 0.011137 & 1.193333 \\\\\\\\\\n4 & 0.000047 & 0.010995 & 14.916667 \\\\\\\\\\n3 & 0.000035 & 0.010318 & 19.888889 \\\\\\\\\\n19 & 0.000221 & 0.010005 & 3.140351 \\\\\\\\\\n64 & 0.000745 & 0.009118 & 0.932292 \\\\\\\\\\n38 & 0.000442 & 0.008158 & 1.570175 \\\\\\\\\\n28 & 0.000326 & 0.008025 & 2.130952 \\\\\\\\\\n239 & 0.002782 & 0.007696 & 0.249651 \\\\\\\\\\n59 & 0.000687 & 0.007608 & 1.011299 \\\\\\\\\\n48 & 0.000559 & 0.007406 & 1.243056 \\\\\\\\\\n16 & 0.000186 & 0.007150 & 3.729167 \\\\\\\\\\n106 & 0.001234 & 0.006946 & 0.562893 \\\\\\\\\\n120 & 0.001397 & 0.006467 & 0.497222 \\\\\\\\\\n18 & 0.000209 & 0.006204 & 3.314815 \\\\\\\\\\n114 & 0.001327 & 0.006013 & 0.523392 \\\\\\\\\\n31 & 0.000361 & 0.005972 & 1.924731 \\\\\\\\\\n6 & 0.000070 & 0.005874 & 9.944444 \\\\\\\\\\n22 & 0.000256 & 0.005788 & 2.712121 \\\\\\\\\\n\\\\end{tabular}\\n'"
      ]
     },
     "execution_count": 58,
     "metadata": {},
     "output_type": "execute_result"
    }
   ],
   "source": [
    "pm25_ecq_spec.sort_values(by = 'abs_fourier_coeff_square', ascending = False).head(30).style.to_latex()"
   ]
  },
  {
   "cell_type": "code",
   "execution_count": 11,
   "id": "35783dc9-e4b5-4283-9a71-1c99108f8792",
   "metadata": {
    "tags": []
   },
   "outputs": [
    {
     "data": {
      "text/plain": [
       "<matplotlib.legend.Legend at 0x7f2547d79c30>"
      ]
     },
     "execution_count": 11,
     "metadata": {},
     "output_type": "execute_result"
    },
    {
     "data": {
      "image/png": "[encoded data removed]",
      "text/plain": [
       "<Figure size 640x480 with 1 Axes>"
      ]
     },
     "metadata": {},
     "output_type": "display_data"
    }
   ],
   "source": [
    "fig, ax = plt.subplots()\n",
    "ax.plot(pm25_ecq_spec.freq, pm25_ecq_spec.abs_fourier_coeff_square, 'k.', label = '$PM_{2.5}$')\n",
    "ax.set_xlim(-0.00005, 0.001)\n",
    "ax.set_xlabel('Frequency (1/minute)')\n",
    "ax.set_ylabel('$|X_k|^2$')\n",
    "# ax.vlines(1/(pm10_freq_dom.sort_values('abs_fourier_coeff_square', ascending= False).iloc[0,-1] *24*60)\n",
    "#           , 0, 0.15, linestyle = 'dotted', label = '104 days', color = 'gray')\n",
    "# ax.vlines(1/(1*7*24*60), 0, 0.15, linestyle = 'dashed', label = '1 wk', color = 'gray')\n",
    "ax.vlines(1/(1*24*60), 0, 0.28, linestyle = 'dashdot', label = '1 day', color = 'gray')\n",
    "# ax.xaxis.set_major_locator(MultipleLocator(0.0001))\n",
    "# ax.xaxis.set_major_formatter(FormatStrFormatter('%d'))\n",
    "\n",
    "# # For the minor ticks, use no labels; default NullFormatter.\n",
    "# ax.xaxis.set_minor_locator(MultipleLocator(2))\n",
    "ax.xaxis.set_minor_locator(AutoMinorLocator())\n",
    "ax.legend()"
   ]
  },
  {
   "cell_type": "markdown",
   "id": "b71e4b87-64d6-44e2-a084-ed049d734af0",
   "metadata": {},
   "source": [
    "## PM10 ECQ"
   ]
  },
  {
   "cell_type": "code",
   "execution_count": 59,
   "id": "7e5a9494-2287-4002-9f66-291396e493ae",
   "metadata": {
    "tags": []
   },
   "outputs": [
    {
     "data": {
      "text/plain": [
       "'\\\\begin{tabular}{lrrr}\\n & freq & abs_fourier_coeff_square & period (in days) \\\\\\\\\\n2 & 0.000023 & 0.071919 & 29.833333 \\\\\\\\\\n60 & 0.000698 & 0.035892 & 0.994444 \\\\\\\\\\n15 & 0.000175 & 0.023388 & 3.977778 \\\\\\\\\\n7 & 0.000081 & 0.019879 & 8.523810 \\\\\\\\\\n20 & 0.000233 & 0.016900 & 2.983333 \\\\\\\\\\n9 & 0.000105 & 0.013908 & 6.629630 \\\\\\\\\\n179 & 0.002083 & 0.013403 & 0.333333 \\\\\\\\\\n119 & 0.001385 & 0.011454 & 0.501401 \\\\\\\\\\n61 & 0.000710 & 0.010860 & 0.978142 \\\\\\\\\\n50 & 0.000582 & 0.007899 & 1.193333 \\\\\\\\\\n3 & 0.000035 & 0.007647 & 19.888889 \\\\\\\\\\n17 & 0.000198 & 0.006865 & 3.509804 \\\\\\\\\\n46 & 0.000535 & 0.006608 & 1.297101 \\\\\\\\\\n8 & 0.000093 & 0.006594 & 7.458333 \\\\\\\\\\n19 & 0.000221 & 0.006499 & 3.140351 \\\\\\\\\\n38 & 0.000442 & 0.006167 & 1.570175 \\\\\\\\\\n239 & 0.002782 & 0.005943 & 0.249651 \\\\\\\\\\n4 & 0.000047 & 0.005755 & 14.916667 \\\\\\\\\\n106 & 0.001234 & 0.005432 & 0.562893 \\\\\\\\\\n64 & 0.000745 & 0.005341 & 0.932292 \\\\\\\\\\n48 & 0.000559 & 0.005123 & 1.243056 \\\\\\\\\\n28 & 0.000326 & 0.004500 & 2.130952 \\\\\\\\\\n16 & 0.000186 & 0.004272 & 3.729167 \\\\\\\\\\n52 & 0.000605 & 0.004108 & 1.147436 \\\\\\\\\\n36 & 0.000419 & 0.004099 & 1.657407 \\\\\\\\\\n6 & 0.000070 & 0.004045 & 9.944444 \\\\\\\\\\n73 & 0.000850 & 0.003949 & 0.817352 \\\\\\\\\\n31 & 0.000361 & 0.003922 & 1.924731 \\\\\\\\\\n18 & 0.000209 & 0.003863 & 3.314815 \\\\\\\\\\n114 & 0.001327 & 0.003849 & 0.523392 \\\\\\\\\\n\\\\end{tabular}\\n'"
      ]
     },
     "execution_count": 59,
     "metadata": {},
     "output_type": "execute_result"
    }
   ],
   "source": [
    "pm10_ecq_spec.sort_values(by = 'abs_fourier_coeff_square', ascending = False).head(30).style.to_latex()"
   ]
  },
  {
   "cell_type": "code",
   "execution_count": 12,
   "id": "d44d9f65-657a-4b4e-bb6e-6cf9a0900d87",
   "metadata": {
    "tags": []
   },
   "outputs": [
    {
     "data": {
      "text/plain": [
       "<matplotlib.legend.Legend at 0x7f2547dbbfa0>"
      ]
     },
     "execution_count": 12,
     "metadata": {},
     "output_type": "execute_result"
    },
    {
     "data": {
      "image/png": "[encoded data removed]",
      "text/plain": [
       "<Figure size 640x480 with 1 Axes>"
      ]
     },
     "metadata": {},
     "output_type": "display_data"
    }
   ],
   "source": [
    "fig, ax = plt.subplots()\n",
    "ax.plot(pm10_ecq_spec.freq, pm10_ecq_spec.abs_fourier_coeff_square, 'k.', label = '$PM_{10}$')\n",
    "ax.set_xlim(-0.00005, 0.001)\n",
    "ax.set_xlabel('Frequency (1/minute)')\n",
    "ax.set_ylabel('$|X_k|^2$')\n",
    "# ax.vlines(1/(pm10_freq_dom.sort_values('abs_fourier_coeff_square', ascending= False).iloc[0,-1] *24*60)\n",
    "#           , 0, 0.15, linestyle = 'dotted', label = '104 days', color = 'gray')\n",
    "# ax.vlines(1/(1*7*24*60), 0, 0.15, linestyle = 'dashed', label = '1 wk', color = 'gray')\n",
    "ax.vlines(1/(1*24*60), 0, 0.28, linestyle = 'dashdot', label = '1 day', color = 'gray')\n",
    "# ax.xaxis.set_major_locator(MultipleLocator(0.0001))\n",
    "# ax.xaxis.set_major_formatter(FormatStrFormatter('%d'))\n",
    "\n",
    "# # For the minor ticks, use no labels; default NullFormatter.\n",
    "# ax.xaxis.set_minor_locator(MultipleLocator(2))\n",
    "ax.xaxis.set_minor_locator(AutoMinorLocator())\n",
    "ax.legend()"
   ]
  },
  {
   "cell_type": "code",
   "execution_count": null,
   "id": "6233644c-87c3-4a80-bdb7-bf5dcaaf0114",
   "metadata": {},
   "outputs": [],
   "source": []
  }
 ],
 "metadata": {
  "kernelspec": {
   "display_name": "Python 3 (ipykernel)",
   "language": "python",
   "name": "python3"
  },
  "language_info": {
   "codemirror_mode": {
    "name": "ipython",
    "version": 3
   },
   "file_extension": ".py",
   "mimetype": "text/x-python",
   "name": "python",
   "nbconvert_exporter": "python",
   "pygments_lexer": "ipython3",
   "version": "3.10.10"
  }
 },
 "nbformat": 4,
 "nbformat_minor": 5
}
