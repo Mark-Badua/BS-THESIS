{
 "cells": [
  {
   "cell_type": "markdown",
   "id": "fddb9018-1fa7-449e-935c-0099cdcfc96a",
   "metadata": {},
   "source": [
    "In this notebook, I will be discussing and justifying the omission of measurements"
   ]
  },
  {
   "cell_type": "code",
   "execution_count": 1,
   "id": "644b2bb7-45d0-4e69-88a7-0f9ad74ce54e",
   "metadata": {
    "tags": []
   },
   "outputs": [],
   "source": [
    "import numpy as np\n",
    "import matplotlib.pyplot as plt\n",
    "import pandas as pd\n",
    "from cleaning import *"
   ]
  },
  {
   "cell_type": "markdown",
   "id": "56247076-c4cc-4671-af8d-40b7be0681c4",
   "metadata": {},
   "source": [
    "Inside `cleaning.py`, there are three functions:\n",
    "\n",
    "1. `dropped_pts` returns the omitted measurements and their corresponding timestamps\n",
    "2. `remove_rows` returns a boolean series that is to be used as boolean index to omit the measurements\n",
    "3. `clean` returns two "
   ]
  },
  {
   "cell_type": "code",
   "execution_count": 2,
   "id": "03cd378c-6c17-4d39-9d8d-d274c689e1f8",
   "metadata": {
    "tags": []
   },
   "outputs": [],
   "source": [
    "df = pd.read_csv(r'/home/jovyan/complete_data.csv', index_col = 0, parse_dates =  True)\n",
    "pm_col = [' PM10 (µg/m^3)', ' PM2.5 (µg/m^3)', ' PM1 (µg/m^3)']\n",
    "pm = df[pm_col]\n",
    "pm_newyear = pm['2019-12-31 12':'2020-01-01 06']"
   ]
  },
  {
   "cell_type": "code",
   "execution_count": 3,
   "id": "d9d3cbea-5209-4103-84b1-8678e7d1f3b1",
   "metadata": {
    "tags": []
   },
   "outputs": [
    {
     "data": {
      "text/plain": [
       "Index([' PM10 (µg/m^3)', ' PM2.5 (µg/m^3)', ' PM1 (µg/m^3)'], dtype='object')"
      ]
     },
     "execution_count": 3,
     "metadata": {},
     "output_type": "execute_result"
    }
   ],
   "source": [
    "pm.columns"
   ]
  },
  {
   "cell_type": "code",
   "execution_count": 6,
   "id": "79ecb6d5-6cd2-4b72-a8a2-70e4938e7faf",
   "metadata": {
    "tags": []
   },
   "outputs": [],
   "source": [
    "pm10_clean, pm10_removed = clean(pm, ' PM10 (µg/m^3)')\n",
    "pm25_clean, pm25_removed = clean(pm, ' PM2.5 (µg/m^3)')\n",
    "pm1_clean, pm1_removed = clean(pm, ' PM1 (µg/m^3)')"
   ]
  },
  {
   "cell_type": "code",
   "execution_count": 8,
   "id": "d64f699e-b424-402a-b957-8d4895bcb630",
   "metadata": {
    "tags": []
   },
   "outputs": [
    {
     "data": {
      "text/plain": [
       "(247945,)"
      ]
     },
     "execution_count": 8,
     "metadata": {},
     "output_type": "execute_result"
    }
   ],
   "source": [
    "pm10_clean.shape"
   ]
  },
  {
   "cell_type": "code",
   "execution_count": 9,
   "id": "e3c56c4d-1c65-4050-ad9f-0fbb835f81dc",
   "metadata": {
    "tags": []
   },
   "outputs": [
    {
     "data": {
      "text/plain": [
       "(248153,)"
      ]
     },
     "execution_count": 9,
     "metadata": {},
     "output_type": "execute_result"
    }
   ],
   "source": [
    "pm25_clean.shape"
   ]
  },
  {
   "cell_type": "code",
   "execution_count": 10,
   "id": "d71a0d77-9b4f-4b8a-a563-4f991faf8ded",
   "metadata": {
    "tags": []
   },
   "outputs": [
    {
     "data": {
      "text/plain": [
       "(248169,)"
      ]
     },
     "execution_count": 10,
     "metadata": {},
     "output_type": "execute_result"
    }
   ],
   "source": [
    "pm1_clean.shape"
   ]
  },
  {
   "cell_type": "code",
   "execution_count": 24,
   "id": "78015f69-d188-4972-8025-11e8a7dbee62",
   "metadata": {
    "tags": []
   },
   "outputs": [],
   "source": [
    "pm10 = pd.read_csv(r'/home/jovyan/slope method/pm10.csv',index_col = 0, parse_dates = True)\n",
    "pm25 = pd.read_csv(r'/home/jovyan/slope method/pm25.csv',index_col = 0, parse_dates = True)\n",
    "pm1 = pd.read_csv('/home/jovyan/slope method/pm1.csv',index_col = 0, parse_dates = True)"
   ]
  },
  {
   "cell_type": "code",
   "execution_count": 26,
   "id": "da28c3b2-a7a6-4b03-b9bf-82069ce70c62",
   "metadata": {
    "tags": []
   },
   "outputs": [
    {
     "data": {
      "text/plain": [
       "(247945,)"
      ]
     },
     "execution_count": 26,
     "metadata": {},
     "output_type": "execute_result"
    }
   ],
   "source": [
    "pm10_clean.shape"
   ]
  },
  {
   "cell_type": "code",
   "execution_count": 25,
   "id": "4fc5f28c-5a32-4855-8e4c-0b870f19d5c7",
   "metadata": {
    "tags": []
   },
   "outputs": [
    {
     "data": {
      "text/plain": [
       "(247946, 1)"
      ]
     },
     "execution_count": 25,
     "metadata": {},
     "output_type": "execute_result"
    }
   ],
   "source": [
    "pm10.shape"
   ]
  },
  {
   "cell_type": "code",
   "execution_count": 17,
   "id": "109a3219-f6ac-479e-b97e-0517405c7092",
   "metadata": {
    "tags": []
   },
   "outputs": [
    {
     "data": {
      "text/plain": [
       "248153"
      ]
     },
     "execution_count": 17,
     "metadata": {},
     "output_type": "execute_result"
    }
   ],
   "source": [
    "(pm25.index == pm25_clean.index).sum()"
   ]
  },
  {
   "cell_type": "code",
   "execution_count": 22,
   "id": "6b280558-0c0f-46bf-8621-ba093709ac2e",
   "metadata": {
    "tags": []
   },
   "outputs": [
    {
     "data": {
      "text/plain": [
       "248169"
      ]
     },
     "execution_count": 22,
     "metadata": {},
     "output_type": "execute_result"
    }
   ],
   "source": [
    "(pm1.index == pm1_clean.index).sum()"
   ]
  },
  {
   "cell_type": "code",
   "execution_count": 23,
   "id": "61816fa5-595e-475b-a248-3748e8af01c1",
   "metadata": {
    "tags": []
   },
   "outputs": [
    {
     "data": {
      "text/plain": [
       "2019-12-28 06:50:00    13.716\n",
       "2019-12-28 06:51:00    19.175\n",
       "2019-12-28 06:52:00    15.716\n",
       "2019-12-28 06:53:00    12.816\n",
       "2019-12-28 06:54:00     9.675\n",
       "                        ...  \n",
       "2020-07-09 03:32:53     9.400\n",
       "2020-07-09 03:33:54    10.100\n",
       "2020-07-09 03:34:53     9.300\n",
       "2020-07-09 03:35:53     9.000\n",
       "2020-07-09 03:36:53    13.600\n",
       "Name:  PM10 (µg/m^3), Length: 247945, dtype: float64"
      ]
     },
     "execution_count": 23,
     "metadata": {},
     "output_type": "execute_result"
    }
   ],
   "source": [
    "pm10_clean"
   ]
  },
  {
   "cell_type": "code",
   "execution_count": null,
   "id": "733a8daf-3372-475d-98f7-0363bb1b8f22",
   "metadata": {},
   "outputs": [],
   "source": []
  }
 ],
 "metadata": {
  "kernelspec": {
   "display_name": "Python 3 (ipykernel)",
   "language": "python",
   "name": "python3"
  },
  "language_info": {
   "codemirror_mode": {
    "name": "ipython",
    "version": 3
   },
   "file_extension": ".py",
   "mimetype": "text/x-python",
   "name": "python",
   "nbconvert_exporter": "python",
   "pygments_lexer": "ipython3",
   "version": "3.10.10"
  }
 },
 "nbformat": 4,
 "nbformat_minor": 5
}
